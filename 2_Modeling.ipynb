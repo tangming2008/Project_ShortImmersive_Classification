{
 "cells": [
  {
   "cell_type": "markdown",
   "metadata": {},
   "source": [
    "# Note\n",
    "* **Objective**: predict the covid test results\n",
    "* The major aim is to optimize the **recall** (few false negative, FN: positive (covid-infected) cases wrongly predicted as negative)\n",
    "* Only 100,000 rows of data is loaded for the sake of modeling speed\n",
    "* Many lines of script in this notebook are taken from [Metis bootcamp](https://www.thisismetis.com/) teaching materials"
   ]
  },
  {
   "cell_type": "markdown",
   "metadata": {},
   "source": [
    "# - - - Part 1: Prepare data - - -"
   ]
  },
  {
   "cell_type": "markdown",
   "metadata": {},
   "source": [
    "# Load packages"
   ]
  },
  {
   "cell_type": "code",
   "execution_count": 1,
   "metadata": {},
   "outputs": [],
   "source": [
    "import numpy as np\n",
    "import pandas as pd\n",
    "from scipy import stats\n",
    "\n",
    "import itertools\n",
    "import warnings\n",
    "warnings.filterwarnings(\"ignore\")\n",
    "\n",
    "# for pandas\n",
    "pd.set_option('display.max_columns', None)\n",
    "pd.set_option('display.max_rows', 25)\n",
    "pd.set_option('display.precision', 3)\n",
    "pd.options.display.max_rows = 500 # display max rows\n",
    "# pd.options.display.float_format = '{:.2f}'.format #supress scientific notation\n",
    "\n",
    "# display full output in Jupyter, not only last result.\n",
    "from IPython.core.interactiveshell import InteractiveShell\n",
    "InteractiveShell.ast_node_interactivity = \"all\"\n",
    "\n",
    "# sklearn - data preparation\n",
    "from sklearn import preprocessing\n",
    "from sklearn.preprocessing import StandardScaler\n",
    "from sklearn.model_selection import train_test_split\n",
    "from sklearn.model_selection import cross_val_score\n",
    "from sklearn.model_selection import RepeatedStratifiedKFold\n",
    "\n",
    "# sklearn - classification models\n",
    "from sklearn.linear_model import LogisticRegression, RidgeClassifier\n",
    "from sklearn.neighbors import KNeighborsClassifier\n",
    "from sklearn.svm import SVC\n",
    "from sklearn.tree import DecisionTreeClassifier\n",
    "from sklearn.naive_bayes import GaussianNB\n",
    "\n",
    "from sklearn.ensemble import BaggingClassifier\n",
    "from sklearn.ensemble import RandomForestClassifier\n",
    "from sklearn.ensemble import GradientBoostingClassifier\n",
    "from sklearn.ensemble import ExtraTreesClassifier, VotingClassifier\n",
    "\n",
    "from mlxtend.classifier import StackingClassifier\n",
    "\n",
    "# evaluation metrics\n",
    "from sklearn import metrics\n",
    "from sklearn.metrics import confusion_matrix, precision_score, recall_score, f1_score, accuracy_score, roc_auc_score\n",
    "from sklearn.model_selection import learning_curve, GridSearchCV\n",
    "\n",
    "# plotting\n",
    "import matplotlib.pyplot as plt\n",
    "%matplotlib inline\n",
    "import seaborn as sns\n",
    "# from plot import *\n",
    "\n",
    "# plt.figure(figsize=(12,12), dpi=200)"
   ]
  },
  {
   "cell_type": "code",
   "execution_count": 2,
   "metadata": {},
   "outputs": [
    {
     "name": "stdout",
     "output_type": "stream",
     "text": [
      "Python Version: 3.7.1 (default, Oct 28 2018, 08:39:03) [MSC v.1912 64 bit (AMD64)] \n",
      "\n",
      "Matplotlib Version: 3.1.3\n",
      "Numpy Version: 1.20.1\n",
      "Pandas Version: 1.2.4\n",
      "Sklearn Version: 0.24.1\n"
     ]
    }
   ],
   "source": [
    "import sklearn\n",
    "import sys\n",
    "import matplotlib\n",
    "\n",
    "libraries = (('Matplotlib', matplotlib), ('Numpy', np), ('Pandas', pd), ('Sklearn', sklearn))\n",
    "\n",
    "print(\"Python Version:\", sys.version, '\\n')\n",
    "for lib in libraries:\n",
    "    print('{0} Version: {1}'.format(lib[0], lib[1].__version__))"
   ]
  },
  {
   "cell_type": "markdown",
   "metadata": {},
   "source": [
    "# Data preparation\n",
    "Here are some variables and data that will be used throughout this script\n",
    "* `df_model`, `X`, `y`: cleaned dataframe\n",
    "* `X_train`, `T_test`, `y_train`, `y_test`: split and scaled dataset for modeling\n",
    "* `df_train`=`X_train`+`y_train`,  `df_test`=`X_test`+`y_test`\n",
    "* `col_X`, `col_y`: columns for features and target"
   ]
  },
  {
   "cell_type": "markdown",
   "metadata": {},
   "source": [
    "## df_model\n",
    "* load the cleaned dataset and save as `df_model` for future use\n",
    "* requirement: first N-1 columns as features, the last Nth column as the target"
   ]
  },
  {
   "cell_type": "code",
   "execution_count": 3,
   "metadata": {},
   "outputs": [
    {
     "name": "stdout",
     "output_type": "stream",
     "text": [
      "(10000, 10)\n"
     ]
    },
    {
     "data": {
      "text/html": [
       "<div>\n",
       "<style scoped>\n",
       "    .dataframe tbody tr th:only-of-type {\n",
       "        vertical-align: middle;\n",
       "    }\n",
       "\n",
       "    .dataframe tbody tr th {\n",
       "        vertical-align: top;\n",
       "    }\n",
       "\n",
       "    .dataframe thead th {\n",
       "        text-align: right;\n",
       "    }\n",
       "</style>\n",
       "<table border=\"1\" class=\"dataframe\">\n",
       "  <thead>\n",
       "    <tr style=\"text-align: right;\">\n",
       "      <th></th>\n",
       "      <th>cough</th>\n",
       "      <th>fever</th>\n",
       "      <th>sore_throat</th>\n",
       "      <th>shortness_of_breath</th>\n",
       "      <th>head_ache</th>\n",
       "      <th>age_60_and_above</th>\n",
       "      <th>gender</th>\n",
       "      <th>contact_with_confirmed</th>\n",
       "      <th>abroad</th>\n",
       "      <th>corona_result</th>\n",
       "    </tr>\n",
       "  </thead>\n",
       "  <tbody>\n",
       "    <tr>\n",
       "      <th>0</th>\n",
       "      <td>0</td>\n",
       "      <td>0</td>\n",
       "      <td>0</td>\n",
       "      <td>0</td>\n",
       "      <td>0</td>\n",
       "      <td>1</td>\n",
       "      <td>0</td>\n",
       "      <td>0</td>\n",
       "      <td>0</td>\n",
       "      <td>0</td>\n",
       "    </tr>\n",
       "    <tr>\n",
       "      <th>1</th>\n",
       "      <td>0</td>\n",
       "      <td>0</td>\n",
       "      <td>0</td>\n",
       "      <td>0</td>\n",
       "      <td>0</td>\n",
       "      <td>0</td>\n",
       "      <td>0</td>\n",
       "      <td>0</td>\n",
       "      <td>0</td>\n",
       "      <td>0</td>\n",
       "    </tr>\n",
       "    <tr>\n",
       "      <th>2</th>\n",
       "      <td>0</td>\n",
       "      <td>0</td>\n",
       "      <td>0</td>\n",
       "      <td>0</td>\n",
       "      <td>0</td>\n",
       "      <td>0</td>\n",
       "      <td>0</td>\n",
       "      <td>0</td>\n",
       "      <td>0</td>\n",
       "      <td>0</td>\n",
       "    </tr>\n",
       "    <tr>\n",
       "      <th>3</th>\n",
       "      <td>0</td>\n",
       "      <td>0</td>\n",
       "      <td>0</td>\n",
       "      <td>0</td>\n",
       "      <td>0</td>\n",
       "      <td>0</td>\n",
       "      <td>0</td>\n",
       "      <td>0</td>\n",
       "      <td>0</td>\n",
       "      <td>1</td>\n",
       "    </tr>\n",
       "    <tr>\n",
       "      <th>4</th>\n",
       "      <td>0</td>\n",
       "      <td>0</td>\n",
       "      <td>0</td>\n",
       "      <td>0</td>\n",
       "      <td>0</td>\n",
       "      <td>0</td>\n",
       "      <td>1</td>\n",
       "      <td>0</td>\n",
       "      <td>0</td>\n",
       "      <td>0</td>\n",
       "    </tr>\n",
       "  </tbody>\n",
       "</table>\n",
       "</div>"
      ],
      "text/plain": [
       "   cough  fever  sore_throat  shortness_of_breath  head_ache  \\\n",
       "0      0      0            0                    0          0   \n",
       "1      0      0            0                    0          0   \n",
       "2      0      0            0                    0          0   \n",
       "3      0      0            0                    0          0   \n",
       "4      0      0            0                    0          0   \n",
       "\n",
       "   age_60_and_above  gender  contact_with_confirmed  abroad  corona_result  \n",
       "0                 1       0                       0       0              0  \n",
       "1                 0       0                       0       0              0  \n",
       "2                 0       0                       0       0              0  \n",
       "3                 0       0                       0       0              1  \n",
       "4                 0       1                       0       0              0  "
      ]
     },
     "execution_count": 3,
     "metadata": {},
     "output_type": "execute_result"
    }
   ],
   "source": [
    "## - - - Covid dataset - - -\n",
    "df = pd.read_pickle('data/' + 'df_covid_100000rows.pkl')\n",
    "df = df.sample(10000) # use this for time saving\n",
    "\n",
    "print(df.shape)\n",
    "\n",
    "df = df.reset_index(drop = True)\n",
    "\n",
    "df_model = df\n",
    "\n",
    "df.head()"
   ]
  },
  {
   "cell_type": "code",
   "execution_count": 4,
   "metadata": {},
   "outputs": [
    {
     "name": "stdout",
     "output_type": "stream",
     "text": [
      "<class 'pandas.core.frame.DataFrame'>\n",
      "RangeIndex: 10000 entries, 0 to 9999\n",
      "Data columns (total 10 columns):\n",
      " #   Column                  Non-Null Count  Dtype\n",
      "---  ------                  --------------  -----\n",
      " 0   cough                   10000 non-null  int32\n",
      " 1   fever                   10000 non-null  int32\n",
      " 2   sore_throat             10000 non-null  int32\n",
      " 3   shortness_of_breath     10000 non-null  int32\n",
      " 4   head_ache               10000 non-null  int32\n",
      " 5   age_60_and_above        10000 non-null  int64\n",
      " 6   gender                  10000 non-null  int64\n",
      " 7   contact_with_confirmed  10000 non-null  int64\n",
      " 8   abroad                  10000 non-null  int64\n",
      " 9   corona_result           10000 non-null  int64\n",
      "dtypes: int32(5), int64(5)\n",
      "memory usage: 586.1 KB\n"
     ]
    }
   ],
   "source": [
    "df = df_model\n",
    "\n",
    "df.info()"
   ]
  },
  {
   "cell_type": "code",
   "execution_count": 5,
   "metadata": {},
   "outputs": [
    {
     "data": {
      "text/html": [
       "<div>\n",
       "<style scoped>\n",
       "    .dataframe tbody tr th:only-of-type {\n",
       "        vertical-align: middle;\n",
       "    }\n",
       "\n",
       "    .dataframe tbody tr th {\n",
       "        vertical-align: top;\n",
       "    }\n",
       "\n",
       "    .dataframe thead th {\n",
       "        text-align: right;\n",
       "    }\n",
       "</style>\n",
       "<table border=\"1\" class=\"dataframe\">\n",
       "  <thead>\n",
       "    <tr style=\"text-align: right;\">\n",
       "      <th></th>\n",
       "      <th></th>\n",
       "      <th>counts</th>\n",
       "    </tr>\n",
       "    <tr>\n",
       "      <th>column</th>\n",
       "      <th>value</th>\n",
       "      <th></th>\n",
       "    </tr>\n",
       "  </thead>\n",
       "  <tbody>\n",
       "    <tr>\n",
       "      <th rowspan=\"2\" valign=\"top\">abroad</th>\n",
       "      <th>1</th>\n",
       "      <td>145</td>\n",
       "    </tr>\n",
       "    <tr>\n",
       "      <th>0</th>\n",
       "      <td>9855</td>\n",
       "    </tr>\n",
       "    <tr>\n",
       "      <th rowspan=\"2\" valign=\"top\">age_60_and_above</th>\n",
       "      <th>1</th>\n",
       "      <td>1301</td>\n",
       "    </tr>\n",
       "    <tr>\n",
       "      <th>0</th>\n",
       "      <td>8699</td>\n",
       "    </tr>\n",
       "    <tr>\n",
       "      <th rowspan=\"2\" valign=\"top\">contact_with_confirmed</th>\n",
       "      <th>1</th>\n",
       "      <td>666</td>\n",
       "    </tr>\n",
       "    <tr>\n",
       "      <th>0</th>\n",
       "      <td>9334</td>\n",
       "    </tr>\n",
       "    <tr>\n",
       "      <th rowspan=\"2\" valign=\"top\">corona_result</th>\n",
       "      <th>1</th>\n",
       "      <td>957</td>\n",
       "    </tr>\n",
       "    <tr>\n",
       "      <th>0</th>\n",
       "      <td>9043</td>\n",
       "    </tr>\n",
       "    <tr>\n",
       "      <th rowspan=\"2\" valign=\"top\">cough</th>\n",
       "      <th>1</th>\n",
       "      <td>510</td>\n",
       "    </tr>\n",
       "    <tr>\n",
       "      <th>0</th>\n",
       "      <td>9490</td>\n",
       "    </tr>\n",
       "    <tr>\n",
       "      <th rowspan=\"2\" valign=\"top\">fever</th>\n",
       "      <th>1</th>\n",
       "      <td>442</td>\n",
       "    </tr>\n",
       "    <tr>\n",
       "      <th>0</th>\n",
       "      <td>9558</td>\n",
       "    </tr>\n",
       "    <tr>\n",
       "      <th rowspan=\"2\" valign=\"top\">gender</th>\n",
       "      <th>1</th>\n",
       "      <td>4806</td>\n",
       "    </tr>\n",
       "    <tr>\n",
       "      <th>0</th>\n",
       "      <td>5194</td>\n",
       "    </tr>\n",
       "    <tr>\n",
       "      <th rowspan=\"2\" valign=\"top\">head_ache</th>\n",
       "      <th>1</th>\n",
       "      <td>260</td>\n",
       "    </tr>\n",
       "    <tr>\n",
       "      <th>0</th>\n",
       "      <td>9740</td>\n",
       "    </tr>\n",
       "    <tr>\n",
       "      <th rowspan=\"2\" valign=\"top\">shortness_of_breath</th>\n",
       "      <th>1</th>\n",
       "      <td>43</td>\n",
       "    </tr>\n",
       "    <tr>\n",
       "      <th>0</th>\n",
       "      <td>9957</td>\n",
       "    </tr>\n",
       "    <tr>\n",
       "      <th rowspan=\"2\" valign=\"top\">sore_throat</th>\n",
       "      <th>1</th>\n",
       "      <td>127</td>\n",
       "    </tr>\n",
       "    <tr>\n",
       "      <th>0</th>\n",
       "      <td>9873</td>\n",
       "    </tr>\n",
       "  </tbody>\n",
       "</table>\n",
       "</div>"
      ],
      "text/plain": [
       "                              counts\n",
       "column                 value        \n",
       "abroad                 1         145\n",
       "                       0        9855\n",
       "age_60_and_above       1        1301\n",
       "                       0        8699\n",
       "contact_with_confirmed 1         666\n",
       "                       0        9334\n",
       "corona_result          1         957\n",
       "                       0        9043\n",
       "cough                  1         510\n",
       "                       0        9490\n",
       "fever                  1         442\n",
       "                       0        9558\n",
       "gender                 1        4806\n",
       "                       0        5194\n",
       "head_ache              1         260\n",
       "                       0        9740\n",
       "shortness_of_breath    1          43\n",
       "                       0        9957\n",
       "sore_throat            1         127\n",
       "                       0        9873"
      ]
     },
     "execution_count": 5,
     "metadata": {},
     "output_type": "execute_result"
    }
   ],
   "source": [
    "# value_counts for all columns, only works for pandas > 1.1.0\n",
    "\n",
    "df = df_model\n",
    "\n",
    "cat_cols = df.columns.tolist()\n",
    "(pd.DataFrame(\n",
    "    df[cat_cols]\n",
    "    .melt(var_name='column', value_name='value')\n",
    "    .value_counts())\n",
    ".rename(columns={0: 'counts'})\n",
    ".sort_values(by=['column', 'counts']))"
   ]
  },
  {
   "cell_type": "markdown",
   "metadata": {},
   "source": [
    "## X/y split, `col_X`, `col_y`\n",
    "* `col_X` and `col_y` will be used through out this script for the classification training\n",
    "* specific format for the `df_model`: totally N columns, first N-1 columns for feature and right-most column for target"
   ]
  },
  {
   "cell_type": "code",
   "execution_count": 6,
   "metadata": {},
   "outputs": [
    {
     "name": "stdout",
     "output_type": "stream",
     "text": [
      "features: ['cough', 'fever', 'sore_throat', 'shortness_of_breath', 'head_ache', 'age_60_and_above', 'gender', 'contact_with_confirmed', 'abroad']\n",
      "target: ['corona_result']\n"
     ]
    },
    {
     "data": {
      "text/plain": [
       "0    9043\n",
       "1     957\n",
       "Name: corona_result, dtype: int64"
      ]
     },
     "execution_count": 6,
     "metadata": {},
     "output_type": "execute_result"
    },
    {
     "data": {
      "text/plain": [
       "0    0.904\n",
       "1    0.096\n",
       "Name: corona_result, dtype: float64"
      ]
     },
     "execution_count": 6,
     "metadata": {},
     "output_type": "execute_result"
    }
   ],
   "source": [
    "df = df_model\n",
    "\n",
    "col_X = list(df.columns)[0:-1]\n",
    "col_y = list(df.columns)[-1:]\n",
    "\n",
    "print('features:', col_X)\n",
    "print('target:', col_y)\n",
    "\n",
    "X_raw = df[col_X]\n",
    "y = df[col_y]\n",
    "\n",
    "feature_names = col_X\n",
    "target_names = col_y\n",
    "target_values = list(df[col_y[0]].unique())\n",
    "\n",
    "# check target values\n",
    "df[col_y[0]].value_counts(normalize = False)\n",
    "df[col_y[0]].value_counts(normalize = True)"
   ]
  },
  {
   "cell_type": "markdown",
   "metadata": {},
   "source": [
    "## Train/test split (`X_train`, `y_train`, `df_train`)"
   ]
  },
  {
   "cell_type": "code",
   "execution_count": 7,
   "metadata": {},
   "outputs": [],
   "source": [
    "# split X and y into training and testing sets\n",
    "X_train_raw, X_test_raw, y_train, y_test = train_test_split(X_raw, y, test_size=0.2, random_state=42)"
   ]
  },
  {
   "cell_type": "markdown",
   "metadata": {},
   "source": [
    "## Scaling (`X`, `X_train`, `X_test`)"
   ]
  },
  {
   "cell_type": "code",
   "execution_count": 8,
   "metadata": {},
   "outputs": [],
   "source": [
    "# transform as numpy array and transfer back to the datafram\n",
    "from sklearn import preprocessing\n",
    "\n",
    "# scaler = preprocessing.StandardScaler()\n",
    "scaler = preprocessing.MinMaxScaler()\n",
    "\n",
    "X_train_scaled = scaler.fit_transform(X_train_raw.values)\n",
    "X_train = pd.DataFrame(X_train_scaled)\n",
    "X_train.columns = col_X\n",
    "\n",
    "X_test_scaled = scaler.fit_transform(X_test_raw.values)\n",
    "X_test = pd.DataFrame(X_test_scaled)\n",
    "X_test.columns = col_X\n",
    "\n",
    "X_scaled = scaler.fit_transform(X_raw.values)\n",
    "X = pd.DataFrame(X_scaled)\n",
    "X.columns = col_X\n",
    "\n",
    "# save df_train and df_test for some future tests\n",
    "df_train = X_train.copy()\n",
    "df_train[col_y] = y_train.copy()\n",
    "df_test = X_test.copy()\n",
    "df_test[col_y] = y_test.copy()\n",
    "\n",
    "# reset.index\n",
    "X_train = X_train.reset_index(drop=True)\n",
    "X_test = X_test.reset_index(drop=True)\n",
    "y_train = y_train.reset_index(drop=True)\n",
    "y_test = y_test.reset_index(drop=True)\n",
    "\n",
    "# this are non-modified files, which can be used for additional modeling work\n",
    "X_copy, y_copy = X, y\n",
    "X_train_copy, X_test_copy, y_train_copy, y_test_copy = X_train, X_test, y_train, y_test"
   ]
  },
  {
   "cell_type": "markdown",
   "metadata": {},
   "source": [
    "## quick check"
   ]
  },
  {
   "cell_type": "code",
   "execution_count": 9,
   "metadata": {},
   "outputs": [
    {
     "data": {
      "text/plain": [
       "pandas.core.frame.DataFrame"
      ]
     },
     "execution_count": 9,
     "metadata": {},
     "output_type": "execute_result"
    },
    {
     "data": {
      "text/plain": [
       "pandas.core.frame.DataFrame"
      ]
     },
     "execution_count": 9,
     "metadata": {},
     "output_type": "execute_result"
    }
   ],
   "source": [
    "# print the type\n",
    "type(X)\n",
    "type(y)"
   ]
  },
  {
   "cell_type": "code",
   "execution_count": 10,
   "metadata": {},
   "outputs": [
    {
     "name": "stdout",
     "output_type": "stream",
     "text": [
      "(10000, 9) (10000, 1)\n"
     ]
    }
   ],
   "source": [
    "# print the shapes of X and y\n",
    "print(X.shape, y.shape)"
   ]
  },
  {
   "cell_type": "code",
   "execution_count": 11,
   "metadata": {},
   "outputs": [
    {
     "name": "stdout",
     "output_type": "stream",
     "text": [
      "(8000, 9) (2000, 9) (8000, 1) (2000, 1)\n"
     ]
    }
   ],
   "source": [
    "# print the shapes of the new X objects\n",
    "print(X_train.shape, X_test.shape, y_train.shape, y_test.shape)"
   ]
  },
  {
   "cell_type": "code",
   "execution_count": 12,
   "metadata": {},
   "outputs": [
    {
     "name": "stdout",
     "output_type": "stream",
     "text": [
      "(8000, 10) (2000, 10)\n"
     ]
    }
   ],
   "source": [
    "# print the shapes of the data frames\n",
    "print(df_train.shape, df_test.shape)"
   ]
  },
  {
   "cell_type": "code",
   "execution_count": 13,
   "metadata": {},
   "outputs": [
    {
     "data": {
      "text/html": [
       "<div>\n",
       "<style scoped>\n",
       "    .dataframe tbody tr th:only-of-type {\n",
       "        vertical-align: middle;\n",
       "    }\n",
       "\n",
       "    .dataframe tbody tr th {\n",
       "        vertical-align: top;\n",
       "    }\n",
       "\n",
       "    .dataframe thead th {\n",
       "        text-align: right;\n",
       "    }\n",
       "</style>\n",
       "<table border=\"1\" class=\"dataframe\">\n",
       "  <thead>\n",
       "    <tr style=\"text-align: right;\">\n",
       "      <th></th>\n",
       "      <th>cough</th>\n",
       "      <th>fever</th>\n",
       "      <th>sore_throat</th>\n",
       "      <th>shortness_of_breath</th>\n",
       "      <th>head_ache</th>\n",
       "      <th>age_60_and_above</th>\n",
       "      <th>gender</th>\n",
       "      <th>contact_with_confirmed</th>\n",
       "      <th>abroad</th>\n",
       "    </tr>\n",
       "  </thead>\n",
       "  <tbody>\n",
       "    <tr>\n",
       "      <th>0</th>\n",
       "      <td>0.0</td>\n",
       "      <td>0.0</td>\n",
       "      <td>1.0</td>\n",
       "      <td>0.0</td>\n",
       "      <td>1.0</td>\n",
       "      <td>0.0</td>\n",
       "      <td>0.0</td>\n",
       "      <td>1.0</td>\n",
       "      <td>0.0</td>\n",
       "    </tr>\n",
       "    <tr>\n",
       "      <th>1</th>\n",
       "      <td>0.0</td>\n",
       "      <td>0.0</td>\n",
       "      <td>0.0</td>\n",
       "      <td>0.0</td>\n",
       "      <td>0.0</td>\n",
       "      <td>0.0</td>\n",
       "      <td>0.0</td>\n",
       "      <td>0.0</td>\n",
       "      <td>0.0</td>\n",
       "    </tr>\n",
       "    <tr>\n",
       "      <th>2</th>\n",
       "      <td>0.0</td>\n",
       "      <td>0.0</td>\n",
       "      <td>0.0</td>\n",
       "      <td>0.0</td>\n",
       "      <td>0.0</td>\n",
       "      <td>1.0</td>\n",
       "      <td>0.0</td>\n",
       "      <td>0.0</td>\n",
       "      <td>0.0</td>\n",
       "    </tr>\n",
       "    <tr>\n",
       "      <th>3</th>\n",
       "      <td>0.0</td>\n",
       "      <td>0.0</td>\n",
       "      <td>0.0</td>\n",
       "      <td>0.0</td>\n",
       "      <td>0.0</td>\n",
       "      <td>1.0</td>\n",
       "      <td>0.0</td>\n",
       "      <td>0.0</td>\n",
       "      <td>0.0</td>\n",
       "    </tr>\n",
       "    <tr>\n",
       "      <th>4</th>\n",
       "      <td>0.0</td>\n",
       "      <td>0.0</td>\n",
       "      <td>0.0</td>\n",
       "      <td>0.0</td>\n",
       "      <td>0.0</td>\n",
       "      <td>0.0</td>\n",
       "      <td>1.0</td>\n",
       "      <td>0.0</td>\n",
       "      <td>0.0</td>\n",
       "    </tr>\n",
       "  </tbody>\n",
       "</table>\n",
       "</div>"
      ],
      "text/plain": [
       "   cough  fever  sore_throat  shortness_of_breath  head_ache  \\\n",
       "0    0.0    0.0          1.0                  0.0        1.0   \n",
       "1    0.0    0.0          0.0                  0.0        0.0   \n",
       "2    0.0    0.0          0.0                  0.0        0.0   \n",
       "3    0.0    0.0          0.0                  0.0        0.0   \n",
       "4    0.0    0.0          0.0                  0.0        0.0   \n",
       "\n",
       "   age_60_and_above  gender  contact_with_confirmed  abroad  \n",
       "0               0.0     0.0                     1.0     0.0  \n",
       "1               0.0     0.0                     0.0     0.0  \n",
       "2               1.0     0.0                     0.0     0.0  \n",
       "3               1.0     0.0                     0.0     0.0  \n",
       "4               0.0     1.0                     0.0     0.0  "
      ]
     },
     "execution_count": 13,
     "metadata": {},
     "output_type": "execute_result"
    },
    {
     "data": {
      "text/html": [
       "<div>\n",
       "<style scoped>\n",
       "    .dataframe tbody tr th:only-of-type {\n",
       "        vertical-align: middle;\n",
       "    }\n",
       "\n",
       "    .dataframe tbody tr th {\n",
       "        vertical-align: top;\n",
       "    }\n",
       "\n",
       "    .dataframe thead th {\n",
       "        text-align: right;\n",
       "    }\n",
       "</style>\n",
       "<table border=\"1\" class=\"dataframe\">\n",
       "  <thead>\n",
       "    <tr style=\"text-align: right;\">\n",
       "      <th></th>\n",
       "      <th>corona_result</th>\n",
       "    </tr>\n",
       "  </thead>\n",
       "  <tbody>\n",
       "    <tr>\n",
       "      <th>0</th>\n",
       "      <td>1</td>\n",
       "    </tr>\n",
       "    <tr>\n",
       "      <th>1</th>\n",
       "      <td>0</td>\n",
       "    </tr>\n",
       "    <tr>\n",
       "      <th>2</th>\n",
       "      <td>0</td>\n",
       "    </tr>\n",
       "    <tr>\n",
       "      <th>3</th>\n",
       "      <td>0</td>\n",
       "    </tr>\n",
       "    <tr>\n",
       "      <th>4</th>\n",
       "      <td>0</td>\n",
       "    </tr>\n",
       "  </tbody>\n",
       "</table>\n",
       "</div>"
      ],
      "text/plain": [
       "   corona_result\n",
       "0              1\n",
       "1              0\n",
       "2              0\n",
       "3              0\n",
       "4              0"
      ]
     },
     "execution_count": 13,
     "metadata": {},
     "output_type": "execute_result"
    }
   ],
   "source": [
    "X_train.head()\n",
    "y_train.head()"
   ]
  },
  {
   "cell_type": "code",
   "execution_count": 14,
   "metadata": {},
   "outputs": [
    {
     "data": {
      "text/html": [
       "<div>\n",
       "<style scoped>\n",
       "    .dataframe tbody tr th:only-of-type {\n",
       "        vertical-align: middle;\n",
       "    }\n",
       "\n",
       "    .dataframe tbody tr th {\n",
       "        vertical-align: top;\n",
       "    }\n",
       "\n",
       "    .dataframe thead th {\n",
       "        text-align: right;\n",
       "    }\n",
       "</style>\n",
       "<table border=\"1\" class=\"dataframe\">\n",
       "  <thead>\n",
       "    <tr style=\"text-align: right;\">\n",
       "      <th></th>\n",
       "      <th>cough</th>\n",
       "      <th>fever</th>\n",
       "      <th>sore_throat</th>\n",
       "      <th>shortness_of_breath</th>\n",
       "      <th>head_ache</th>\n",
       "      <th>age_60_and_above</th>\n",
       "      <th>gender</th>\n",
       "      <th>contact_with_confirmed</th>\n",
       "      <th>abroad</th>\n",
       "    </tr>\n",
       "  </thead>\n",
       "  <tbody>\n",
       "    <tr>\n",
       "      <th>count</th>\n",
       "      <td>8000.000</td>\n",
       "      <td>8000.000</td>\n",
       "      <td>8000.000</td>\n",
       "      <td>8000.000</td>\n",
       "      <td>8000.000</td>\n",
       "      <td>8000.000</td>\n",
       "      <td>8000.000</td>\n",
       "      <td>8000.000</td>\n",
       "      <td>8000.000</td>\n",
       "    </tr>\n",
       "    <tr>\n",
       "      <th>mean</th>\n",
       "      <td>0.051</td>\n",
       "      <td>0.045</td>\n",
       "      <td>0.014</td>\n",
       "      <td>0.004</td>\n",
       "      <td>0.027</td>\n",
       "      <td>0.130</td>\n",
       "      <td>0.487</td>\n",
       "      <td>0.066</td>\n",
       "      <td>0.015</td>\n",
       "    </tr>\n",
       "    <tr>\n",
       "      <th>std</th>\n",
       "      <td>0.219</td>\n",
       "      <td>0.206</td>\n",
       "      <td>0.116</td>\n",
       "      <td>0.065</td>\n",
       "      <td>0.162</td>\n",
       "      <td>0.336</td>\n",
       "      <td>0.500</td>\n",
       "      <td>0.248</td>\n",
       "      <td>0.120</td>\n",
       "    </tr>\n",
       "    <tr>\n",
       "      <th>min</th>\n",
       "      <td>0.000</td>\n",
       "      <td>0.000</td>\n",
       "      <td>0.000</td>\n",
       "      <td>0.000</td>\n",
       "      <td>0.000</td>\n",
       "      <td>0.000</td>\n",
       "      <td>0.000</td>\n",
       "      <td>0.000</td>\n",
       "      <td>0.000</td>\n",
       "    </tr>\n",
       "    <tr>\n",
       "      <th>25%</th>\n",
       "      <td>0.000</td>\n",
       "      <td>0.000</td>\n",
       "      <td>0.000</td>\n",
       "      <td>0.000</td>\n",
       "      <td>0.000</td>\n",
       "      <td>0.000</td>\n",
       "      <td>0.000</td>\n",
       "      <td>0.000</td>\n",
       "      <td>0.000</td>\n",
       "    </tr>\n",
       "    <tr>\n",
       "      <th>50%</th>\n",
       "      <td>0.000</td>\n",
       "      <td>0.000</td>\n",
       "      <td>0.000</td>\n",
       "      <td>0.000</td>\n",
       "      <td>0.000</td>\n",
       "      <td>0.000</td>\n",
       "      <td>0.000</td>\n",
       "      <td>0.000</td>\n",
       "      <td>0.000</td>\n",
       "    </tr>\n",
       "    <tr>\n",
       "      <th>75%</th>\n",
       "      <td>0.000</td>\n",
       "      <td>0.000</td>\n",
       "      <td>0.000</td>\n",
       "      <td>0.000</td>\n",
       "      <td>0.000</td>\n",
       "      <td>0.000</td>\n",
       "      <td>1.000</td>\n",
       "      <td>0.000</td>\n",
       "      <td>0.000</td>\n",
       "    </tr>\n",
       "    <tr>\n",
       "      <th>max</th>\n",
       "      <td>1.000</td>\n",
       "      <td>1.000</td>\n",
       "      <td>1.000</td>\n",
       "      <td>1.000</td>\n",
       "      <td>1.000</td>\n",
       "      <td>1.000</td>\n",
       "      <td>1.000</td>\n",
       "      <td>1.000</td>\n",
       "      <td>1.000</td>\n",
       "    </tr>\n",
       "  </tbody>\n",
       "</table>\n",
       "</div>"
      ],
      "text/plain": [
       "          cough     fever  sore_throat  shortness_of_breath  head_ache  \\\n",
       "count  8000.000  8000.000     8000.000             8000.000   8000.000   \n",
       "mean      0.051     0.045        0.014                0.004      0.027   \n",
       "std       0.219     0.206        0.116                0.065      0.162   \n",
       "min       0.000     0.000        0.000                0.000      0.000   \n",
       "25%       0.000     0.000        0.000                0.000      0.000   \n",
       "50%       0.000     0.000        0.000                0.000      0.000   \n",
       "75%       0.000     0.000        0.000                0.000      0.000   \n",
       "max       1.000     1.000        1.000                1.000      1.000   \n",
       "\n",
       "       age_60_and_above    gender  contact_with_confirmed    abroad  \n",
       "count          8000.000  8000.000                8000.000  8000.000  \n",
       "mean              0.130     0.487                   0.066     0.015  \n",
       "std               0.336     0.500                   0.248     0.120  \n",
       "min               0.000     0.000                   0.000     0.000  \n",
       "25%               0.000     0.000                   0.000     0.000  \n",
       "50%               0.000     0.000                   0.000     0.000  \n",
       "75%               0.000     1.000                   0.000     0.000  \n",
       "max               1.000     1.000                   1.000     1.000  "
      ]
     },
     "execution_count": 14,
     "metadata": {},
     "output_type": "execute_result"
    }
   ],
   "source": [
    "X_train.describe()"
   ]
  },
  {
   "cell_type": "code",
   "execution_count": 15,
   "metadata": {},
   "outputs": [
    {
     "data": {
      "text/plain": [
       "0    7242\n",
       "1     758\n",
       "Name: corona_result, dtype: int64"
      ]
     },
     "execution_count": 15,
     "metadata": {},
     "output_type": "execute_result"
    }
   ],
   "source": [
    "y_train[col_y[0]].value_counts()"
   ]
  },
  {
   "cell_type": "markdown",
   "metadata": {},
   "source": [
    "# - - - Part 2: Modeling - - -"
   ]
  },
  {
   "cell_type": "markdown",
   "metadata": {},
   "source": [
    "# Dummy model ..."
   ]
  },
  {
   "cell_type": "markdown",
   "metadata": {},
   "source": [
    "Covid data\n",
    "* Dummy model gives a good accuracy, due to the class imbalance"
   ]
  },
  {
   "cell_type": "code",
   "execution_count": 16,
   "metadata": {},
   "outputs": [
    {
     "data": {
      "text/plain": [
       "DummyClassifier(strategy='stratified')"
      ]
     },
     "execution_count": 16,
     "metadata": {},
     "output_type": "execute_result"
    },
    {
     "data": {
      "text/plain": [
       "array([[1632,  169],\n",
       "       [ 171,   28]], dtype=int64)"
      ]
     },
     "execution_count": 16,
     "metadata": {},
     "output_type": "execute_result"
    },
    {
     "name": "stdout",
     "output_type": "stream",
     "text": [
      "accuracy: 0.83\n",
      "precision: 0.142\n",
      "recall: 0.141\n",
      "f1: 0.141\n"
     ]
    }
   ],
   "source": [
    "from sklearn.dummy import DummyClassifier\n",
    "\n",
    "dummy_clf = DummyClassifier(strategy='stratified') #most_frequent\n",
    "dummy_clf.fit(X_train, y_train)\n",
    "y_pred = dummy_clf.predict(X_test)\n",
    "\n",
    "confusion_matrix(y_test, y_pred)\n",
    "\n",
    "print('accuracy:', round(accuracy_score(y_test, y_pred), 3))\n",
    "print('precision:', round(precision_score(y_test, y_pred), 3))\n",
    "print('recall:', round(recall_score(y_test, y_pred), 3))\n",
    "print('f1:', round(f1_score(y_test, y_pred), 3))"
   ]
  },
  {
   "cell_type": "code",
   "execution_count": 17,
   "metadata": {},
   "outputs": [
    {
     "data": {
      "image/png": "[encoded data removed]",
      "text/plain": [
       "<Figure size 432x288 with 2 Axes>"
      ]
     },
     "metadata": {
      "needs_background": "light"
     },
     "output_type": "display_data"
    }
   ],
   "source": [
    "from sklearn.metrics import ConfusionMatrixDisplay\n",
    "\n",
    "cm = confusion_matrix(y_test, y_pred)\n",
    "cm_display = ConfusionMatrixDisplay(cm).plot()\n",
    "plt.grid(False)"
   ]
  },
  {
   "cell_type": "markdown",
   "metadata": {},
   "source": [
    "# Rapid tests - a few models\n",
    "* mostly from my previous `NBA script`"
   ]
  },
  {
   "cell_type": "markdown",
   "metadata": {},
   "source": [
    "## Test models, scores, and plot"
   ]
  },
  {
   "cell_type": "markdown",
   "metadata": {},
   "source": [
    "For covid data\n",
    "* just testing common models with default parameters, will tune parameters later\n",
    "* not surprisingly, due to the class imbalance, the accuracy is > 90% for most models\n",
    "* the key metric, recall, is generally as low as 0.6 for most models (we will tune this later)"
   ]
  },
  {
   "cell_type": "code",
   "execution_count": 18,
   "metadata": {},
   "outputs": [
    {
     "data": {
      "text/plain": [
       "LogisticRegression()"
      ]
     },
     "execution_count": 18,
     "metadata": {},
     "output_type": "execute_result"
    },
    {
     "data": {
      "text/plain": [
       "KNeighborsClassifier()"
      ]
     },
     "execution_count": 18,
     "metadata": {},
     "output_type": "execute_result"
    },
    {
     "data": {
      "text/plain": [
       "GaussianNB()"
      ]
     },
     "execution_count": 18,
     "metadata": {},
     "output_type": "execute_result"
    },
    {
     "data": {
      "text/plain": [
       "SVC()"
      ]
     },
     "execution_count": 18,
     "metadata": {},
     "output_type": "execute_result"
    },
    {
     "data": {
      "text/plain": [
       "DecisionTreeClassifier()"
      ]
     },
     "execution_count": 18,
     "metadata": {},
     "output_type": "execute_result"
    },
    {
     "data": {
      "text/plain": [
       "RandomForestClassifier()"
      ]
     },
     "execution_count": 18,
     "metadata": {},
     "output_type": "execute_result"
    },
    {
     "data": {
      "text/html": [
       "<div>\n",
       "<style scoped>\n",
       "    .dataframe tbody tr th:only-of-type {\n",
       "        vertical-align: middle;\n",
       "    }\n",
       "\n",
       "    .dataframe tbody tr th {\n",
       "        vertical-align: top;\n",
       "    }\n",
       "\n",
       "    .dataframe thead th {\n",
       "        text-align: right;\n",
       "    }\n",
       "</style>\n",
       "<table border=\"1\" class=\"dataframe\">\n",
       "  <thead>\n",
       "    <tr style=\"text-align: right;\">\n",
       "      <th></th>\n",
       "      <th>model</th>\n",
       "      <th>accuracy</th>\n",
       "      <th>precision</th>\n",
       "      <th>recall</th>\n",
       "      <th>f1</th>\n",
       "    </tr>\n",
       "  </thead>\n",
       "  <tbody>\n",
       "    <tr>\n",
       "      <th>0</th>\n",
       "      <td>Logistic</td>\n",
       "      <td>0.918</td>\n",
       "      <td>0.733</td>\n",
       "      <td>0.276</td>\n",
       "      <td>0.401</td>\n",
       "    </tr>\n",
       "    <tr>\n",
       "      <th>0</th>\n",
       "      <td>KNN</td>\n",
       "      <td>0.935</td>\n",
       "      <td>0.717</td>\n",
       "      <td>0.573</td>\n",
       "      <td>0.637</td>\n",
       "    </tr>\n",
       "    <tr>\n",
       "      <th>0</th>\n",
       "      <td>GaussianNB</td>\n",
       "      <td>0.920</td>\n",
       "      <td>0.587</td>\n",
       "      <td>0.678</td>\n",
       "      <td>0.629</td>\n",
       "    </tr>\n",
       "    <tr>\n",
       "      <th>0</th>\n",
       "      <td>SVC</td>\n",
       "      <td>0.934</td>\n",
       "      <td>0.696</td>\n",
       "      <td>0.598</td>\n",
       "      <td>0.643</td>\n",
       "    </tr>\n",
       "    <tr>\n",
       "      <th>0</th>\n",
       "      <td>Tree</td>\n",
       "      <td>0.930</td>\n",
       "      <td>0.693</td>\n",
       "      <td>0.533</td>\n",
       "      <td>0.602</td>\n",
       "    </tr>\n",
       "  </tbody>\n",
       "</table>\n",
       "</div>"
      ],
      "text/plain": [
       "        model  accuracy  precision  recall     f1\n",
       "0    Logistic     0.918      0.733   0.276  0.401\n",
       "0         KNN     0.935      0.717   0.573  0.637\n",
       "0  GaussianNB     0.920      0.587   0.678  0.629\n",
       "0         SVC     0.934      0.696   0.598  0.643\n",
       "0        Tree     0.930      0.693   0.533  0.602"
      ]
     },
     "execution_count": 18,
     "metadata": {},
     "output_type": "execute_result"
    }
   ],
   "source": [
    "# get the scores from models\n",
    "\n",
    "df_score = pd.DataFrame()\n",
    "\n",
    "mydict_models =  {\n",
    "    'Logistic': LogisticRegression(), \n",
    "    'KNN': KNeighborsClassifier(), \n",
    "    'GaussianNB': GaussianNB(),\n",
    "    'SVC': SVC(), \n",
    "    'Tree': DecisionTreeClassifier(), \n",
    "    'Forest': RandomForestClassifier()\n",
    "}\n",
    "\n",
    "for index, key in enumerate(mydict_models.keys()):\n",
    "    \n",
    "    model_name = key\n",
    "    model = mydict_models[key]\n",
    "\n",
    "    model.fit(X_train, y_train);\n",
    "    y_pred = model.predict(X_test)\n",
    "        \n",
    "    accuracy = accuracy_score(y_test, y_pred)\n",
    "    precision = precision_score(y_test, y_pred)\n",
    "    recall = recall_score(y_test, y_pred)\n",
    "    f1 = f1_score(y_test, y_pred)\n",
    "\n",
    "    data_onemodel = [model_name, accuracy, precision, recall, f1]\n",
    "    \n",
    "    df_temp = pd.DataFrame([data_onemodel])\n",
    "    df_score = pd.concat([df_score, df_temp])\n",
    "\n",
    "df_score.columns = ['model', 'accuracy', 'precision', 'recall', 'f1']\n",
    "\n",
    "df_score.head()"
   ]
  },
  {
   "cell_type": "code",
   "execution_count": 19,
   "metadata": {},
   "outputs": [
    {
     "data": {
      "image/png": "[encoded data removed]",
      "text/plain": [
       "<Figure size 576x288 with 1 Axes>"
      ]
     },
     "metadata": {
      "needs_background": "light"
     },
     "output_type": "display_data"
    }
   ],
   "source": [
    "df = df_score\n",
    "\n",
    "df[['model','accuracy', 'precision', 'recall', 'f1']].plot(x='model', kind='bar', figsize=(8, 4), legend=False)\n",
    "plt.legend(bbox_to_anchor=(1,1), ncol = 1)\n",
    "plt.ylim([0.0, 1])\n",
    "plt.ylabel('Score')\n",
    "# plt.xlabel()\n",
    "plt.xticks(rotation=0)\n",
    "plt.show();"
   ]
  },
  {
   "cell_type": "markdown",
   "metadata": {},
   "source": [
    "## Train-test error\n",
    "* check 1) the effect of training size (sensitivity) and 2) under/over fitting\n",
    "* loop through a few models and check the trends of train/test error"
   ]
  },
  {
   "cell_type": "markdown",
   "metadata": {},
   "source": [
    "Covid data\n",
    "* it looks that train/test errors converge very quick "
   ]
  },
  {
   "cell_type": "code",
   "execution_count": 20,
   "metadata": {},
   "outputs": [
    {
     "name": "stdout",
     "output_type": "stream",
     "text": [
      "Logistic\n",
      "KNN\n",
      "GaussianNB\n",
      "SVC\n",
      "Tree\n",
      "Forest\n"
     ]
    },
    {
     "data": {
      "image/png": "[encoded data removed]",
      "text/plain": [
       "<Figure size 432x288 with 6 Axes>"
      ]
     },
     "metadata": {
      "needs_background": "light"
     },
     "output_type": "display_data"
    }
   ],
   "source": [
    "# plt.figure(figsize=(15,7))\n",
    "\n",
    "mydict_models =  {\n",
    "    'Logistic': LogisticRegression(), \n",
    "    'KNN': KNeighborsClassifier(), \n",
    "    'GaussianNB': GaussianNB(),\n",
    "    'SVC': SVC(), \n",
    "    'Tree': DecisionTreeClassifier(), \n",
    "    'Forest': RandomForestClassifier()\n",
    "}\n",
    "\n",
    "for index, value in enumerate(mydict_models.keys()):\n",
    "    model_name = value\n",
    "    model = mydict_models[value]\n",
    "    print(model_name)\n",
    "    \n",
    "# for index, k in enumerate(range(1, 30, 5)):\n",
    "#     model = KNeighborsClassifier(n_neighbors=k)\n",
    "#     model_name = 'KNN-' + str(int(k))\n",
    "    \n",
    "    plot_id = '23{}'.format(index+1)\n",
    "    plt.subplot(plot_id)\n",
    "    plt.title('{}'.format(model_name), weight='bold')\n",
    "\n",
    "    train_sizes, train_scores, valid_scores = learning_curve(model, X, y)\n",
    "    train_err = 1- train_scores\n",
    "    ts_err = 1- valid_scores\n",
    "    \n",
    "    train_cv_err = np.mean(train_err, axis=1)\n",
    "    test_cv_err = np.mean(ts_err, axis=1)\n",
    "    \n",
    "    plt.scatter(train_sizes, train_cv_err, marker= '^', color='red', s = 150, label = 'Training error')\n",
    "    plt.scatter(train_sizes, test_cv_err, marker='o', color='lightgreen', s =150, label = 'Testing error')\n",
    "\n",
    "    plt.xlabel('Train size')\n",
    "    plt.ylabel('Error')\n",
    "    plt.ylim([0,0.2])\n",
    "\n",
    "plt.legend(bbox_to_anchor=(1.05, 1), loc=2, ncol=1)\n",
    "plt.tight_layout()\n",
    "\n",
    "plt.show();"
   ]
  },
  {
   "cell_type": "markdown",
   "metadata": {},
   "source": [
    "## Confusion matrix"
   ]
  },
  {
   "cell_type": "code",
   "execution_count": 21,
   "metadata": {},
   "outputs": [],
   "source": [
    "def plot_confusion_matrix(cm, classes, normalize=False, cmap=plt.cm.Blues):\n",
    "    \"\"\"\n",
    "    This function prints and plots the confusion matrix.\n",
    "    Normalization can be applied by setting `normalize=True`.\n",
    "    \"\"\"\n",
    "    plt.imshow(cm, interpolation='nearest', cmap=cmap)\n",
    "#     plt.colorbar()\n",
    "    tick_marks = np.arange(len(classes))\n",
    "    plt.xticks(tick_marks, classes, rotation=0)\n",
    "    plt.yticks(tick_marks, classes)\n",
    "\n",
    "    if normalize:\n",
    "        cm = cm.astype('float') / cm.sum(axis=1)[:, np.newaxis]\n",
    "    thresh = cm.max() / 2.\n",
    "    for i, j in itertools.product(range(cm.shape[0]), range(cm.shape[1])):\n",
    "        plt.text(j, i, cm[i, j],\n",
    "                 horizontalalignment=\"center\",\n",
    "                 color=\"white\" if cm[i, j] > thresh else \"black\")\n",
    "\n",
    "    plt.ylabel('True label')\n",
    "    plt.xlabel('Predicted label')"
   ]
  },
  {
   "cell_type": "code",
   "execution_count": 22,
   "metadata": {},
   "outputs": [
    {
     "name": "stdout",
     "output_type": "stream",
     "text": [
      "Logistic\n",
      "KNN\n",
      "GaussianNB\n",
      "SVC\n",
      "Tree\n",
      "Forest\n"
     ]
    },
    {
     "data": {
      "image/png": "[encoded data removed]",
      "text/plain": [
       "<Figure size 432x288 with 6 Axes>"
      ]
     },
     "metadata": {
      "needs_background": "light"
     },
     "output_type": "display_data"
    }
   ],
   "source": [
    "# plt.figure(figsize=(12,12), dpi=100)\n",
    "\n",
    "for index, value in enumerate(mydict_models.keys()):\n",
    "    model_name = value\n",
    "    model = mydict_models[value]\n",
    "    print(model_name)\n",
    "    \n",
    "    plot_id = '23{}'.format(index+1)\n",
    "    plt.subplot(plot_id)\n",
    "    plt.title('{}'.format(model_name), weight='bold')\n",
    "    \n",
    "    model.fit(X_train, y_train)\n",
    "    y_pred = model.predict(X_test)\n",
    "    cm = confusion_matrix(y_test,y_pred)\n",
    "    \n",
    "    plot_confusion_matrix(cm,[0,1])\n",
    "\n",
    "# plt.tight_layout()\n",
    "# plt.colorbar()\n",
    "plt.show();"
   ]
  },
  {
   "cell_type": "markdown",
   "metadata": {},
   "source": [
    "# - - - Part 3: Model tuning - - -"
   ]
  },
  {
   "cell_type": "markdown",
   "metadata": {},
   "source": [
    "# KNN"
   ]
  },
  {
   "cell_type": "markdown",
   "metadata": {},
   "source": [
    "Now, let us look into more details of KNN\n",
    "* tuning the model, note that our goal is to optimize recall"
   ]
  },
  {
   "cell_type": "markdown",
   "metadata": {},
   "source": [
    "## Tuning - a simple loop ...."
   ]
  },
  {
   "cell_type": "code",
   "execution_count": 23,
   "metadata": {},
   "outputs": [
    {
     "data": {
      "text/plain": [
       "KNeighborsClassifier(n_neighbors=1)"
      ]
     },
     "execution_count": 23,
     "metadata": {},
     "output_type": "execute_result"
    },
    {
     "data": {
      "text/plain": [
       "KNeighborsClassifier(n_neighbors=11)"
      ]
     },
     "execution_count": 23,
     "metadata": {},
     "output_type": "execute_result"
    },
    {
     "data": {
      "text/plain": [
       "KNeighborsClassifier(n_neighbors=21)"
      ]
     },
     "execution_count": 23,
     "metadata": {},
     "output_type": "execute_result"
    },
    {
     "data": {
      "text/plain": [
       "KNeighborsClassifier(n_neighbors=31)"
      ]
     },
     "execution_count": 23,
     "metadata": {},
     "output_type": "execute_result"
    },
    {
     "data": {
      "text/plain": [
       "KNeighborsClassifier(n_neighbors=41)"
      ]
     },
     "execution_count": 23,
     "metadata": {},
     "output_type": "execute_result"
    },
    {
     "data": {
      "text/plain": [
       "KNeighborsClassifier(n_neighbors=51)"
      ]
     },
     "execution_count": 23,
     "metadata": {},
     "output_type": "execute_result"
    },
    {
     "data": {
      "text/plain": [
       "KNeighborsClassifier(n_neighbors=61)"
      ]
     },
     "execution_count": 23,
     "metadata": {},
     "output_type": "execute_result"
    },
    {
     "data": {
      "text/plain": [
       "KNeighborsClassifier(n_neighbors=71)"
      ]
     },
     "execution_count": 23,
     "metadata": {},
     "output_type": "execute_result"
    },
    {
     "data": {
      "text/plain": [
       "KNeighborsClassifier(n_neighbors=81)"
      ]
     },
     "execution_count": 23,
     "metadata": {},
     "output_type": "execute_result"
    },
    {
     "data": {
      "text/plain": [
       "KNeighborsClassifier(n_neighbors=91)"
      ]
     },
     "execution_count": 23,
     "metadata": {},
     "output_type": "execute_result"
    },
    {
     "data": {
      "text/html": [
       "<div>\n",
       "<style scoped>\n",
       "    .dataframe tbody tr th:only-of-type {\n",
       "        vertical-align: middle;\n",
       "    }\n",
       "\n",
       "    .dataframe tbody tr th {\n",
       "        vertical-align: top;\n",
       "    }\n",
       "\n",
       "    .dataframe thead th {\n",
       "        text-align: right;\n",
       "    }\n",
       "</style>\n",
       "<table border=\"1\" class=\"dataframe\">\n",
       "  <thead>\n",
       "    <tr style=\"text-align: right;\">\n",
       "      <th></th>\n",
       "      <th>neighbor</th>\n",
       "      <th>accuracy</th>\n",
       "      <th>precision</th>\n",
       "      <th>recall</th>\n",
       "      <th>f1</th>\n",
       "    </tr>\n",
       "  </thead>\n",
       "  <tbody>\n",
       "    <tr>\n",
       "      <th>0</th>\n",
       "      <td>1</td>\n",
       "      <td>0.926</td>\n",
       "      <td>0.720</td>\n",
       "      <td>0.427</td>\n",
       "      <td>0.536</td>\n",
       "    </tr>\n",
       "    <tr>\n",
       "      <th>0</th>\n",
       "      <td>11</td>\n",
       "      <td>0.922</td>\n",
       "      <td>0.720</td>\n",
       "      <td>0.362</td>\n",
       "      <td>0.482</td>\n",
       "    </tr>\n",
       "    <tr>\n",
       "      <th>0</th>\n",
       "      <td>21</td>\n",
       "      <td>0.929</td>\n",
       "      <td>0.705</td>\n",
       "      <td>0.492</td>\n",
       "      <td>0.580</td>\n",
       "    </tr>\n",
       "    <tr>\n",
       "      <th>0</th>\n",
       "      <td>31</td>\n",
       "      <td>0.922</td>\n",
       "      <td>0.697</td>\n",
       "      <td>0.382</td>\n",
       "      <td>0.494</td>\n",
       "    </tr>\n",
       "    <tr>\n",
       "      <th>0</th>\n",
       "      <td>41</td>\n",
       "      <td>0.929</td>\n",
       "      <td>0.699</td>\n",
       "      <td>0.503</td>\n",
       "      <td>0.585</td>\n",
       "    </tr>\n",
       "  </tbody>\n",
       "</table>\n",
       "</div>"
      ],
      "text/plain": [
       "   neighbor  accuracy  precision  recall     f1\n",
       "0         1     0.926      0.720   0.427  0.536\n",
       "0        11     0.922      0.720   0.362  0.482\n",
       "0        21     0.929      0.705   0.492  0.580\n",
       "0        31     0.922      0.697   0.382  0.494\n",
       "0        41     0.929      0.699   0.503  0.585"
      ]
     },
     "execution_count": 23,
     "metadata": {},
     "output_type": "execute_result"
    }
   ],
   "source": [
    "df_score_knn = pd.DataFrame()\n",
    "\n",
    "for n in range(1, 100, 10):\n",
    "    model = KNeighborsClassifier(n_neighbors=n)\n",
    "    model_name = int(n)\n",
    "    \n",
    "    model.fit(X_train, y_train);\n",
    "    y_pred = model.predict(X_test)\n",
    "    \n",
    "    accuracy = accuracy_score(y_test, y_pred)\n",
    "    precision = precision_score(y_test, y_pred)\n",
    "    recall = recall_score(y_test, y_pred)\n",
    "    f1 = f1_score(y_test, y_pred)\n",
    "    \n",
    "    data_onemodel = [model_name, accuracy, precision, recall, f1]\n",
    "    \n",
    "    df_temp = pd.DataFrame([data_onemodel])\n",
    "    df_score_knn = pd.concat([df_score_knn, df_temp])\n",
    "\n",
    "df_score_knn.columns = ['neighbor', 'accuracy', 'precision', 'recall', 'f1']\n",
    "\n",
    "df_score_knn.head()"
   ]
  },
  {
   "cell_type": "code",
   "execution_count": 24,
   "metadata": {},
   "outputs": [
    {
     "data": {
      "image/png": "[encoded data removed]",
      "text/plain": [
       "<Figure size 576x288 with 1 Axes>"
      ]
     },
     "metadata": {
      "needs_background": "light"
     },
     "output_type": "display_data"
    }
   ],
   "source": [
    "plt.figure(figsize=(8, 4))\n",
    "\n",
    "list_score = ['recall', 'precision', 'accuracy', 'f1']\n",
    "list_color = ['r', 'b', 'g', 'grey']\n",
    "list_marker = ['o', '^', '*', 'o']\n",
    "\n",
    "df = df_score_knn \n",
    "\n",
    "for index, score in enumerate(list_score):\n",
    "    plt.scatter(df['neighbor'], df[score], marker =list_marker[index], color =list_color[index], s = 200, label = score, alpha = 0.5)\n",
    "\n",
    "# axes = plt.gca()\n",
    "    \n",
    "plt.legend(loc = 'best', bbox_to_anchor=(1,1), ncol = 1)\n",
    "plt.xlabel('K values', rotation=0, weight='bold')\n",
    "plt.ylabel('Scores', rotation=90, weight='bold')\n",
    "plt.xticks(rotation=0)\n",
    "plt.yticks(rotation=0)\n",
    "plt.tight_layout()\n",
    "plt.show();"
   ]
  },
  {
   "cell_type": "markdown",
   "metadata": {},
   "source": [
    "## Tuning - GridSearchCV"
   ]
  },
  {
   "cell_type": "markdown",
   "metadata": {},
   "source": [
    "Covid\n",
    "* GridSearchCV reports similar optimized K of 20 for the recall"
   ]
  },
  {
   "cell_type": "code",
   "execution_count": 25,
   "metadata": {},
   "outputs": [
    {
     "name": "stdout",
     "output_type": "stream",
     "text": [
      "Fitting 5 folds for each of 10 candidates, totalling 50 fits\n",
      "Best: 0.473320 using {'n_neighbors': 31}\n",
      "\n",
      "Print out the mean score, std score, and prameters\n",
      "0.339600 (0.027036) with: {'n_neighbors': 1}\n",
      "0.424204 (0.034870) with: {'n_neighbors': 11}\n",
      "0.410657 (0.054982) with: {'n_neighbors': 21}\n",
      "0.473320 (0.028659) with: {'n_neighbors': 31}\n",
      "0.444017 (0.050065) with: {'n_neighbors': 41}\n",
      "0.457646 (0.018832) with: {'n_neighbors': 51}\n",
      "0.452400 (0.022834) with: {'n_neighbors': 61}\n",
      "0.453447 (0.025302) with: {'n_neighbors': 71}\n",
      "0.446128 (0.026765) with: {'n_neighbors': 81}\n",
      "0.437773 (0.027414) with: {'n_neighbors': 91}\n"
     ]
    },
    {
     "data": {
      "text/html": [
       "<div>\n",
       "<style scoped>\n",
       "    .dataframe tbody tr th:only-of-type {\n",
       "        vertical-align: middle;\n",
       "    }\n",
       "\n",
       "    .dataframe tbody tr th {\n",
       "        vertical-align: top;\n",
       "    }\n",
       "\n",
       "    .dataframe thead th {\n",
       "        text-align: right;\n",
       "    }\n",
       "</style>\n",
       "<table border=\"1\" class=\"dataframe\">\n",
       "  <thead>\n",
       "    <tr style=\"text-align: right;\">\n",
       "      <th></th>\n",
       "      <th>n_neighbors</th>\n",
       "      <th>model</th>\n",
       "      <th>score_mean</th>\n",
       "      <th>score_std</th>\n",
       "    </tr>\n",
       "  </thead>\n",
       "  <tbody>\n",
       "    <tr>\n",
       "      <th>0</th>\n",
       "      <td>1</td>\n",
       "      <td>KNeighborsClassifier()</td>\n",
       "      <td>0.340</td>\n",
       "      <td>0.027</td>\n",
       "    </tr>\n",
       "    <tr>\n",
       "      <th>1</th>\n",
       "      <td>11</td>\n",
       "      <td>KNeighborsClassifier()</td>\n",
       "      <td>0.424</td>\n",
       "      <td>0.035</td>\n",
       "    </tr>\n",
       "    <tr>\n",
       "      <th>2</th>\n",
       "      <td>21</td>\n",
       "      <td>KNeighborsClassifier()</td>\n",
       "      <td>0.411</td>\n",
       "      <td>0.055</td>\n",
       "    </tr>\n",
       "    <tr>\n",
       "      <th>3</th>\n",
       "      <td>31</td>\n",
       "      <td>KNeighborsClassifier()</td>\n",
       "      <td>0.473</td>\n",
       "      <td>0.029</td>\n",
       "    </tr>\n",
       "    <tr>\n",
       "      <th>4</th>\n",
       "      <td>41</td>\n",
       "      <td>KNeighborsClassifier()</td>\n",
       "      <td>0.444</td>\n",
       "      <td>0.050</td>\n",
       "    </tr>\n",
       "  </tbody>\n",
       "</table>\n",
       "</div>"
      ],
      "text/plain": [
       "   n_neighbors                   model  score_mean  score_std\n",
       "0            1  KNeighborsClassifier()       0.340      0.027\n",
       "1           11  KNeighborsClassifier()       0.424      0.035\n",
       "2           21  KNeighborsClassifier()       0.411      0.055\n",
       "3           31  KNeighborsClassifier()       0.473      0.029\n",
       "4           41  KNeighborsClassifier()       0.444      0.050"
      ]
     },
     "execution_count": 25,
     "metadata": {},
     "output_type": "execute_result"
    }
   ],
   "source": [
    "from sklearn.neighbors import KNeighborsClassifier\n",
    "\n",
    "model = KNeighborsClassifier()\n",
    "grid = dict(n_neighbors=range(1, 100, 10))\n",
    "# grid = dict(n_neighbors=range(1, 100, 10),weights=['uniform', 'distance'],metric=['euclidean', 'manhattan', 'minkowski'])\n",
    "\n",
    "# grid_search = GridSearchCV(estimator=model, param_grid=grid, n_jobs=-1, cv=10, scoring='recall', error_score=0, return_train_score=True, verbose=1)\n",
    "grid_search = GridSearchCV(estimator=model, param_grid=grid, n_jobs=-1, cv=5, scoring='recall', error_score=0, return_train_score=True, verbose=1)\n",
    "\n",
    "grid_result = grid_search.fit(X, y)\n",
    "\n",
    "#  - - - summarize - - -\n",
    "print(\"Best: %f using %s\" % (grid_result.best_score_, grid_result.best_params_))\n",
    "\n",
    "print('\\nPrint out the mean score, std score, and prameters')\n",
    "means = grid_result.cv_results_['mean_test_score']\n",
    "stds = grid_result.cv_results_['std_test_score']\n",
    "params = grid_result.cv_results_['params']\n",
    "\n",
    "for mean, stdev, param in zip(means, stds, params):\n",
    "    print(\"%f (%f) with: %r\" % (mean, stdev, param))\n",
    "    \n",
    "df = pd.DataFrame(params)\n",
    "df['model'] = str(model)\n",
    "df['score_mean'] = means\n",
    "df['score_std'] = stds\n",
    "df_summary = df\n",
    "\n",
    "df.head()"
   ]
  },
  {
   "cell_type": "code",
   "execution_count": 26,
   "metadata": {},
   "outputs": [],
   "source": [
    "# Predefine a few functions for plotting\n",
    "# source: https://www.semicolonworld.com/question/43851/how-to-add-group-labels-for-bar-charts-in-matplotlib\n",
    "\n",
    "from itertools import groupby\n",
    "\n",
    "def add_line(ax, xpos, ypos):\n",
    "    line = plt.Line2D([xpos, xpos], [ypos + .1, ypos], transform=ax.transAxes, color='black', linewidth=0.5)\n",
    "    line.set_clip_on(False)\n",
    "    ax.add_line(line)\n",
    "\n",
    "def label_len(my_index, level):\n",
    "    labels = my_index.get_level_values(level)\n",
    "    return [(k, sum(1 for i in g)) for k,g in groupby(labels)]\n",
    "\n",
    "def label_group_bar_table(ax, df):\n",
    "    ypos = -.1\n",
    "    scale = 1./df.index.size\n",
    "    for level in range(df.index.nlevels)[::-1]:\n",
    "        pos = 0\n",
    "\n",
    "        angle = 90 if level == 10 else 0\n",
    "        alpha = 0 if level == 10 else 1\n",
    "\n",
    "        for label, rpos in label_len(df.index,level):\n",
    "            lxpos = (pos + .5 * rpos)*scale\n",
    "            ax.text(lxpos, ypos, label, ha='center', transform=ax.transAxes, rotation=angle, c= 'black', alpha = alpha)\n",
    "            add_line(ax, pos*scale, ypos)\n",
    "            pos += rpos\n",
    "        add_line(ax, pos*scale , ypos)\n",
    "        ypos -= .1\n"
   ]
  },
  {
   "cell_type": "code",
   "execution_count": 27,
   "metadata": {},
   "outputs": [
    {
     "data": {
      "text/plain": [
       "<Figure size 1000x400 with 0 Axes>"
      ]
     },
     "metadata": {},
     "output_type": "display_data"
    },
    {
     "data": {
      "image/png": "[encoded data removed]",
      "text/plain": [
       "<Figure size 432x288 with 1 Axes>"
      ]
     },
     "metadata": {
      "needs_background": "light"
     },
     "output_type": "display_data"
    }
   ],
   "source": [
    "df = df_summary\n",
    "\n",
    "col_groupby = list(params[0].keys())\n",
    "col_agg = ['mean']\n",
    "col_variable, y_label = ['score_mean'], 'Score'\n",
    "\n",
    "plt.figure(figsize=(10, 4), dpi=100)\n",
    "\n",
    "df[col_variable] = df[col_variable].astype(float)\n",
    "\n",
    "df_ave = df.groupby(col_groupby).agg(col_agg)[col_variable]\n",
    "df_std = df.groupby(col_groupby)[col_variable].std()\n",
    "\n",
    "ax = df_ave.plot(kind='bar', stacked = True, color = 'tab:blue')\n",
    "# ax = df_ave.plot(kind='bar', stacked = False, yerr = df_std, error_kw=dict(capsize=3, lw=1, capthick=0.5), edgecolor = \"black\")\n",
    "\n",
    "ax.set_xticklabels('')\n",
    "ax.set_xlabel('')\n",
    "label_group_bar_table(ax, df_ave)\n",
    "\n",
    "plt.legend(bbox_to_anchor=(1.05, 0.8), fontsize = 11, loc='upper left', borderaxespad=0.)\n",
    "plt.ylabel(y_label, fontsize = 12)\n",
    "plt.title('Model:' + str(model) + '; Parameter: ' + str(col_groupby), fontsize = 12)\n",
    "plt.show();"
   ]
  },
  {
   "cell_type": "markdown",
   "metadata": {},
   "source": [
    "# Logistic"
   ]
  },
  {
   "cell_type": "markdown",
   "metadata": {},
   "source": [
    "## Quick fit"
   ]
  },
  {
   "cell_type": "code",
   "execution_count": 28,
   "metadata": {},
   "outputs": [
    {
     "data": {
      "text/plain": [
       "LogisticRegression(C=10000)"
      ]
     },
     "execution_count": 28,
     "metadata": {},
     "output_type": "execute_result"
    },
    {
     "name": "stdout",
     "output_type": "stream",
     "text": [
      "recall:  0.7403\n",
      "f1: 0.413\n"
     ]
    }
   ],
   "source": [
    "lr = LogisticRegression(C=10000) # C large enough to remove regularization\n",
    "lr.fit(X_train, y_train)\n",
    "y_pred = lr.predict(X_test)\n",
    "print('recall: ', round(recall_score(y_pred, y_test), 4))\n",
    "print('f1:', round(f1_score(y_pred, y_test), 4))"
   ]
  },
  {
   "cell_type": "markdown",
   "metadata": {},
   "source": [
    "## confusion matrix"
   ]
  },
  {
   "cell_type": "code",
   "execution_count": 29,
   "metadata": {},
   "outputs": [
    {
     "data": {
      "image/png": "[encoded data removed]",
      "text/plain": [
       "<Figure size 432x288 with 2 Axes>"
      ]
     },
     "metadata": {
      "needs_background": "light"
     },
     "output_type": "display_data"
    }
   ],
   "source": [
    "from sklearn.metrics import ConfusionMatrixDisplay\n",
    "\n",
    "cm = confusion_matrix(y_test, y_pred) # normalize=None\n",
    "\n",
    "# plot #1\n",
    "cm_display = ConfusionMatrixDisplay(cm).plot()\n",
    "plt.grid(False)\n",
    "\n",
    "# plot #2\n",
    "# sns.heatmap(cm, cmap=plt.cm.Blues, annot=True, square=True,\n",
    "#            xticklabels = target_values,\n",
    "#            yticklabels = target_values)\n",
    "# plt.xlabel('Predicted')\n",
    "# plt.ylabel('Actual')\n",
    "# plt.title('Confusion matrix')\n",
    "# plt.yticks(rotation=0);"
   ]
  },
  {
   "cell_type": "markdown",
   "metadata": {},
   "source": [
    "## confusion matrix - interactive\n",
    "* this is particularly useful in tuning the threshold/probability"
   ]
  },
  {
   "cell_type": "code",
   "execution_count": 30,
   "metadata": {},
   "outputs": [
    {
     "data": {
      "image/png": "[encoded data removed]",
      "text/plain": [
       "<Figure size 600x400 with 2 Axes>"
      ]
     },
     "metadata": {
      "needs_background": "light"
     },
     "output_type": "display_data"
    }
   ],
   "source": [
    "def make_confusion_matrix(model, threshold=0.5):\n",
    "    # Predict class 1 if probability of being in class 1 is greater than threshold\n",
    "    # (model.predict(X_test) does this automatically with a threshold of 0.5)\n",
    "    y_predict = (model.predict_proba(X_test)[:, 1] >= threshold)\n",
    "#     fraud_confusion = confusion_matrix(y_test, y_predict, normalize='true')\n",
    "    fraud_confusion = confusion_matrix(y_test, y_predict)\n",
    "    plt.figure(dpi=100)\n",
    "    sns.heatmap(fraud_confusion, cmap=plt.cm.Blues, annot=True, square=True, fmt='d', xticklabels=target_values, yticklabels=target_values)\n",
    "    plt.xlabel('prediction')\n",
    "    plt.ylabel('actual')\n",
    "    plt.show();\n",
    "\n",
    "make_confusion_matrix(lr, threshold = 0.05)"
   ]
  },
  {
   "cell_type": "code",
   "execution_count": 31,
   "metadata": {
    "scrolled": true
   },
   "outputs": [
    {
     "data": {
      "application/vnd.jupyter.widget-view+json": {
       "model_id": "881a3e87cd654e61a547b9289f01b1e7",
       "version_major": 2,
       "version_minor": 0
      },
      "text/plain": [
       "interactive(children=(FloatSlider(value=0.4, description='threshold', max=1.0, step=0.2), Output()), _dom_clas…"
      ]
     },
     "metadata": {},
     "output_type": "display_data"
    }
   ],
   "source": [
    "# Let's see how our confusion matrix changes with changes to the cutoff! \n",
    "\n",
    "from ipywidgets import interactive, FloatSlider\n",
    "\n",
    "interactive(lambda threshold: make_confusion_matrix(lr, threshold), threshold=(0.0,1,0.2))"
   ]
  },
  {
   "cell_type": "markdown",
   "metadata": {},
   "source": [
    "## Threshold (*P*) tuning (ROC) (*)"
   ]
  },
  {
   "cell_type": "code",
   "execution_count": 32,
   "metadata": {},
   "outputs": [
    {
     "data": {
      "text/plain": [
       "LogisticRegression(C=10000)"
      ]
     },
     "execution_count": 32,
     "metadata": {},
     "output_type": "execute_result"
    }
   ],
   "source": [
    "model = LogisticRegression(C=10000) # C large enough to remove regularization\n",
    "model.fit(X_train, y_train)\n",
    "# model_test_probs = model.predict(X_test)\n",
    "\n",
    "thresh_ps = np.linspace(0.01,0.95,100)\n",
    "y_predict_probs = model.predict_proba(X_test)[:,1] # positive class probs, same basic logistic model we fit in section 2 \n",
    "\n",
    "all_scores = []\n",
    "\n",
    "for p in thresh_ps:\n",
    "    y_predict = y_predict_probs >= p\n",
    "    \n",
    "#     cm = confusion_matrix(y_test, model_test_labels)\n",
    "    TN, FP, FN, TP = confusion_matrix(y_test, y_predict).ravel()\n",
    "\n",
    "    # calculate the metrics\n",
    "    TPR = TP/(TP+FN) # Sensitivity, hit rate, recall, or true positive rate\n",
    "    TNR = TN/(TN+FP) # Specificity or true negative rate\n",
    "    PPV = TP/(TP+FP) # Precision or positive predictive value\n",
    "    NPV = TN/(TN+FN) # Negative predictive value\n",
    "    FPR = FP/(FP+TN) # Fall out or false positive rate\n",
    "    FNR = FN/(TP+FN) # False negative rate\n",
    "    FDR = FP/(TP+FP) # False discovery rate\n",
    "    ACC = (TP+TN)/(TP+FP+FN+TN)  # Overall accuracy\n",
    "    \n",
    "    all_scores.append([p, TN, FP, FN, TP,\n",
    "                       f1_score(y_test, y_predict), precision_score(y_test, y_predict), \n",
    "                       recall_score(y_test, y_predict), accuracy_score(y_test, y_predict),\n",
    "                      TPR, TNR, PPV, NPV, FPR, FNR, FDR, ACC])\n",
    "\n",
    "# plt.show(); # TM: semicolon does not suppress when plotting unless at the end"
   ]
  },
  {
   "cell_type": "code",
   "execution_count": 33,
   "metadata": {},
   "outputs": [
    {
     "data": {
      "text/html": [
       "<div>\n",
       "<style scoped>\n",
       "    .dataframe tbody tr th:only-of-type {\n",
       "        vertical-align: middle;\n",
       "    }\n",
       "\n",
       "    .dataframe tbody tr th {\n",
       "        vertical-align: top;\n",
       "    }\n",
       "\n",
       "    .dataframe thead th {\n",
       "        text-align: right;\n",
       "    }\n",
       "</style>\n",
       "<table border=\"1\" class=\"dataframe\">\n",
       "  <thead>\n",
       "    <tr style=\"text-align: right;\">\n",
       "      <th></th>\n",
       "      <th>threshold</th>\n",
       "      <th>TN</th>\n",
       "      <th>FP</th>\n",
       "      <th>FN</th>\n",
       "      <th>TP</th>\n",
       "      <th>f1</th>\n",
       "      <th>precision</th>\n",
       "      <th>recall</th>\n",
       "      <th>accuracy</th>\n",
       "      <th>TPR</th>\n",
       "      <th>TNR</th>\n",
       "      <th>PPV</th>\n",
       "      <th>NPV</th>\n",
       "      <th>FPR</th>\n",
       "      <th>FNR</th>\n",
       "      <th>FDR</th>\n",
       "      <th>ACC</th>\n",
       "    </tr>\n",
       "  </thead>\n",
       "  <tbody>\n",
       "    <tr>\n",
       "      <th>0</th>\n",
       "      <td>0.010</td>\n",
       "      <td>0</td>\n",
       "      <td>1801</td>\n",
       "      <td>0</td>\n",
       "      <td>199</td>\n",
       "      <td>0.181</td>\n",
       "      <td>0.100</td>\n",
       "      <td>1.000</td>\n",
       "      <td>0.100</td>\n",
       "      <td>1.000</td>\n",
       "      <td>0.000</td>\n",
       "      <td>0.100</td>\n",
       "      <td>NaN</td>\n",
       "      <td>1.000</td>\n",
       "      <td>0.000</td>\n",
       "      <td>0.900</td>\n",
       "      <td>0.100</td>\n",
       "    </tr>\n",
       "    <tr>\n",
       "      <th>1</th>\n",
       "      <td>0.019</td>\n",
       "      <td>3</td>\n",
       "      <td>1798</td>\n",
       "      <td>1</td>\n",
       "      <td>198</td>\n",
       "      <td>0.180</td>\n",
       "      <td>0.099</td>\n",
       "      <td>0.995</td>\n",
       "      <td>0.101</td>\n",
       "      <td>0.995</td>\n",
       "      <td>0.002</td>\n",
       "      <td>0.099</td>\n",
       "      <td>0.750</td>\n",
       "      <td>0.998</td>\n",
       "      <td>0.005</td>\n",
       "      <td>0.901</td>\n",
       "      <td>0.101</td>\n",
       "    </tr>\n",
       "    <tr>\n",
       "      <th>2</th>\n",
       "      <td>0.029</td>\n",
       "      <td>14</td>\n",
       "      <td>1787</td>\n",
       "      <td>2</td>\n",
       "      <td>197</td>\n",
       "      <td>0.180</td>\n",
       "      <td>0.099</td>\n",
       "      <td>0.990</td>\n",
       "      <td>0.105</td>\n",
       "      <td>0.990</td>\n",
       "      <td>0.008</td>\n",
       "      <td>0.099</td>\n",
       "      <td>0.875</td>\n",
       "      <td>0.992</td>\n",
       "      <td>0.010</td>\n",
       "      <td>0.901</td>\n",
       "      <td>0.105</td>\n",
       "    </tr>\n",
       "    <tr>\n",
       "      <th>3</th>\n",
       "      <td>0.038</td>\n",
       "      <td>809</td>\n",
       "      <td>992</td>\n",
       "      <td>30</td>\n",
       "      <td>169</td>\n",
       "      <td>0.249</td>\n",
       "      <td>0.146</td>\n",
       "      <td>0.849</td>\n",
       "      <td>0.489</td>\n",
       "      <td>0.849</td>\n",
       "      <td>0.449</td>\n",
       "      <td>0.146</td>\n",
       "      <td>0.964</td>\n",
       "      <td>0.551</td>\n",
       "      <td>0.151</td>\n",
       "      <td>0.854</td>\n",
       "      <td>0.489</td>\n",
       "    </tr>\n",
       "    <tr>\n",
       "      <th>4</th>\n",
       "      <td>0.048</td>\n",
       "      <td>935</td>\n",
       "      <td>866</td>\n",
       "      <td>34</td>\n",
       "      <td>165</td>\n",
       "      <td>0.268</td>\n",
       "      <td>0.160</td>\n",
       "      <td>0.829</td>\n",
       "      <td>0.550</td>\n",
       "      <td>0.829</td>\n",
       "      <td>0.519</td>\n",
       "      <td>0.160</td>\n",
       "      <td>0.965</td>\n",
       "      <td>0.481</td>\n",
       "      <td>0.171</td>\n",
       "      <td>0.840</td>\n",
       "      <td>0.550</td>\n",
       "    </tr>\n",
       "  </tbody>\n",
       "</table>\n",
       "</div>"
      ],
      "text/plain": [
       "   threshold   TN    FP  FN   TP     f1  precision  recall  accuracy    TPR  \\\n",
       "0      0.010    0  1801   0  199  0.181      0.100   1.000     0.100  1.000   \n",
       "1      0.019    3  1798   1  198  0.180      0.099   0.995     0.101  0.995   \n",
       "2      0.029   14  1787   2  197  0.180      0.099   0.990     0.105  0.990   \n",
       "3      0.038  809   992  30  169  0.249      0.146   0.849     0.489  0.849   \n",
       "4      0.048  935   866  34  165  0.268      0.160   0.829     0.550  0.829   \n",
       "\n",
       "     TNR    PPV    NPV    FPR    FNR    FDR    ACC  \n",
       "0  0.000  0.100    NaN  1.000  0.000  0.900  0.100  \n",
       "1  0.002  0.099  0.750  0.998  0.005  0.901  0.101  \n",
       "2  0.008  0.099  0.875  0.992  0.010  0.901  0.105  \n",
       "3  0.449  0.146  0.964  0.551  0.151  0.854  0.489  \n",
       "4  0.519  0.160  0.965  0.481  0.171  0.840  0.550  "
      ]
     },
     "execution_count": 33,
     "metadata": {},
     "output_type": "execute_result"
    }
   ],
   "source": [
    "all_names = ['threshold', 'TN', 'FP', 'FN', 'TP', 'f1', 'precision', 'recall', 'accuracy', 'TPR', 'TNR', 'PPV', 'NPV', 'FPR', 'FNR', 'FDR', 'ACC']\n",
    "\n",
    "df = pd.DataFrame(all_scores)\n",
    "df.columns = all_names\n",
    "\n",
    "df_score = df\n",
    "\n",
    "df.head()"
   ]
  },
  {
   "cell_type": "code",
   "execution_count": 34,
   "metadata": {},
   "outputs": [
    {
     "name": "stdout",
     "output_type": "stream",
     "text": [
      "find the highest f1\n"
     ]
    },
    {
     "data": {
      "text/html": [
       "<div>\n",
       "<style scoped>\n",
       "    .dataframe tbody tr th:only-of-type {\n",
       "        vertical-align: middle;\n",
       "    }\n",
       "\n",
       "    .dataframe tbody tr th {\n",
       "        vertical-align: top;\n",
       "    }\n",
       "\n",
       "    .dataframe thead th {\n",
       "        text-align: right;\n",
       "    }\n",
       "</style>\n",
       "<table border=\"1\" class=\"dataframe\">\n",
       "  <thead>\n",
       "    <tr style=\"text-align: right;\">\n",
       "      <th></th>\n",
       "      <th>threshold</th>\n",
       "      <th>TN</th>\n",
       "      <th>FP</th>\n",
       "      <th>FN</th>\n",
       "      <th>TP</th>\n",
       "      <th>f1</th>\n",
       "      <th>precision</th>\n",
       "      <th>recall</th>\n",
       "      <th>accuracy</th>\n",
       "      <th>TPR</th>\n",
       "      <th>TNR</th>\n",
       "      <th>PPV</th>\n",
       "      <th>NPV</th>\n",
       "      <th>FPR</th>\n",
       "      <th>FNR</th>\n",
       "      <th>FDR</th>\n",
       "      <th>ACC</th>\n",
       "    </tr>\n",
       "  </thead>\n",
       "  <tbody>\n",
       "    <tr>\n",
       "      <th>19</th>\n",
       "      <td>0.19</td>\n",
       "      <td>1740</td>\n",
       "      <td>61</td>\n",
       "      <td>71</td>\n",
       "      <td>128</td>\n",
       "      <td>0.66</td>\n",
       "      <td>0.677</td>\n",
       "      <td>0.643</td>\n",
       "      <td>0.934</td>\n",
       "      <td>0.643</td>\n",
       "      <td>0.966</td>\n",
       "      <td>0.677</td>\n",
       "      <td>0.961</td>\n",
       "      <td>0.034</td>\n",
       "      <td>0.357</td>\n",
       "      <td>0.323</td>\n",
       "      <td>0.934</td>\n",
       "    </tr>\n",
       "  </tbody>\n",
       "</table>\n",
       "</div>"
      ],
      "text/plain": [
       "    threshold    TN  FP  FN   TP    f1  precision  recall  accuracy    TPR  \\\n",
       "19       0.19  1740  61  71  128  0.66      0.677   0.643     0.934  0.643   \n",
       "\n",
       "      TNR    PPV    NPV    FPR    FNR    FDR    ACC  \n",
       "19  0.966  0.677  0.961  0.034  0.357  0.323  0.934  "
      ]
     },
     "execution_count": 34,
     "metadata": {},
     "output_type": "execute_result"
    },
    {
     "name": "stdout",
     "output_type": "stream",
     "text": [
      "find the highest recall\n"
     ]
    },
    {
     "data": {
      "text/html": [
       "<div>\n",
       "<style scoped>\n",
       "    .dataframe tbody tr th:only-of-type {\n",
       "        vertical-align: middle;\n",
       "    }\n",
       "\n",
       "    .dataframe tbody tr th {\n",
       "        vertical-align: top;\n",
       "    }\n",
       "\n",
       "    .dataframe thead th {\n",
       "        text-align: right;\n",
       "    }\n",
       "</style>\n",
       "<table border=\"1\" class=\"dataframe\">\n",
       "  <thead>\n",
       "    <tr style=\"text-align: right;\">\n",
       "      <th></th>\n",
       "      <th>threshold</th>\n",
       "      <th>TN</th>\n",
       "      <th>FP</th>\n",
       "      <th>FN</th>\n",
       "      <th>TP</th>\n",
       "      <th>f1</th>\n",
       "      <th>precision</th>\n",
       "      <th>recall</th>\n",
       "      <th>accuracy</th>\n",
       "      <th>TPR</th>\n",
       "      <th>TNR</th>\n",
       "      <th>PPV</th>\n",
       "      <th>NPV</th>\n",
       "      <th>FPR</th>\n",
       "      <th>FNR</th>\n",
       "      <th>FDR</th>\n",
       "      <th>ACC</th>\n",
       "    </tr>\n",
       "  </thead>\n",
       "  <tbody>\n",
       "    <tr>\n",
       "      <th>0</th>\n",
       "      <td>0.01</td>\n",
       "      <td>0</td>\n",
       "      <td>1801</td>\n",
       "      <td>0</td>\n",
       "      <td>199</td>\n",
       "      <td>0.181</td>\n",
       "      <td>0.1</td>\n",
       "      <td>1.0</td>\n",
       "      <td>0.1</td>\n",
       "      <td>1.0</td>\n",
       "      <td>0.0</td>\n",
       "      <td>0.1</td>\n",
       "      <td>NaN</td>\n",
       "      <td>1.0</td>\n",
       "      <td>0.0</td>\n",
       "      <td>0.9</td>\n",
       "      <td>0.1</td>\n",
       "    </tr>\n",
       "  </tbody>\n",
       "</table>\n",
       "</div>"
      ],
      "text/plain": [
       "   threshold  TN    FP  FN   TP     f1  precision  recall  accuracy  TPR  TNR  \\\n",
       "0       0.01   0  1801   0  199  0.181        0.1     1.0       0.1  1.0  0.0   \n",
       "\n",
       "   PPV  NPV  FPR  FNR  FDR  ACC  \n",
       "0  0.1  NaN  1.0  0.0  0.9  0.1  "
      ]
     },
     "execution_count": 34,
     "metadata": {},
     "output_type": "execute_result"
    }
   ],
   "source": [
    "df = df_score\n",
    "\n",
    "print('find the highest f1')\n",
    "df.sort_values(by=['f1'], ascending = False).head(1)\n",
    "\n",
    "print('find the highest recall')\n",
    "df.sort_values(by=['recall'], ascending = False).head(1)"
   ]
  },
  {
   "cell_type": "code",
   "execution_count": 35,
   "metadata": {},
   "outputs": [
    {
     "data": {
      "image/png": "[encoded data removed]",
      "text/plain": [
       "<Figure size 600x400 with 1 Axes>"
      ]
     },
     "metadata": {
      "needs_background": "light"
     },
     "output_type": "display_data"
    }
   ],
   "source": [
    "df = df_score\n",
    "col_plot = ['f1', 'precision', 'recall', 'accuracy']\n",
    "\n",
    "plt.figure(figsize=(6,4), dpi=100)\n",
    "\n",
    "for col in col_plot:\n",
    "    plt.plot(df['threshold'], df[col])\n",
    "    \n",
    "plt.title('Metric Scores vs. Positive Class Decision Probability Threshold')\n",
    "plt.legend(col_plot, bbox_to_anchor=(1.05, 0), loc='lower left')\n",
    "plt.xlabel('P threshold')\n",
    "plt.ylabel('Metric score')\n",
    "plt.show();\n",
    "\n",
    "# plt.plot(df['threshold'], df['f1'])\n",
    "# plt.plot(df['threshold'], df['precision'])\n",
    "# plt.plot(df['threshold'], df['recall'])\n",
    "# plt.plot(df['threshold'], df['accuracy'])\n",
    "\n",
    "# plt.title('Metric Scores vs. Positive Class Decision Probability Threshold')\n",
    "# plt.legend(['F1','Precision','Recall/FPR','Accuracy'], bbox_to_anchor=(1.05, 0), loc='lower left')\n",
    "# plt.xlabel('P threshold')\n",
    "# plt.ylabel('Metric score')\n",
    "# plt.show();"
   ]
  },
  {
   "cell_type": "code",
   "execution_count": 36,
   "metadata": {},
   "outputs": [
    {
     "data": {
      "image/png": "[encoded data removed]",
      "text/plain": [
       "<Figure size 400x300 with 1 Axes>"
      ]
     },
     "metadata": {
      "needs_background": "light"
     },
     "output_type": "display_data"
    }
   ],
   "source": [
    "plt.figure(figsize=(4,3), dpi=100)\n",
    "\n",
    "df = df_score\n",
    "plt.scatter(df['FPR'], df['TPR'])\n",
    "\n",
    "x = np.linspace(0,1, 1000)\n",
    "plt.plot(x, x, linestyle='--')\n",
    "\n",
    "plt.title('ROC Curve')\n",
    "plt.xlabel('False Positive Rate')\n",
    "plt.ylabel('True Positive Rate')\n",
    "\n",
    "plt.show();"
   ]
  },
  {
   "cell_type": "markdown",
   "metadata": {},
   "source": [
    "## Precision-recall trade-off"
   ]
  },
  {
   "cell_type": "code",
   "execution_count": 37,
   "metadata": {
    "scrolled": true
   },
   "outputs": [
    {
     "data": {
      "image/png": "[encoded data removed]",
      "text/plain": [
       "<Figure size 400x400 with 1 Axes>"
      ]
     },
     "metadata": {
      "needs_background": "light"
     },
     "output_type": "display_data"
    }
   ],
   "source": [
    "plt.figure(figsize=(4,4), dpi=100)\n",
    "\n",
    "df = df_score\n",
    "\n",
    "plt.scatter(df['recall'], df['precision'])\n",
    "\n",
    "x = np.linspace(0,1, 100000)\n",
    "plt.plot(x, x, linestyle='--')\n",
    "\n",
    "plt.title('precision and recall')\n",
    "plt.xlabel('precision_scores')\n",
    "plt.ylabel('recall_scores')\n",
    "\n",
    "plt.show();"
   ]
  },
  {
   "cell_type": "code",
   "execution_count": 38,
   "metadata": {},
   "outputs": [
    {
     "data": {
      "image/png": "[encoded data removed]",
      "text/plain": [
       "<Figure size 600x400 with 1 Axes>"
      ]
     },
     "metadata": {
      "needs_background": "light"
     },
     "output_type": "display_data"
    }
   ],
   "source": [
    "from sklearn.metrics import precision_recall_curve\n",
    "from sklearn.metrics import PrecisionRecallDisplay\n",
    "\n",
    "# another way of ploting precision-recall\n",
    "model = LogisticRegression(C = 100)\n",
    "model.fit(X_train, y_train)\n",
    "\n",
    "precision_curve, recall_curve, threshold_curve = precision_recall_curve(y_test, model.predict_proba(X_test)[:,1] )\n",
    "\n",
    "plt.figure(dpi=100)\n",
    "plt.plot(threshold_curve, precision_curve[1:],label='precision')\n",
    "plt.plot(threshold_curve, recall_curve[1:], label='recall')\n",
    "plt.legend(loc='lower left')\n",
    "plt.xlabel('Threshold (above this probability, label as positive)');\n",
    "plt.title('Precision and Recall Curves');"
   ]
  },
  {
   "cell_type": "code",
   "execution_count": 39,
   "metadata": {},
   "outputs": [
    {
     "data": {
      "image/png": "[encoded data removed]",
      "text/plain": [
       "<Figure size 600x400 with 1 Axes>"
      ]
     },
     "metadata": {
      "needs_background": "light"
     },
     "output_type": "display_data"
    }
   ],
   "source": [
    "plt.figure(dpi=100)\n",
    "plt.plot(recall_curve[1:], precision_curve[1:],label='precision')\n",
    "plt.xlabel(\"Recall\")\n",
    "plt.ylabel(\"Precision\")\n",
    "plt.title(\"Precision-Recall Curve\");"
   ]
  },
  {
   "cell_type": "markdown",
   "metadata": {},
   "source": [
    "## feature importance"
   ]
  },
  {
   "cell_type": "code",
   "execution_count": 40,
   "metadata": {},
   "outputs": [
    {
     "data": {
      "text/plain": [
       "LogisticRegression()"
      ]
     },
     "execution_count": 40,
     "metadata": {},
     "output_type": "execute_result"
    },
    {
     "name": "stdout",
     "output_type": "stream",
     "text": [
      "coefs: [ 0.84564225  1.70431373  1.03665064  1.16304029  1.74821385  0.16420461\n",
      "  0.24765607  2.75079684 -1.14587227]\n",
      "exp(coef): [ 2.32947343  5.49761155  2.81975681  3.19964635  5.74433326  1.17845542\n",
      "  1.28101928 15.65510159  0.31794646]\n"
     ]
    },
    {
     "data": {
      "text/html": [
       "<div>\n",
       "<style scoped>\n",
       "    .dataframe tbody tr th:only-of-type {\n",
       "        vertical-align: middle;\n",
       "    }\n",
       "\n",
       "    .dataframe tbody tr th {\n",
       "        vertical-align: top;\n",
       "    }\n",
       "\n",
       "    .dataframe thead th {\n",
       "        text-align: right;\n",
       "    }\n",
       "</style>\n",
       "<table border=\"1\" class=\"dataframe\">\n",
       "  <thead>\n",
       "    <tr style=\"text-align: right;\">\n",
       "      <th></th>\n",
       "      <th>feature</th>\n",
       "      <th>coeff (log odd) - log loss</th>\n",
       "      <th>proba (odds)</th>\n",
       "      <th>proba (% in increase)</th>\n",
       "    </tr>\n",
       "  </thead>\n",
       "  <tbody>\n",
       "    <tr>\n",
       "      <th>7</th>\n",
       "      <td>contact_with_confirmed</td>\n",
       "      <td>2.751</td>\n",
       "      <td>15.655</td>\n",
       "      <td>1465.5%</td>\n",
       "    </tr>\n",
       "    <tr>\n",
       "      <th>4</th>\n",
       "      <td>head_ache</td>\n",
       "      <td>1.748</td>\n",
       "      <td>5.744</td>\n",
       "      <td>474.4%</td>\n",
       "    </tr>\n",
       "    <tr>\n",
       "      <th>1</th>\n",
       "      <td>fever</td>\n",
       "      <td>1.704</td>\n",
       "      <td>5.498</td>\n",
       "      <td>449.8%</td>\n",
       "    </tr>\n",
       "    <tr>\n",
       "      <th>3</th>\n",
       "      <td>shortness_of_breath</td>\n",
       "      <td>1.163</td>\n",
       "      <td>3.200</td>\n",
       "      <td>220.0%</td>\n",
       "    </tr>\n",
       "    <tr>\n",
       "      <th>2</th>\n",
       "      <td>sore_throat</td>\n",
       "      <td>1.037</td>\n",
       "      <td>2.820</td>\n",
       "      <td>182.0%</td>\n",
       "    </tr>\n",
       "    <tr>\n",
       "      <th>0</th>\n",
       "      <td>cough</td>\n",
       "      <td>0.846</td>\n",
       "      <td>2.329</td>\n",
       "      <td>132.9%</td>\n",
       "    </tr>\n",
       "    <tr>\n",
       "      <th>6</th>\n",
       "      <td>gender</td>\n",
       "      <td>0.248</td>\n",
       "      <td>1.281</td>\n",
       "      <td>28.1%</td>\n",
       "    </tr>\n",
       "    <tr>\n",
       "      <th>5</th>\n",
       "      <td>age_60_and_above</td>\n",
       "      <td>0.164</td>\n",
       "      <td>1.178</td>\n",
       "      <td>17.8%</td>\n",
       "    </tr>\n",
       "    <tr>\n",
       "      <th>8</th>\n",
       "      <td>abroad</td>\n",
       "      <td>-1.146</td>\n",
       "      <td>0.318</td>\n",
       "      <td>-68.2%</td>\n",
       "    </tr>\n",
       "  </tbody>\n",
       "</table>\n",
       "</div>"
      ],
      "text/plain": [
       "                  feature  coeff (log odd) - log loss  proba (odds)  \\\n",
       "7  contact_with_confirmed                       2.751        15.655   \n",
       "4               head_ache                       1.748         5.744   \n",
       "1                   fever                       1.704         5.498   \n",
       "3     shortness_of_breath                       1.163         3.200   \n",
       "2             sore_throat                       1.037         2.820   \n",
       "0                   cough                       0.846         2.329   \n",
       "6                  gender                       0.248         1.281   \n",
       "5        age_60_and_above                       0.164         1.178   \n",
       "8                  abroad                      -1.146         0.318   \n",
       "\n",
       "  proba (% in increase)  \n",
       "7               1465.5%  \n",
       "4                474.4%  \n",
       "1                449.8%  \n",
       "3                220.0%  \n",
       "2                182.0%  \n",
       "0                132.9%  \n",
       "6                 28.1%  \n",
       "5                 17.8%  \n",
       "8                -68.2%  "
      ]
     },
     "execution_count": 40,
     "metadata": {},
     "output_type": "execute_result"
    }
   ],
   "source": [
    "# get the coeff, log coeff, and probability for the default model\n",
    "\n",
    "lr_model_all = LogisticRegression()\n",
    "lr_model_all.fit(X_train, y_train)\n",
    "\n",
    "print('coefs:', lr_model_all.coef_[0])\n",
    "\n",
    "print('exp(coef):', np.exp(lr_model_all.coef_[0]))\n",
    "\n",
    "df_coefficients = {'feature': X_train.columns, \n",
    "        'coeff (log odd) - log loss': lr_model_all.coef_[0],\n",
    "       'proba (odds)': np.exp(lr_model_all.coef_[0]),\n",
    "       'proba (% in increase)': [\"{:.1%}\".format(item-1) for item in np.exp(lr_model_all.coef_[0])]}\n",
    "\n",
    "# pd.DataFrame.from_dict(data_coefficients).head()\n",
    "pd.DataFrame.from_dict(df_coefficients).sort_values(by=['proba (odds)'], ascending = False)"
   ]
  },
  {
   "cell_type": "code",
   "execution_count": 41,
   "metadata": {},
   "outputs": [
    {
     "data": {
      "image/png": "[encoded data removed]",
      "text/plain": [
       "<Figure size 432x288 with 1 Axes>"
      ]
     },
     "metadata": {
      "needs_background": "light"
     },
     "output_type": "display_data"
    }
   ],
   "source": [
    "df = df_coefficients\n",
    "plt.barh(df['feature'], width=df['proba (odds)'], color = 'lightgrey', edgecolor = 'black');"
   ]
  },
  {
   "cell_type": "markdown",
   "metadata": {},
   "source": [
    "## feature importance (bootstrapped)\n",
    "* bootstrapping generates bags of dataset to estimate the variation of the coefficients / feature importance\n",
    "* `df_coef`: the dataframe that stores all fitted logistic-regression coefficients\n",
    "* `df_coef`: # of rows = # of bags, # of columns = # feature + 1 (1 here is the intercept)"
   ]
  },
  {
   "cell_type": "code",
   "execution_count": 42,
   "metadata": {},
   "outputs": [
    {
     "name": "stdout",
     "output_type": "stream",
     "text": [
      "Progress: 0%\n",
      "Progress: 10%\n",
      "Progress: 20%\n",
      "Progress: 30%\n",
      "Progress: 40%\n",
      "Progress: 50%\n",
      "Progress: 60%\n",
      "Progress: 70%\n",
      "Progress: 80%\n",
      "Progress: 90%\n"
     ]
    },
    {
     "data": {
      "text/plain": [
       "(1000, 10)"
      ]
     },
     "execution_count": 42,
     "metadata": {},
     "output_type": "execute_result"
    },
    {
     "data": {
      "text/html": [
       "<div>\n",
       "<style scoped>\n",
       "    .dataframe tbody tr th:only-of-type {\n",
       "        vertical-align: middle;\n",
       "    }\n",
       "\n",
       "    .dataframe tbody tr th {\n",
       "        vertical-align: top;\n",
       "    }\n",
       "\n",
       "    .dataframe thead th {\n",
       "        text-align: right;\n",
       "    }\n",
       "</style>\n",
       "<table border=\"1\" class=\"dataframe\">\n",
       "  <thead>\n",
       "    <tr style=\"text-align: right;\">\n",
       "      <th></th>\n",
       "      <th>cough</th>\n",
       "      <th>fever</th>\n",
       "      <th>sore_throat</th>\n",
       "      <th>shortness_of_breath</th>\n",
       "      <th>head_ache</th>\n",
       "      <th>age_60_and_above</th>\n",
       "      <th>gender</th>\n",
       "      <th>contact_with_confirmed</th>\n",
       "      <th>abroad</th>\n",
       "      <th>intercept</th>\n",
       "    </tr>\n",
       "  </thead>\n",
       "  <tbody>\n",
       "    <tr>\n",
       "      <th>0</th>\n",
       "      <td>0.536</td>\n",
       "      <td>1.790</td>\n",
       "      <td>0.949</td>\n",
       "      <td>1.889</td>\n",
       "      <td>1.969</td>\n",
       "      <td>0.239</td>\n",
       "      <td>0.208</td>\n",
       "      <td>2.864</td>\n",
       "      <td>-0.943</td>\n",
       "      <td>-3.201</td>\n",
       "    </tr>\n",
       "    <tr>\n",
       "      <th>0</th>\n",
       "      <td>0.860</td>\n",
       "      <td>1.706</td>\n",
       "      <td>0.794</td>\n",
       "      <td>1.674</td>\n",
       "      <td>1.995</td>\n",
       "      <td>0.312</td>\n",
       "      <td>0.254</td>\n",
       "      <td>2.694</td>\n",
       "      <td>-1.167</td>\n",
       "      <td>-3.246</td>\n",
       "    </tr>\n",
       "    <tr>\n",
       "      <th>0</th>\n",
       "      <td>0.774</td>\n",
       "      <td>1.807</td>\n",
       "      <td>1.260</td>\n",
       "      <td>1.438</td>\n",
       "      <td>1.438</td>\n",
       "      <td>0.248</td>\n",
       "      <td>0.356</td>\n",
       "      <td>2.737</td>\n",
       "      <td>-0.946</td>\n",
       "      <td>-3.213</td>\n",
       "    </tr>\n",
       "    <tr>\n",
       "      <th>0</th>\n",
       "      <td>0.903</td>\n",
       "      <td>1.585</td>\n",
       "      <td>0.656</td>\n",
       "      <td>0.418</td>\n",
       "      <td>2.003</td>\n",
       "      <td>0.106</td>\n",
       "      <td>0.125</td>\n",
       "      <td>2.766</td>\n",
       "      <td>-1.506</td>\n",
       "      <td>-3.105</td>\n",
       "    </tr>\n",
       "    <tr>\n",
       "      <th>0</th>\n",
       "      <td>1.232</td>\n",
       "      <td>1.235</td>\n",
       "      <td>1.163</td>\n",
       "      <td>0.654</td>\n",
       "      <td>1.939</td>\n",
       "      <td>0.283</td>\n",
       "      <td>0.153</td>\n",
       "      <td>2.712</td>\n",
       "      <td>-1.881</td>\n",
       "      <td>-3.196</td>\n",
       "    </tr>\n",
       "  </tbody>\n",
       "</table>\n",
       "</div>"
      ],
      "text/plain": [
       "   cough  fever  sore_throat  shortness_of_breath  head_ache  \\\n",
       "0  0.536  1.790        0.949                1.889      1.969   \n",
       "0  0.860  1.706        0.794                1.674      1.995   \n",
       "0  0.774  1.807        1.260                1.438      1.438   \n",
       "0  0.903  1.585        0.656                0.418      2.003   \n",
       "0  1.232  1.235        1.163                0.654      1.939   \n",
       "\n",
       "   age_60_and_above  gender  contact_with_confirmed  abroad  intercept  \n",
       "0             0.239   0.208                   2.864  -0.943     -3.201  \n",
       "0             0.312   0.254                   2.694  -1.167     -3.246  \n",
       "0             0.248   0.356                   2.737  -0.946     -3.213  \n",
       "0             0.106   0.125                   2.766  -1.506     -3.105  \n",
       "0             0.283   0.153                   2.712  -1.881     -3.196  "
      ]
     },
     "execution_count": 42,
     "metadata": {},
     "output_type": "execute_result"
    }
   ],
   "source": [
    "df_train = X_train.copy()\n",
    "df_train[col_y] = y_train.copy()\n",
    "\n",
    "# adjust as needed\n",
    "bags, samples = 1000, 10000 \n",
    "# samples = X_train.shape[0]\n",
    "\n",
    "df_coef = pd.DataFrame()\n",
    "\n",
    "show_progress = 0\n",
    "\n",
    "for index, item in enumerate(range(bags)):\n",
    "    \n",
    "    progress = index/bags\n",
    "    if progress < show_progress: pass\n",
    "    else: print('Progress:', \"{:.0%}\".format(show_progress)); show_progress = show_progress + 0.1    \n",
    "    \n",
    "    # bootstrap with replacement enabled\n",
    "    df_bootstrap = df_train.sample(n=samples, replace=True)\n",
    "\n",
    "    X_sample = np.array(df_bootstrap[col_X])\n",
    "    y_sample = np.array(df_bootstrap[col_y])\n",
    "    \n",
    "    model = LogisticRegression().fit(X_sample, y_sample)\n",
    "    coefficients = list(model.coef_[0]) + list([model.intercept_][0])\n",
    "\n",
    "    df_temp = pd.DataFrame([coefficients])\n",
    "    df_coef  = pd.concat([df_coef, df_temp])\n",
    "    \n",
    "df_coef.columns = list(X_train.columns) + ['intercept']\n",
    "\n",
    "df_coef.shape\n",
    "df_coef.head()"
   ]
  },
  {
   "cell_type": "code",
   "execution_count": 43,
   "metadata": {},
   "outputs": [
    {
     "name": "stdout",
     "output_type": "stream",
     "text": [
      "col_name: cough ; percentiles: 0.4711 0.8465 1.203\n",
      "col_name: fever ; percentiles: 1.3479 1.7111 2.0862\n",
      "col_name: sore_throat ; percentiles: 0.4264 1.055 1.6573\n",
      "col_name: shortness_of_breath ; percentiles: 0.0732 1.2038 2.2264\n",
      "col_name: head_ache ; percentiles: 1.3098 1.7611 2.2683\n",
      "col_name: age_60_and_above ; percentiles: -0.0576 0.1608 0.3698\n",
      "col_name: gender ; percentiles: 0.0848 0.2508 0.4114\n",
      "col_name: contact_with_confirmed ; percentiles: 2.5502 2.7655 2.9848\n",
      "col_name: abroad ; percentiles: -1.8886 -1.2167 -0.6372\n",
      "col_name: intercept ; percentiles: -3.3543 -3.2202 -3.0854\n"
     ]
    },
    {
     "data": {
      "text/html": [
       "<div>\n",
       "<style scoped>\n",
       "    .dataframe tbody tr th:only-of-type {\n",
       "        vertical-align: middle;\n",
       "    }\n",
       "\n",
       "    .dataframe tbody tr th {\n",
       "        vertical-align: top;\n",
       "    }\n",
       "\n",
       "    .dataframe thead th {\n",
       "        text-align: right;\n",
       "    }\n",
       "</style>\n",
       "<table border=\"1\" class=\"dataframe\">\n",
       "  <thead>\n",
       "    <tr style=\"text-align: right;\">\n",
       "      <th></th>\n",
       "      <th>feature</th>\n",
       "      <th>lower</th>\n",
       "      <th>lower_exp</th>\n",
       "      <th>lower_prob</th>\n",
       "      <th>mean</th>\n",
       "      <th>mean_exp</th>\n",
       "      <th>mean_prob</th>\n",
       "      <th>upper</th>\n",
       "      <th>upper_exp</th>\n",
       "      <th>upper_prob</th>\n",
       "      <th>interval</th>\n",
       "      <th>interval_exp</th>\n",
       "      <th>interval_prob</th>\n",
       "    </tr>\n",
       "  </thead>\n",
       "  <tbody>\n",
       "    <tr>\n",
       "      <th>8</th>\n",
       "      <td>abroad</td>\n",
       "      <td>-1.889</td>\n",
       "      <td>0.151</td>\n",
       "      <td>-84.9%</td>\n",
       "      <td>-1.217</td>\n",
       "      <td>0.296</td>\n",
       "      <td>-70.4%</td>\n",
       "      <td>-0.637</td>\n",
       "      <td>0.529</td>\n",
       "      <td>-47.1%</td>\n",
       "      <td>0.626</td>\n",
       "      <td>0.189</td>\n",
       "      <td>0.189</td>\n",
       "    </tr>\n",
       "    <tr>\n",
       "      <th>5</th>\n",
       "      <td>age_60_and_above</td>\n",
       "      <td>-0.058</td>\n",
       "      <td>0.944</td>\n",
       "      <td>-5.6%</td>\n",
       "      <td>0.161</td>\n",
       "      <td>1.174</td>\n",
       "      <td>17.4%</td>\n",
       "      <td>0.370</td>\n",
       "      <td>1.447</td>\n",
       "      <td>44.7%</td>\n",
       "      <td>0.214</td>\n",
       "      <td>0.252</td>\n",
       "      <td>0.252</td>\n",
       "    </tr>\n",
       "    <tr>\n",
       "      <th>6</th>\n",
       "      <td>gender</td>\n",
       "      <td>0.085</td>\n",
       "      <td>1.088</td>\n",
       "      <td>8.8%</td>\n",
       "      <td>0.251</td>\n",
       "      <td>1.285</td>\n",
       "      <td>28.5%</td>\n",
       "      <td>0.411</td>\n",
       "      <td>1.509</td>\n",
       "      <td>50.9%</td>\n",
       "      <td>0.163</td>\n",
       "      <td>0.210</td>\n",
       "      <td>0.210</td>\n",
       "    </tr>\n",
       "    <tr>\n",
       "      <th>0</th>\n",
       "      <td>cough</td>\n",
       "      <td>0.471</td>\n",
       "      <td>1.602</td>\n",
       "      <td>60.2%</td>\n",
       "      <td>0.847</td>\n",
       "      <td>2.332</td>\n",
       "      <td>133.2%</td>\n",
       "      <td>1.203</td>\n",
       "      <td>3.330</td>\n",
       "      <td>233.0%</td>\n",
       "      <td>0.366</td>\n",
       "      <td>0.864</td>\n",
       "      <td>0.864</td>\n",
       "    </tr>\n",
       "    <tr>\n",
       "      <th>2</th>\n",
       "      <td>sore_throat</td>\n",
       "      <td>0.426</td>\n",
       "      <td>1.532</td>\n",
       "      <td>53.2%</td>\n",
       "      <td>1.055</td>\n",
       "      <td>2.872</td>\n",
       "      <td>187.2%</td>\n",
       "      <td>1.657</td>\n",
       "      <td>5.245</td>\n",
       "      <td>424.5%</td>\n",
       "      <td>0.615</td>\n",
       "      <td>1.857</td>\n",
       "      <td>1.857</td>\n",
       "    </tr>\n",
       "    <tr>\n",
       "      <th>3</th>\n",
       "      <td>shortness_of_breath</td>\n",
       "      <td>0.073</td>\n",
       "      <td>1.076</td>\n",
       "      <td>7.6%</td>\n",
       "      <td>1.204</td>\n",
       "      <td>3.333</td>\n",
       "      <td>233.3%</td>\n",
       "      <td>2.226</td>\n",
       "      <td>9.267</td>\n",
       "      <td>826.7%</td>\n",
       "      <td>1.077</td>\n",
       "      <td>4.095</td>\n",
       "      <td>4.095</td>\n",
       "    </tr>\n",
       "    <tr>\n",
       "      <th>1</th>\n",
       "      <td>fever</td>\n",
       "      <td>1.348</td>\n",
       "      <td>3.849</td>\n",
       "      <td>284.9%</td>\n",
       "      <td>1.711</td>\n",
       "      <td>5.535</td>\n",
       "      <td>453.5%</td>\n",
       "      <td>2.086</td>\n",
       "      <td>8.054</td>\n",
       "      <td>705.4%</td>\n",
       "      <td>0.369</td>\n",
       "      <td>2.102</td>\n",
       "      <td>2.102</td>\n",
       "    </tr>\n",
       "    <tr>\n",
       "      <th>4</th>\n",
       "      <td>head_ache</td>\n",
       "      <td>1.310</td>\n",
       "      <td>3.705</td>\n",
       "      <td>270.5%</td>\n",
       "      <td>1.761</td>\n",
       "      <td>5.819</td>\n",
       "      <td>481.9%</td>\n",
       "      <td>2.268</td>\n",
       "      <td>9.663</td>\n",
       "      <td>866.3%</td>\n",
       "      <td>0.479</td>\n",
       "      <td>2.979</td>\n",
       "      <td>2.979</td>\n",
       "    </tr>\n",
       "    <tr>\n",
       "      <th>7</th>\n",
       "      <td>contact_with_confirmed</td>\n",
       "      <td>2.550</td>\n",
       "      <td>12.810</td>\n",
       "      <td>1181.0%</td>\n",
       "      <td>2.765</td>\n",
       "      <td>15.886</td>\n",
       "      <td>1488.6%</td>\n",
       "      <td>2.985</td>\n",
       "      <td>19.782</td>\n",
       "      <td>1878.2%</td>\n",
       "      <td>0.217</td>\n",
       "      <td>3.486</td>\n",
       "      <td>3.486</td>\n",
       "    </tr>\n",
       "  </tbody>\n",
       "</table>\n",
       "</div>"
      ],
      "text/plain": [
       "                  feature  lower  lower_exp lower_prob   mean  mean_exp  \\\n",
       "8                  abroad -1.889      0.151     -84.9% -1.217     0.296   \n",
       "5        age_60_and_above -0.058      0.944      -5.6%  0.161     1.174   \n",
       "6                  gender  0.085      1.088       8.8%  0.251     1.285   \n",
       "0                   cough  0.471      1.602      60.2%  0.847     2.332   \n",
       "2             sore_throat  0.426      1.532      53.2%  1.055     2.872   \n",
       "3     shortness_of_breath  0.073      1.076       7.6%  1.204     3.333   \n",
       "1                   fever  1.348      3.849     284.9%  1.711     5.535   \n",
       "4               head_ache  1.310      3.705     270.5%  1.761     5.819   \n",
       "7  contact_with_confirmed  2.550     12.810    1181.0%  2.765    15.886   \n",
       "\n",
       "  mean_prob  upper  upper_exp upper_prob  interval  interval_exp  \\\n",
       "8    -70.4% -0.637      0.529     -47.1%     0.626         0.189   \n",
       "5     17.4%  0.370      1.447      44.7%     0.214         0.252   \n",
       "6     28.5%  0.411      1.509      50.9%     0.163         0.210   \n",
       "0    133.2%  1.203      3.330     233.0%     0.366         0.864   \n",
       "2    187.2%  1.657      5.245     424.5%     0.615         1.857   \n",
       "3    233.3%  2.226      9.267     826.7%     1.077         4.095   \n",
       "1    453.5%  2.086      8.054     705.4%     0.369         2.102   \n",
       "4    481.9%  2.268      9.663     866.3%     0.479         2.979   \n",
       "7   1488.6%  2.985     19.782    1878.2%     0.217         3.486   \n",
       "\n",
       "   interval_prob  \n",
       "8          0.189  \n",
       "5          0.252  \n",
       "6          0.210  \n",
       "0          0.864  \n",
       "2          1.857  \n",
       "3          4.095  \n",
       "1          2.102  \n",
       "4          2.979  \n",
       "7          3.486  "
      ]
     },
     "execution_count": 43,
     "metadata": {},
     "output_type": "execute_result"
    }
   ],
   "source": [
    "# df: confidence internval\n",
    "\n",
    "df = pd.DataFrame()\n",
    "\n",
    "list_mean = []\n",
    "list_lower = []\n",
    "list_upper = []\n",
    "\n",
    "for col in df_coef.columns:\n",
    "    data = df_coef[col]\n",
    "    a, b, c = np.percentile(data, 2.5), np.mean(data), np.percentile(data, 97.5)\n",
    "    print('col_name:', col, '; percentiles:', round(a, 4), round(b, 4), round(c, 4))\n",
    "    list_lower.append(np.percentile(data, 2.5))\n",
    "    list_mean.append(np.mean(data))\n",
    "    list_upper.append(np.percentile(data, 97.5))\n",
    "    \n",
    "df['feature'] = df_coef.columns\n",
    "df['lower'] = list_lower\n",
    "df['lower_exp'] = [np.exp(item) for item in list_lower]\n",
    "df['lower_prob'] = [\"{:.1%}\".format(np.exp(item)-1) for item in list_lower]\n",
    "df['mean'] = list_mean\n",
    "df['mean_exp'] = [np.exp(item) for item in list_mean]\n",
    "df['mean_prob'] = [\"{:.1%}\".format(np.exp(item)-1) for item in list_mean]\n",
    "df['upper'] = list_upper\n",
    "df['upper_exp'] = [np.exp(item) for item in list_upper]\n",
    "df['upper_prob'] = [\"{:.1%}\".format(np.exp(item)-1) for item in list_upper]\n",
    "df['interval'] = (df['upper'] - df['lower'])/2\n",
    "df['interval_exp'] = (df['upper_exp'] - df['lower_exp'])/2\n",
    "df['interval_prob'] = [ ((np.exp(list_upper[index])-1) -  (np.exp(list_lower[index])-1))/2  for index, item in enumerate(list_upper)]\n",
    "\n",
    "# remove the intercept row and rank\n",
    "df = df[~(df['feature'].str.contains('intercept'))]\n",
    "df = df.sort_values(by=['mean'], ascending = True)\n",
    "\n",
    "df_CI = df\n",
    "\n",
    "df.head(10)"
   ]
  },
  {
   "cell_type": "code",
   "execution_count": 44,
   "metadata": {
    "scrolled": true
   },
   "outputs": [
    {
     "data": {
      "image/png": "[encoded data removed]",
      "text/plain": [
       "<Figure size 600x400 with 1 Axes>"
      ]
     },
     "metadata": {
      "needs_background": "light"
     },
     "output_type": "display_data"
    }
   ],
   "source": [
    "df = df_CI\n",
    "\n",
    "plt.figure(dpi=100)\n",
    "plt.rcParams[\"figure.figsize\"] = (8,4)\n",
    "plt.rcParams[\"errorbar.capsize\"] = 3\n",
    "\n",
    "# plt.barh(df['feature'], width=df['mean'], xerr = df['interval'], color = 'lightgrey', edgecolor = 'black')\n",
    "# plt.barh(df['feature'], width=df['mean'], xerr = df['interval'], color = 'lightgrey', edgecolor = 'black')\n",
    "plt.barh(df['feature'], width=df['mean_prob'], xerr = df['interval_prob'], color = 'lightgrey', edgecolor = 'black')\n",
    "# plt.xlim([0,15])\n",
    "# plt.xticks([0, 5, 10, 15])\n",
    "# plt.xticks([-1, 1])\n",
    "plt.show();"
   ]
  },
  {
   "cell_type": "markdown",
   "metadata": {},
   "source": [
    "## ** Confidence interval\n",
    "* [NIST](https://www.itl.nist.gov/div898/handbook/eda/section3/eda352.htm): # t1-α/2, N-1 is the 100(1-α/2) percentile of the t distribution with N - 1 degrees of freedom\n",
    "* NIST: 1.9723*0.022789/√195\n",
    "* bootstrap looks better for median\n"
   ]
  },
  {
   "cell_type": "code",
   "execution_count": 45,
   "metadata": {},
   "outputs": [
    {
     "name": "stdout",
     "output_type": "stream",
     "text": [
      "(1000000, 1)\n",
      "mean: -0.0010369043307097354 std: 0.9991877520979894\n"
     ]
    },
    {
     "data": {
      "image/png": "[encoded data removed]",
      "text/plain": [
       "<Figure size 576x288 with 1 Axes>"
      ]
     },
     "metadata": {
      "needs_background": "light"
     },
     "output_type": "display_data"
    }
   ],
   "source": [
    "mu, sigma = 0, 1 # mean and standard deviation\n",
    "data = np.random.normal(mu, sigma, 1000000)\n",
    "\n",
    "df = pd.DataFrame(data, columns = ['value'])\n",
    "\n",
    "print(df.shape)\n",
    "print('mean:', np.mean(df['value']), 'std:', np.std(df['value']))\n",
    "# df.head()\n",
    "\n",
    "\n",
    "plt.hist(df['value'], bins = 50);"
   ]
  },
  {
   "cell_type": "code",
   "execution_count": 46,
   "metadata": {},
   "outputs": [
    {
     "name": "stdout",
     "output_type": "stream",
     "text": [
      "-0.0633 -0.0017 0.0615\n",
      "mean: -0.0017 ; entire internval: 0.1248\n"
     ]
    },
    {
     "data": {
      "image/png": "[encoded data removed]",
      "text/plain": [
       "<Figure size 576x288 with 1 Axes>"
      ]
     },
     "metadata": {
      "needs_background": "light"
     },
     "output_type": "display_data"
    }
   ],
   "source": [
    "# estimate the mean value for each bootstrapped bag\n",
    "# and add it to the list\n",
    "\n",
    "means = []\n",
    "bags, samples = 10000, 1000 \n",
    "\n",
    "for item in range(bags):\n",
    "    df_bootstrap = df.sample(n=samples, replace=True)\n",
    "    values = list(df_bootstrap['value'])\n",
    "    means.append(np.mean(values))\n",
    "\n",
    "data = means\n",
    "a, b, c = np.percentile(data, 2.5), np.mean(data), np.percentile(data, 97.5)\n",
    "print(round(a, 4), round(b, 4), round(c, 4))\n",
    "print('mean:', round(b, 4), '; entire internval:', round(c-a, 4))\n",
    "\n",
    "plt.hist(data, bins=50);"
   ]
  },
  {
   "cell_type": "code",
   "execution_count": 47,
   "metadata": {},
   "outputs": [
    {
     "name": "stdout",
     "output_type": "stream",
     "text": [
      "(-0.0728, -0.0126, 0.048, 0.1204)\n"
     ]
    },
    {
     "data": {
      "image/png": "[encoded data removed]",
      "text/plain": [
       "<Figure size 576x288 with 1 Axes>"
      ]
     },
     "metadata": {
      "needs_background": "light"
     },
     "output_type": "display_data"
    }
   ],
   "source": [
    "# method 1\n",
    "def mean_confidence_interval(data, confidence=0.95):\n",
    "    a = 1.0 * np.array(data)\n",
    "    n = len(a)\n",
    "    m, se = np.mean(a), stats.sem(a)\n",
    "    h = se * stats.t.ppf((1 + confidence) / 2., n-1)\n",
    "    return round(m-h, 4), round(m, 4), round(m+h,3), round(2*h, 4)\n",
    "\n",
    "data = df['value'].sample(n=samples, replace=False)\n",
    "print(mean_confidence_interval(data))\n",
    "\n",
    "plt.hist(data, bins=50);"
   ]
  },
  {
   "cell_type": "code",
   "execution_count": 48,
   "metadata": {},
   "outputs": [],
   "source": [
    "# from scipy import stats\n",
    "\n",
    "# def mean_confidence_interval(data, confidence=0.95):\n",
    "#     a = 1.0 * np.array(data)\n",
    "#     n = len(a)\n",
    "#     m, se = np.mean(a), stats.sem(a)\n",
    "#     h = se * stats.t.ppf((1 + confidence) / 2., n-1)\n",
    "#     return round(m-h, 4), round(m, 4), round(m+h,3), round(2*h, 4)\n",
    "\n",
    "# data = df['value'].sample(n=n_boot, replace=False)\n",
    "# mean_confidence_interval(data)\n",
    "\n",
    "# # assuming t = 1.96\n",
    "# print('Entire interval distance (assuming t = 1.96):', round(2*abs(1.96*np.std(data)/((len(data))**0.5)), 4))\n",
    "\n",
    "# # from my GSMPM Cleveland code\n",
    "# CIs = [np.std(data) * stats.t.ppf(1-0.025, len(data)-1)/ (len(data)**0.5)]\n",
    "# print(print('Entire interval distance:', round(2*CIs[0], 4)))"
   ]
  },
  {
   "cell_type": "markdown",
   "metadata": {},
   "source": [
    "# Random Forest"
   ]
  },
  {
   "cell_type": "markdown",
   "metadata": {},
   "source": [
    "## Quick fit and check score"
   ]
  },
  {
   "cell_type": "code",
   "execution_count": 49,
   "metadata": {},
   "outputs": [
    {
     "name": "stdout",
     "output_type": "stream",
     "text": [
      "(10000, 9) (8000, 9) (2000, 9) (10000, 1) (8000, 1) (2000, 1)\n"
     ]
    }
   ],
   "source": [
    "# check input data again\n",
    "print(X.shape, X_train.shape, X_test.shape, y.shape, y_train.shape, y_test.shape)"
   ]
  },
  {
   "cell_type": "code",
   "execution_count": 50,
   "metadata": {},
   "outputs": [
    {
     "data": {
      "text/plain": [
       "RandomForestClassifier()"
      ]
     },
     "execution_count": 50,
     "metadata": {},
     "output_type": "execute_result"
    },
    {
     "name": "stdout",
     "output_type": "stream",
     "text": [
      "recall:  0.689\n",
      "f1: 0.6226\n"
     ]
    },
    {
     "data": {
      "text/plain": [
       "array([[1750,   51],\n",
       "       [  86,  113]], dtype=int64)"
      ]
     },
     "execution_count": 50,
     "metadata": {},
     "output_type": "execute_result"
    }
   ],
   "source": [
    "model = RandomForestClassifier()\n",
    "model.fit(X_train, y_train)\n",
    "y_pred = model.predict(X_test)\n",
    "\n",
    "print('recall: ', round(recall_score(y_pred, y_test), 4))\n",
    "print('f1:', round(f1_score(y_pred, y_test), 4))\n",
    "confusion_matrix(y_test, y_pred)"
   ]
  },
  {
   "cell_type": "markdown",
   "metadata": {},
   "source": [
    "## Tuning - GridSearchCV"
   ]
  },
  {
   "cell_type": "code",
   "execution_count": 51,
   "metadata": {},
   "outputs": [
    {
     "name": "stdout",
     "output_type": "stream",
     "text": [
      "Fitting 5 folds for each of 6 candidates, totalling 30 fits\n",
      "Best: 0.528681 using {'max_features': 'log2', 'n_estimators': 10}\n"
     ]
    },
    {
     "data": {
      "text/html": [
       "<div>\n",
       "<style scoped>\n",
       "    .dataframe tbody tr th:only-of-type {\n",
       "        vertical-align: middle;\n",
       "    }\n",
       "\n",
       "    .dataframe tbody tr th {\n",
       "        vertical-align: top;\n",
       "    }\n",
       "\n",
       "    .dataframe thead th {\n",
       "        text-align: right;\n",
       "    }\n",
       "</style>\n",
       "<table border=\"1\" class=\"dataframe\">\n",
       "  <thead>\n",
       "    <tr style=\"text-align: right;\">\n",
       "      <th></th>\n",
       "      <th>max_features</th>\n",
       "      <th>n_estimators</th>\n",
       "      <th>model</th>\n",
       "      <th>recall_mean</th>\n",
       "      <th>recall_std</th>\n",
       "    </tr>\n",
       "  </thead>\n",
       "  <tbody>\n",
       "    <tr>\n",
       "      <th>0</th>\n",
       "      <td>sqrt</td>\n",
       "      <td>10</td>\n",
       "      <td>RandomForestClassifier()</td>\n",
       "      <td>0.515</td>\n",
       "      <td>0.029</td>\n",
       "    </tr>\n",
       "    <tr>\n",
       "      <th>1</th>\n",
       "      <td>sqrt</td>\n",
       "      <td>100</td>\n",
       "      <td>RandomForestClassifier()</td>\n",
       "      <td>0.523</td>\n",
       "      <td>0.025</td>\n",
       "    </tr>\n",
       "    <tr>\n",
       "      <th>2</th>\n",
       "      <td>sqrt</td>\n",
       "      <td>1000</td>\n",
       "      <td>RandomForestClassifier()</td>\n",
       "      <td>0.523</td>\n",
       "      <td>0.026</td>\n",
       "    </tr>\n",
       "    <tr>\n",
       "      <th>3</th>\n",
       "      <td>log2</td>\n",
       "      <td>10</td>\n",
       "      <td>RandomForestClassifier()</td>\n",
       "      <td>0.529</td>\n",
       "      <td>0.029</td>\n",
       "    </tr>\n",
       "    <tr>\n",
       "      <th>4</th>\n",
       "      <td>log2</td>\n",
       "      <td>100</td>\n",
       "      <td>RandomForestClassifier()</td>\n",
       "      <td>0.517</td>\n",
       "      <td>0.029</td>\n",
       "    </tr>\n",
       "  </tbody>\n",
       "</table>\n",
       "</div>"
      ],
      "text/plain": [
       "  max_features  n_estimators                     model  recall_mean  \\\n",
       "0         sqrt            10  RandomForestClassifier()        0.515   \n",
       "1         sqrt           100  RandomForestClassifier()        0.523   \n",
       "2         sqrt          1000  RandomForestClassifier()        0.523   \n",
       "3         log2            10  RandomForestClassifier()        0.529   \n",
       "4         log2           100  RandomForestClassifier()        0.517   \n",
       "\n",
       "   recall_std  \n",
       "0       0.029  \n",
       "1       0.025  \n",
       "2       0.026  \n",
       "3       0.029  \n",
       "4       0.029  "
      ]
     },
     "execution_count": 51,
     "metadata": {},
     "output_type": "execute_result"
    }
   ],
   "source": [
    "model = RandomForestClassifier()\n",
    "\n",
    "score = 'recall'\n",
    "grid = dict(n_estimators=[10, 100, 1000],max_features=['sqrt', 'log2'])\n",
    "\n",
    "grid_search = GridSearchCV(estimator=model, param_grid=grid, n_jobs=-1, cv=5, scoring=score, error_score=0, return_train_score=True, verbose=1)\n",
    "\n",
    "grid_result = grid_search.fit(X, y)\n",
    "\n",
    "print(\"Best: %f using %s\" % (grid_result.best_score_, grid_result.best_params_))\n",
    "\n",
    "means = grid_result.cv_results_['mean_test_score']\n",
    "stds = grid_result.cv_results_['std_test_score']\n",
    "params = grid_result.cv_results_['params']\n",
    "\n",
    "df = pd.DataFrame(params)\n",
    "df['model'] = str(model)\n",
    "df[score+'_mean'] = means\n",
    "df[score+'_std'] = stds\n",
    "df_summary = df\n",
    "\n",
    "df.head()"
   ]
  },
  {
   "cell_type": "markdown",
   "metadata": {},
   "source": [
    "## Feature importance"
   ]
  },
  {
   "cell_type": "code",
   "execution_count": 52,
   "metadata": {},
   "outputs": [
    {
     "data": {
      "image/png": "[encoded data removed]",
      "text/plain": [
       "<Figure size 600x300 with 1 Axes>"
      ]
     },
     "metadata": {
      "needs_background": "light"
     },
     "output_type": "display_data"
    }
   ],
   "source": [
    "plt.rcParams[\"figure.dpi\"] = 100\n",
    "plt.rcParams[\"figure.figsize\"] = (6,3)\n",
    "plt.rcParams[\"errorbar.capsize\"] = 3\n",
    "\n",
    "feature_names = X_train.columns\n",
    "forest = RandomForestClassifier(random_state=0)\n",
    "# forest = RandomForestClassifier(random_state=0, n_estimators=1000, max_features='sqrt')\n",
    "forest.fit(X_train, y_train)\n",
    "\n",
    "importances = forest.feature_importances_\n",
    "std = np.std([tree.feature_importances_ for tree in forest.estimators_], axis=0)\n",
    "df_forest_importances = pd.DataFrame(importances, index=feature_names, columns=['importance'])\n",
    "df_forest_importances['std'] = std\n",
    "df_forest_importances['feature'] = df_forest_importances.index\n",
    "df_forest_importances = df_forest_importances.sort_values(by =['importance'], ascending = True)\n",
    "plt.barh(df_forest_importances['feature'], width=df_forest_importances['importance'], xerr = df_forest_importances['std'], color = 'lightgrey', edgecolor = 'black')\n",
    "plt.tight_layout()\n",
    "plt.show();"
   ]
  },
  {
   "cell_type": "markdown",
   "metadata": {},
   "source": [
    "#  Compare two models"
   ]
  },
  {
   "cell_type": "markdown",
   "metadata": {},
   "source": [
    "## Score models on test set\n",
    "* TM: using the covid data, a reshape of `.reshape(-1,1)` is needed for data feeding"
   ]
  },
  {
   "cell_type": "code",
   "execution_count": 53,
   "metadata": {},
   "outputs": [
    {
     "name": "stdout",
     "output_type": "stream",
     "text": [
      "(10000, 9) (8000, 9) (2000, 9) (10000, 1) (8000, 1) (2000, 1)\n"
     ]
    }
   ],
   "source": [
    "# check input data again\n",
    "print(X.shape, X_train.shape, X_test.shape, y.shape, y_train.shape, y_test.shape)"
   ]
  },
  {
   "cell_type": "code",
   "execution_count": 54,
   "metadata": {},
   "outputs": [
    {
     "data": {
      "text/plain": [
       "LogisticRegression(C=10000)"
      ]
     },
     "execution_count": 54,
     "metadata": {},
     "output_type": "execute_result"
    },
    {
     "data": {
      "text/plain": [
       "KNeighborsClassifier(n_neighbors=91)"
      ]
     },
     "execution_count": 54,
     "metadata": {},
     "output_type": "execute_result"
    },
    {
     "name": "stdout",
     "output_type": "stream",
     "text": [
      "Logistic regression validation metrics: \n",
      " Accuracy: 0.9190 \n",
      " Precision: 0.7403 \n",
      " Recall: 0.2864 \n",
      " F1: 0.4130\n",
      "\n",
      "\n",
      "10 nearest neighbors validation metrics: \n",
      " Accuracy: 0.9295 \n",
      " Precision: 0.7197 \n",
      " Recall: 0.4774 \n",
      " F1: 0.5740\n"
     ]
    }
   ],
   "source": [
    "lr = LogisticRegression(C=10000) # C large enough to remove regularization\n",
    "lr.fit(X_train, y_train)\n",
    "\n",
    "knn = KNeighborsClassifier(n_neighbors=n)\n",
    "knn.fit(X_train, y_train)\n",
    "\n",
    "y_pred = lr.predict(X_test).reshape(-1,1)\n",
    "print('Logistic regression validation metrics: \\n Accuracy: %.4f \\n Precision: %.4f \\n Recall: %.4f \\n F1: %.4f' %\n",
    "        (accuracy_score(y_test, y_pred), \n",
    "         precision_score(y_test, y_pred), \n",
    "         recall_score(y_test, y_pred), \n",
    "         f1_score(y_test, y_pred), \n",
    "        )\n",
    "     )\n",
    "\n",
    "print('\\n')\n",
    "\n",
    "y_pred = knn.predict(X_test).reshape(-1,1)\n",
    "print('10 nearest neighbors validation metrics: \\n Accuracy: %.4f \\n Precision: %.4f \\n Recall: %.4f \\n F1: %.4f' %\n",
    "        (accuracy_score(y_test, y_pred), \n",
    "         precision_score(y_test, y_pred), \n",
    "         recall_score(y_test, y_pred), \n",
    "         f1_score(y_test, y_pred), \n",
    "        )\n",
    "     )"
   ]
  },
  {
   "cell_type": "markdown",
   "metadata": {},
   "source": [
    "## ROC (> 1 models)"
   ]
  },
  {
   "cell_type": "code",
   "execution_count": 55,
   "metadata": {},
   "outputs": [
    {
     "data": {
      "image/png": "[encoded data removed]",
      "text/plain": [
       "<Figure size 432x288 with 1 Axes>"
      ]
     },
     "metadata": {},
     "output_type": "display_data"
    }
   ],
   "source": [
    "# Hint: First create a function that calculates the false positive rate.\n",
    "    \n",
    "import matplotlib.pyplot as plt\n",
    "%matplotlib inline\n",
    "import seaborn as sns\n",
    "sns.set()\n",
    "\n",
    "def fpr(actuals, preds):\n",
    "    fp = np.sum((actuals == 0) & (preds == 1))\n",
    "    tn = np.sum((actuals == 0) & (preds == 0))\n",
    "    return fp / (fp + tn)    \n",
    "\n",
    "def plot_ROC_curve(model, X, y):\n",
    "    \n",
    "    probs = model.predict_proba(X)[:,1].reshape(-1,1)\n",
    "    fprs, tprs = [],[]\n",
    "    \n",
    "    for p in np.linspace(1,0,100):\n",
    "        preds = probs >= p\n",
    "        fprs.append(fpr(y, preds))\n",
    "        tprs.append(recall_score(y, preds))\n",
    "    \n",
    "    plt.plot(fprs, tprs)\n",
    "    plt.title('ROC Curve')\n",
    "    plt.xlabel('False Positive Rate')\n",
    "    plt.ylabel('True Positive Rate')\n",
    "            \n",
    "plot_ROC_curve(lr, X_test, y_test) \n",
    "plot_ROC_curve(knn, X_test, y_test) \n",
    "x_axis = np.linspace(0, 1, 10)\n",
    "plt.plot(x_axis, x_axis, linestyle='--')\n",
    "plt.legend(['Logistic Regression','10-NN'])\n",
    "\n",
    "plt.show();"
   ]
  },
  {
   "cell_type": "code",
   "execution_count": 56,
   "metadata": {
    "scrolled": true
   },
   "outputs": [
    {
     "data": {
      "image/png": "[encoded data removed]",
      "text/plain": [
       "<Figure size 432x288 with 1 Axes>"
      ]
     },
     "metadata": {},
     "output_type": "display_data"
    }
   ],
   "source": [
    "# Finally, here's how we could do the same thing with sklearn.\n",
    "\n",
    "from sklearn.metrics import roc_curve\n",
    "\n",
    "# first model: lr\n",
    "fpr, tpr, _ = roc_curve(y_test, lr.predict_proba(X_test)[:,1])\n",
    "plt.plot(fpr, tpr)\n",
    "\n",
    "# second model: knn\n",
    "fpr, tpr, _ = roc_curve(y_test, knn.predict_proba(X_test)[:,1])\n",
    "plt.plot(fpr, tpr)\n",
    "\n",
    "x = np.linspace(0,1, 100000)\n",
    "plt.plot(x, x, linestyle='--')\n",
    "\n",
    "plt.title('ROC Curve')\n",
    "plt.xlabel('False Positive Rate')\n",
    "plt.ylabel('True Positive Rate')\n",
    "plt.legend(['Logistic Regression','10-NN'])\n",
    "\n",
    "plt.show();"
   ]
  },
  {
   "cell_type": "markdown",
   "metadata": {},
   "source": [
    "# `GridSearchCV` (*)\n",
    "* `GridSearchCV` for Hyperparameters\n",
    "* source-1: https://machinelearningmastery.com/hyperparameters-for-classification-machine-learning-algorithms/\n",
    "* source-2: https://machinelearningmastery.com/hyperparameter-optimization-with-random-search-and-grid-search/\n",
    "\n",
    "**Variables for tuning**\n",
    "* scoring: recall, accuracy\n",
    "\n",
    "**List: Model and parameters** \n",
    "1. Logistic Regression\n",
    "    * solver: [‘newton-cg’, ‘lbfgs’, ‘liblinear’, ‘sag’, ‘saga’]\n",
    "    * Regularization (penalty): [‘none’, ‘l1’, ‘l2’, ‘elasticnet’]\n",
    "    * C parameter (penalty strength): [100, 10, 1.0, 0.1, 0.01]\n",
    "\n",
    "\n",
    "2. Ridge Classifier\n",
    "    * alpha (regularization strength): [0.1, 0.2, 0.3, 0.4, 0.5, 0.6, 0.7, 0.8, 0.9, 1.0]\n",
    "\n",
    "\n",
    "3. K-Nearest Neighbors (KNN)\n",
    "    * n_neighbors: [1 to 21]\n",
    "    * metric: [‘euclidean’, ‘manhattan’, ‘minkowski’]\n",
    "    * weights: [‘uniform’, ‘distance’]\n",
    "\n",
    "\n",
    "4. Support Vector Machine (SVM)\n",
    "    * kernels: [‘linear’, ‘poly’, ‘rbf’, ‘sigmoid’]\n",
    "    * C (penalty): [100, 10, 1.0, 0.1, 0.001]\n",
    "\n",
    "\n",
    "5. Bagged Decision Trees (Bagging\n",
    "    * n_estimators (number of trees): [10, 100, 1000]\n",
    "\n",
    "\n",
    "6. Random Forest\n",
    "    * max_features (the number of random features to sample at each split point): [1 to 20], or [‘sqrt’, ‘log2’]\n",
    "    * n_estimators (number of trees): [10, 100, 1000]\n",
    "\n",
    "\n",
    "7. Stochastic Gradient Boosting (GBM, XGBoost)\n",
    "    * learning_rate: [0.001, 0.01, 0.1]\n",
    "    * n_estimators (# of trees): [10, 100, 1000]\n",
    "    * subsample: [0.5, 0.7, 1.0]\n",
    "    * max_depth (): [3, 7, 9]"
   ]
  },
  {
   "cell_type": "markdown",
   "metadata": {},
   "source": [
    "## One model: test"
   ]
  },
  {
   "cell_type": "code",
   "execution_count": 57,
   "metadata": {},
   "outputs": [],
   "source": [
    "from sklearn.model_selection import RepeatedStratifiedKFold\n",
    "from sklearn.model_selection import GridSearchCV\n",
    "\n",
    "from sklearn.linear_model import LogisticRegression\n",
    "from sklearn.linear_model import RidgeClassifier\n",
    "from sklearn.neighbors import KNeighborsClassifier\n",
    "from sklearn.svm import SVC\n",
    "from sklearn.ensemble import BaggingClassifier\n",
    "from sklearn.ensemble import RandomForestClassifier\n",
    "from sklearn.ensemble import GradientBoostingClassifier"
   ]
  },
  {
   "cell_type": "code",
   "execution_count": 58,
   "metadata": {},
   "outputs": [
    {
     "name": "stdout",
     "output_type": "stream",
     "text": [
      "Fitting 5 folds for each of 15 candidates, totalling 75 fits\n",
      "Best: 0.311344 using {'C': 100, 'penalty': 'l2', 'solver': 'newton-cg'}\n",
      "\n",
      "Print out the mean score, std score, and prameters\n",
      "0.311344 (0.032383) with: {'C': 100, 'penalty': 'l2', 'solver': 'newton-cg'}\n",
      "0.311344 (0.032383) with: {'C': 100, 'penalty': 'l2', 'solver': 'lbfgs'}\n",
      "0.311344 (0.032383) with: {'C': 100, 'penalty': 'l2', 'solver': 'liblinear'}\n",
      "0.311344 (0.032383) with: {'C': 10, 'penalty': 'l2', 'solver': 'newton-cg'}\n",
      "0.311344 (0.032383) with: {'C': 10, 'penalty': 'l2', 'solver': 'lbfgs'}\n",
      "0.311344 (0.032383) with: {'C': 10, 'penalty': 'l2', 'solver': 'liblinear'}\n",
      "0.311344 (0.032383) with: {'C': 1.0, 'penalty': 'l2', 'solver': 'newton-cg'}\n",
      "0.311344 (0.032383) with: {'C': 1.0, 'penalty': 'l2', 'solver': 'lbfgs'}\n",
      "0.311344 (0.032383) with: {'C': 1.0, 'penalty': 'l2', 'solver': 'liblinear'}\n",
      "0.291503 (0.025086) with: {'C': 0.1, 'penalty': 'l2', 'solver': 'newton-cg'}\n",
      "0.291503 (0.025086) with: {'C': 0.1, 'penalty': 'l2', 'solver': 'lbfgs'}\n",
      "0.292550 (0.025460) with: {'C': 0.1, 'penalty': 'l2', 'solver': 'liblinear'}\n",
      "0.106577 (0.013402) with: {'C': 0.01, 'penalty': 'l2', 'solver': 'newton-cg'}\n",
      "0.106577 (0.013402) with: {'C': 0.01, 'penalty': 'l2', 'solver': 'lbfgs'}\n",
      "0.111796 (0.016297) with: {'C': 0.01, 'penalty': 'l2', 'solver': 'liblinear'}\n"
     ]
    },
    {
     "data": {
      "text/html": [
       "<div>\n",
       "<style scoped>\n",
       "    .dataframe tbody tr th:only-of-type {\n",
       "        vertical-align: middle;\n",
       "    }\n",
       "\n",
       "    .dataframe tbody tr th {\n",
       "        vertical-align: top;\n",
       "    }\n",
       "\n",
       "    .dataframe thead th {\n",
       "        text-align: right;\n",
       "    }\n",
       "</style>\n",
       "<table border=\"1\" class=\"dataframe\">\n",
       "  <thead>\n",
       "    <tr style=\"text-align: right;\">\n",
       "      <th></th>\n",
       "      <th>C</th>\n",
       "      <th>penalty</th>\n",
       "      <th>solver</th>\n",
       "      <th>model</th>\n",
       "      <th>recall_mean</th>\n",
       "      <th>recall_std</th>\n",
       "    </tr>\n",
       "  </thead>\n",
       "  <tbody>\n",
       "    <tr>\n",
       "      <th>0</th>\n",
       "      <td>100.0</td>\n",
       "      <td>l2</td>\n",
       "      <td>newton-cg</td>\n",
       "      <td>LogisticRegression()</td>\n",
       "      <td>0.311</td>\n",
       "      <td>0.032</td>\n",
       "    </tr>\n",
       "    <tr>\n",
       "      <th>1</th>\n",
       "      <td>100.0</td>\n",
       "      <td>l2</td>\n",
       "      <td>lbfgs</td>\n",
       "      <td>LogisticRegression()</td>\n",
       "      <td>0.311</td>\n",
       "      <td>0.032</td>\n",
       "    </tr>\n",
       "    <tr>\n",
       "      <th>2</th>\n",
       "      <td>100.0</td>\n",
       "      <td>l2</td>\n",
       "      <td>liblinear</td>\n",
       "      <td>LogisticRegression()</td>\n",
       "      <td>0.311</td>\n",
       "      <td>0.032</td>\n",
       "    </tr>\n",
       "    <tr>\n",
       "      <th>3</th>\n",
       "      <td>10.0</td>\n",
       "      <td>l2</td>\n",
       "      <td>newton-cg</td>\n",
       "      <td>LogisticRegression()</td>\n",
       "      <td>0.311</td>\n",
       "      <td>0.032</td>\n",
       "    </tr>\n",
       "    <tr>\n",
       "      <th>4</th>\n",
       "      <td>10.0</td>\n",
       "      <td>l2</td>\n",
       "      <td>lbfgs</td>\n",
       "      <td>LogisticRegression()</td>\n",
       "      <td>0.311</td>\n",
       "      <td>0.032</td>\n",
       "    </tr>\n",
       "  </tbody>\n",
       "</table>\n",
       "</div>"
      ],
      "text/plain": [
       "       C penalty     solver                 model  recall_mean  recall_std\n",
       "0  100.0      l2  newton-cg  LogisticRegression()        0.311       0.032\n",
       "1  100.0      l2      lbfgs  LogisticRegression()        0.311       0.032\n",
       "2  100.0      l2  liblinear  LogisticRegression()        0.311       0.032\n",
       "3   10.0      l2  newton-cg  LogisticRegression()        0.311       0.032\n",
       "4   10.0      l2      lbfgs  LogisticRegression()        0.311       0.032"
      ]
     },
     "execution_count": 58,
     "metadata": {},
     "output_type": "execute_result"
    }
   ],
   "source": [
    "# define dataset\n",
    "# X, y = make_blobs(n_samples=1000, centers=2, n_features=100, cluster_std=20)\n",
    "# print(X.shape, y.shape)\n",
    "\n",
    "# 1. Logistic Regression\n",
    "from sklearn.linear_model import LogisticRegression\n",
    "model = LogisticRegression()\n",
    "grid = dict(solver=['newton-cg', 'lbfgs', 'liblinear'],penalty=['l2'],C=[100, 10, 1.0, 0.1, 0.01])\n",
    "\n",
    "# # 2. Ridge Classifier\n",
    "# from sklearn.linear_model import RidgeClassifier\n",
    "# model = RidgeClassifier()\n",
    "# grid = dict(alpha=[0.1, 0.2, 0.3, 0.4, 0.5, 0.6, 0.7, 0.8, 0.9, 1.0])\n",
    "\n",
    "# # 3. K-Nearest Neighbors (KNN)\n",
    "# from sklearn.neighbors import KNeighborsClassifier\n",
    "# model = KNeighborsClassifier()\n",
    "# grid = dict(n_neighbors=range(1, 21, 2),weights=['uniform', 'distance'],metric=['euclidean', 'manhattan', 'minkowski'])\n",
    "\n",
    "# # 4. Support Vector Machine (SVM)\n",
    "# from sklearn.svm import SVC\n",
    "# model = SVC()\n",
    "# grid = dict(kernel=['poly', 'rbf', 'sigmoid'],C=[50, 10, 1.0, 0.1, 0.01],gamma=['scale'])\n",
    "\n",
    "# # 5. Bagged Decision Trees (Bagging)\n",
    "# from sklearn.ensemble import BaggingClassifier\n",
    "# model = BaggingClassifier()\n",
    "# grid = dict(n_estimators=[10, 100, 1000])\n",
    "\n",
    "# # 6. Random Forest\n",
    "# from sklearn.ensemble import RandomForestClassifier\n",
    "# model = RandomForestClassifier()\n",
    "# grid = dict(n_estimators=[10, 100, 1000],max_features=['sqrt', 'log2'])\n",
    "\n",
    "# # 7. Stochastic Gradient Boosting\n",
    "# from sklearn.ensemble import GradientBoostingClassifier\n",
    "# model = GradientBoostingClassifier()\n",
    "# grid = dict(learning_rate= [0.001, 0.01, 0.1], n_estimators=[10, 100, 1000], subsample=[0.5, 0.7, 1.0], max_depth=[3, 7, 9])\n",
    "\n",
    "# - - - modeling - - -\n",
    "# cv = RepeatedStratifiedKFold(n_splits=10, n_repeats=3, random_state=1)\n",
    "\n",
    "# parameters: cv, scoring,\n",
    "\n",
    "score = 'recall'\n",
    "# grid_search = GridSearchCV(estimator=model, param_grid=grid, n_jobs=-1, cv=10, scoring='recall', error_score=0, return_train_score=True, verbose=1)\n",
    "grid_search = GridSearchCV(estimator=model, param_grid=grid, n_jobs=-1, cv=5, scoring=score, error_score=0, return_train_score=True, verbose=1)\n",
    "\n",
    "grid_result = grid_search.fit(X, y)\n",
    "\n",
    "#  - - - summarize results - - -\n",
    "print(\"Best: %f using %s\" % (grid_result.best_score_, grid_result.best_params_))\n",
    "\n",
    "print('\\nPrint out the mean score, std score, and prameters')\n",
    "means = grid_result.cv_results_['mean_test_score']\n",
    "stds = grid_result.cv_results_['std_test_score']\n",
    "params = grid_result.cv_results_['params']\n",
    "\n",
    "for mean, stdev, param in zip(means, stds, params):\n",
    "    print(\"%f (%f) with: %r\" % (mean, stdev, param))\n",
    "    \n",
    "df = pd.DataFrame(params)\n",
    "df['model'] = str(model)\n",
    "df[score+'_mean'] = means\n",
    "df[score+'_std'] = stds\n",
    "df_summary = df\n",
    "\n",
    "df.head()"
   ]
  },
  {
   "cell_type": "markdown",
   "metadata": {},
   "source": [
    "## One model: barplot"
   ]
  },
  {
   "cell_type": "code",
   "execution_count": 59,
   "metadata": {},
   "outputs": [],
   "source": [
    "# Predefine a few functions for plotting\n",
    "# source: https://www.semicolonworld.com/question/43851/how-to-add-group-labels-for-bar-charts-in-matplotlib\n",
    "\n",
    "from itertools import groupby\n",
    "\n",
    "def add_line(ax, xpos, ypos):\n",
    "    line = plt.Line2D([xpos, xpos], [ypos + .1, ypos], transform=ax.transAxes, color='black', linewidth=0.5)\n",
    "    line.set_clip_on(False)\n",
    "    ax.add_line(line)\n",
    "\n",
    "def label_len(my_index, level):\n",
    "    labels = my_index.get_level_values(level)\n",
    "    return [(k, sum(1 for i in g)) for k,g in groupby(labels)]\n",
    "\n",
    "def label_group_bar_table(ax, df):\n",
    "    ypos = -.1\n",
    "    scale = 1./df.index.size\n",
    "    for level in range(df.index.nlevels)[::-1]:\n",
    "        pos = 0\n",
    "        \n",
    "        angle = 90 if level == 10 else 0\n",
    "        alpha = 0 if level == 10 else 1\n",
    "        \n",
    "        for label, rpos in label_len(df.index,level):\n",
    "            lxpos = (pos + .5 * rpos)*scale\n",
    "            ax.text(lxpos, ypos, label, ha='center', transform=ax.transAxes, rotation=angle, c= 'black', alpha = alpha)\n",
    "            add_line(ax, pos*scale, ypos)\n",
    "            pos += rpos\n",
    "        add_line(ax, pos*scale , ypos)\n",
    "        ypos -= .1"
   ]
  },
  {
   "cell_type": "code",
   "execution_count": 60,
   "metadata": {},
   "outputs": [
    {
     "data": {
      "image/png": "[encoded data removed]",
      "text/plain": [
       "<Figure size 800x300 with 1 Axes>"
      ]
     },
     "metadata": {},
     "output_type": "display_data"
    }
   ],
   "source": [
    "df = df_summary\n",
    "\n",
    "col_groupby = list(params[0].keys())\n",
    "col_agg = ['mean']\n",
    "col_variable, y_label = [score+'_mean'], 'Score'\n",
    "\n",
    "plt.rcParams[\"figure.dpi\"] = 100\n",
    "plt.rcParams[\"figure.figsize\"] = (8,3)\n",
    "\n",
    "df[col_variable] = df[col_variable].astype(float)\n",
    "\n",
    "df_ave = df.groupby(col_groupby).agg(col_agg)[col_variable]\n",
    "df_std = df.groupby(col_groupby)[col_variable].std()\n",
    "\n",
    "ax = df_ave.plot(kind='bar', stacked = True, color = 'tab:blue')\n",
    "# ax = df_ave.plot(kind='bar', stacked = False, yerr = df_std, error_kw=dict(capsize=3, lw=1, capthick=0.5), edgecolor = \"black\")\n",
    "\n",
    "ax.set_xticklabels('')\n",
    "ax.set_xlabel('')\n",
    "label_group_bar_table(ax, df_ave)\n",
    "\n",
    "plt.legend(bbox_to_anchor=(1.05, 0.8), fontsize = 11, loc='upper left', borderaxespad=0.)\n",
    "plt.ylabel(y_label, fontsize = 12)\n",
    "plt.title('Model:' + str(model) + '; Parameter: ' + str(col_groupby), fontsize = 12)\n",
    "plt.show();"
   ]
  },
  {
   "cell_type": "markdown",
   "metadata": {},
   "source": [
    "## Multiple models (slow)\n",
    "1. identify models, hyper-parameters, and score (*recall* - minimize the false negative)\n",
    "2. go crazy and run all combinations (we should do this only after a coarse tuning for each model)\n",
    "2. ave all model names, parameter combinations, and scores into a data frame (for ploting) "
   ]
  },
  {
   "cell_type": "code",
   "execution_count": 61,
   "metadata": {},
   "outputs": [],
   "source": [
    "mydict_model =  {\n",
    "    LogisticRegression(): dict(solver=['newton-cg', 'lbfgs', 'liblinear'],penalty=['l2'],C=[100, 10, 1.0, 0.1, 0.01]), \n",
    "    RidgeClassifier(): dict(alpha=[0.1, 0.2, 0.3, 0.4, 0.5, 0.6, 0.7, 0.8, 0.9, 1.0]),\n",
    "    KNeighborsClassifier(): dict(n_neighbors=range(1, 21, 2),weights=['uniform'],metric=['euclidean']),\n",
    "    SVC(): dict(kernel=['poly', 'rbf'],C=[10, 1.0, 0.1, 0.01],gamma=['scale']),\n",
    "    BaggingClassifier(): dict(n_estimators=[10, 100, 1000]), \n",
    "    RandomForestClassifier(): dict(n_estimators=[10, 100, 1000],max_features=['sqrt', 'log2']),\n",
    "    GradientBoostingClassifier(): dict(learning_rate= [0.01, 0.1], n_estimators=[10, 100, 1000], subsample=[0.5, 0.7, 1.0], max_depth=[3, 7])\n",
    "}\n",
    "\n",
    "score = 'recall'"
   ]
  },
  {
   "cell_type": "code",
   "execution_count": 62,
   "metadata": {},
   "outputs": [
    {
     "name": "stdout",
     "output_type": "stream",
     "text": [
      "\n",
      "Testing this model: LogisticRegression() {'solver': ['newton-cg', 'lbfgs', 'liblinear'], 'penalty': ['l2'], 'C': [100, 10, 1.0, 0.1, 0.01]}\n",
      "Fitting 5 folds for each of 15 candidates, totalling 75 fits\n",
      "Best: 0.311344 using {'C': 100, 'penalty': 'l2', 'solver': 'newton-cg'}\n",
      "Elapsed time to compute the importances: 0.966 seconds\n",
      "\n",
      "Testing this model: RidgeClassifier() {'alpha': [0.1, 0.2, 0.3, 0.4, 0.5, 0.6, 0.7, 0.8, 0.9, 1.0]}\n",
      "Fitting 5 folds for each of 10 candidates, totalling 50 fits\n",
      "Best: 0.341612 using {'alpha': 0.1}\n",
      "Elapsed time to compute the importances: 0.405 seconds\n",
      "\n",
      "Testing this model: KNeighborsClassifier() {'n_neighbors': range(1, 21, 2), 'weights': ['uniform'], 'metric': ['euclidean']}\n",
      "Fitting 5 folds for each of 10 candidates, totalling 50 fits\n",
      "Best: 0.461884 using {'metric': 'euclidean', 'n_neighbors': 9, 'weights': 'uniform'}\n",
      "Elapsed time to compute the importances: 35.248 seconds\n",
      "\n",
      "Testing this model: SVC() {'kernel': ['poly', 'rbf'], 'C': [10, 1.0, 0.1, 0.01], 'gamma': ['scale']}\n",
      "Fitting 5 folds for each of 8 candidates, totalling 40 fits\n",
      "Best: 0.579903 using {'C': 0.1, 'gamma': 'scale', 'kernel': 'rbf'}\n",
      "Elapsed time to compute the importances: 45.272 seconds\n",
      "\n",
      "Testing this model: BaggingClassifier() {'n_estimators': [10, 100, 1000]}\n",
      "Fitting 5 folds for each of 3 candidates, totalling 15 fits\n",
      "Best: 0.517174 using {'n_estimators': 1000}\n",
      "Elapsed time to compute the importances: 16.248 seconds\n",
      "\n",
      "Testing this model: RandomForestClassifier() {'n_estimators': [10, 100, 1000], 'max_features': ['sqrt', 'log2']}\n",
      "Fitting 5 folds for each of 6 candidates, totalling 30 fits\n",
      "Best: 0.524504 using {'max_features': 'sqrt', 'n_estimators': 1000}\n",
      "Elapsed time to compute the importances: 23.239 seconds\n",
      "\n",
      "Testing this model: GradientBoostingClassifier() {'learning_rate': [0.01, 0.1], 'n_estimators': [10, 100, 1000], 'subsample': [0.5, 0.7, 1.0], 'max_depth': [3, 7]}\n",
      "Fitting 5 folds for each of 36 candidates, totalling 180 fits\n",
      "Best: 0.551691 using {'learning_rate': 0.01, 'max_depth': 3, 'n_estimators': 1000, 'subsample': 0.5}\n",
      "Elapsed time to compute the importances: 145.474 seconds\n"
     ]
    }
   ],
   "source": [
    "# save the model, parameters, and metrics into a dataframe\n",
    "df_ModelPerformance = pd.DataFrame()\n",
    "\n",
    "import time\n",
    "\n",
    "for key, value in mydict_model.items():\n",
    "    \n",
    "    start_time = time.time()\n",
    "    \n",
    "    model = key\n",
    "    grid = value\n",
    "    print('\\nTesting this model:', key, value)\n",
    "    \n",
    "    grid_search = GridSearchCV(estimator=model, param_grid=grid, n_jobs=-1, cv=5, scoring=score, error_score=0, return_train_score=True, verbose=10)\n",
    "\n",
    "    grid_result = grid_search.fit(X, y)\n",
    "\n",
    "    print(\"Best: %f using %s\" % (grid_result.best_score_, grid_result.best_params_))\n",
    "\n",
    "    means = grid_result.cv_results_['mean_test_score']\n",
    "    stds = grid_result.cv_results_['std_test_score']\n",
    "    params = grid_result.cv_results_['params']\n",
    "\n",
    "    model_name = str(model)\n",
    "    \n",
    "    df = pd.DataFrame(params)\n",
    "    df.columns = [model_name + '_' + item for item in df.columns]\n",
    "    df['model'] = model_name\n",
    "    df['score_mean'] = means\n",
    "    df['score_std'] = stds\n",
    "    df_ModelPerformance = pd.concat([df_ModelPerformance, df])\n",
    "    \n",
    "    elapsed_time = time.time() - start_time\n",
    "    print(f\"Elapsed time to compute the importances: \"f\"{elapsed_time:.3f} seconds\")"
   ]
  },
  {
   "cell_type": "code",
   "execution_count": 63,
   "metadata": {},
   "outputs": [
    {
     "data": {
      "text/plain": [
       "(88, 20)"
      ]
     },
     "execution_count": 63,
     "metadata": {},
     "output_type": "execute_result"
    },
    {
     "data": {
      "text/html": [
       "<div>\n",
       "<style scoped>\n",
       "    .dataframe tbody tr th:only-of-type {\n",
       "        vertical-align: middle;\n",
       "    }\n",
       "\n",
       "    .dataframe tbody tr th {\n",
       "        vertical-align: top;\n",
       "    }\n",
       "\n",
       "    .dataframe thead th {\n",
       "        text-align: right;\n",
       "    }\n",
       "</style>\n",
       "<table border=\"1\" class=\"dataframe\">\n",
       "  <thead>\n",
       "    <tr style=\"text-align: right;\">\n",
       "      <th></th>\n",
       "      <th>model</th>\n",
       "      <th>score_mean</th>\n",
       "      <th>score_std</th>\n",
       "      <th>LogisticRegression()_C</th>\n",
       "      <th>LogisticRegression()_penalty</th>\n",
       "      <th>LogisticRegression()_solver</th>\n",
       "      <th>RidgeClassifier()_alpha</th>\n",
       "      <th>KNeighborsClassifier()_metric</th>\n",
       "      <th>KNeighborsClassifier()_n_neighbors</th>\n",
       "      <th>KNeighborsClassifier()_weights</th>\n",
       "      <th>SVC()_C</th>\n",
       "      <th>SVC()_gamma</th>\n",
       "      <th>SVC()_kernel</th>\n",
       "      <th>BaggingClassifier()_n_estimators</th>\n",
       "      <th>RandomForestClassifier()_max_features</th>\n",
       "      <th>RandomForestClassifier()_n_estimators</th>\n",
       "      <th>GradientBoostingClassifier()_learning_rate</th>\n",
       "      <th>GradientBoostingClassifier()_max_depth</th>\n",
       "      <th>GradientBoostingClassifier()_n_estimators</th>\n",
       "      <th>GradientBoostingClassifier()_subsample</th>\n",
       "    </tr>\n",
       "  </thead>\n",
       "  <tbody>\n",
       "    <tr>\n",
       "      <th>0</th>\n",
       "      <td>LogisticRegression()</td>\n",
       "      <td>0.311</td>\n",
       "      <td>0.032</td>\n",
       "      <td>100.0</td>\n",
       "      <td>l2</td>\n",
       "      <td>newton-cg</td>\n",
       "      <td>NaN</td>\n",
       "      <td>NaN</td>\n",
       "      <td>NaN</td>\n",
       "      <td>NaN</td>\n",
       "      <td>NaN</td>\n",
       "      <td>NaN</td>\n",
       "      <td>NaN</td>\n",
       "      <td>NaN</td>\n",
       "      <td>NaN</td>\n",
       "      <td>NaN</td>\n",
       "      <td>NaN</td>\n",
       "      <td>NaN</td>\n",
       "      <td>NaN</td>\n",
       "      <td>NaN</td>\n",
       "    </tr>\n",
       "    <tr>\n",
       "      <th>1</th>\n",
       "      <td>LogisticRegression()</td>\n",
       "      <td>0.311</td>\n",
       "      <td>0.032</td>\n",
       "      <td>100.0</td>\n",
       "      <td>l2</td>\n",
       "      <td>lbfgs</td>\n",
       "      <td>NaN</td>\n",
       "      <td>NaN</td>\n",
       "      <td>NaN</td>\n",
       "      <td>NaN</td>\n",
       "      <td>NaN</td>\n",
       "      <td>NaN</td>\n",
       "      <td>NaN</td>\n",
       "      <td>NaN</td>\n",
       "      <td>NaN</td>\n",
       "      <td>NaN</td>\n",
       "      <td>NaN</td>\n",
       "      <td>NaN</td>\n",
       "      <td>NaN</td>\n",
       "      <td>NaN</td>\n",
       "    </tr>\n",
       "    <tr>\n",
       "      <th>2</th>\n",
       "      <td>LogisticRegression()</td>\n",
       "      <td>0.311</td>\n",
       "      <td>0.032</td>\n",
       "      <td>100.0</td>\n",
       "      <td>l2</td>\n",
       "      <td>liblinear</td>\n",
       "      <td>NaN</td>\n",
       "      <td>NaN</td>\n",
       "      <td>NaN</td>\n",
       "      <td>NaN</td>\n",
       "      <td>NaN</td>\n",
       "      <td>NaN</td>\n",
       "      <td>NaN</td>\n",
       "      <td>NaN</td>\n",
       "      <td>NaN</td>\n",
       "      <td>NaN</td>\n",
       "      <td>NaN</td>\n",
       "      <td>NaN</td>\n",
       "      <td>NaN</td>\n",
       "      <td>NaN</td>\n",
       "    </tr>\n",
       "    <tr>\n",
       "      <th>3</th>\n",
       "      <td>LogisticRegression()</td>\n",
       "      <td>0.311</td>\n",
       "      <td>0.032</td>\n",
       "      <td>10.0</td>\n",
       "      <td>l2</td>\n",
       "      <td>newton-cg</td>\n",
       "      <td>NaN</td>\n",
       "      <td>NaN</td>\n",
       "      <td>NaN</td>\n",
       "      <td>NaN</td>\n",
       "      <td>NaN</td>\n",
       "      <td>NaN</td>\n",
       "      <td>NaN</td>\n",
       "      <td>NaN</td>\n",
       "      <td>NaN</td>\n",
       "      <td>NaN</td>\n",
       "      <td>NaN</td>\n",
       "      <td>NaN</td>\n",
       "      <td>NaN</td>\n",
       "      <td>NaN</td>\n",
       "    </tr>\n",
       "    <tr>\n",
       "      <th>4</th>\n",
       "      <td>LogisticRegression()</td>\n",
       "      <td>0.311</td>\n",
       "      <td>0.032</td>\n",
       "      <td>10.0</td>\n",
       "      <td>l2</td>\n",
       "      <td>lbfgs</td>\n",
       "      <td>NaN</td>\n",
       "      <td>NaN</td>\n",
       "      <td>NaN</td>\n",
       "      <td>NaN</td>\n",
       "      <td>NaN</td>\n",
       "      <td>NaN</td>\n",
       "      <td>NaN</td>\n",
       "      <td>NaN</td>\n",
       "      <td>NaN</td>\n",
       "      <td>NaN</td>\n",
       "      <td>NaN</td>\n",
       "      <td>NaN</td>\n",
       "      <td>NaN</td>\n",
       "      <td>NaN</td>\n",
       "    </tr>\n",
       "  </tbody>\n",
       "</table>\n",
       "</div>"
      ],
      "text/plain": [
       "                  model  score_mean  score_std  LogisticRegression()_C  \\\n",
       "0  LogisticRegression()       0.311      0.032                   100.0   \n",
       "1  LogisticRegression()       0.311      0.032                   100.0   \n",
       "2  LogisticRegression()       0.311      0.032                   100.0   \n",
       "3  LogisticRegression()       0.311      0.032                    10.0   \n",
       "4  LogisticRegression()       0.311      0.032                    10.0   \n",
       "\n",
       "  LogisticRegression()_penalty LogisticRegression()_solver  \\\n",
       "0                           l2                   newton-cg   \n",
       "1                           l2                       lbfgs   \n",
       "2                           l2                   liblinear   \n",
       "3                           l2                   newton-cg   \n",
       "4                           l2                       lbfgs   \n",
       "\n",
       "   RidgeClassifier()_alpha KNeighborsClassifier()_metric  \\\n",
       "0                      NaN                           NaN   \n",
       "1                      NaN                           NaN   \n",
       "2                      NaN                           NaN   \n",
       "3                      NaN                           NaN   \n",
       "4                      NaN                           NaN   \n",
       "\n",
       "   KNeighborsClassifier()_n_neighbors KNeighborsClassifier()_weights  SVC()_C  \\\n",
       "0                                 NaN                            NaN      NaN   \n",
       "1                                 NaN                            NaN      NaN   \n",
       "2                                 NaN                            NaN      NaN   \n",
       "3                                 NaN                            NaN      NaN   \n",
       "4                                 NaN                            NaN      NaN   \n",
       "\n",
       "  SVC()_gamma SVC()_kernel  BaggingClassifier()_n_estimators  \\\n",
       "0         NaN          NaN                               NaN   \n",
       "1         NaN          NaN                               NaN   \n",
       "2         NaN          NaN                               NaN   \n",
       "3         NaN          NaN                               NaN   \n",
       "4         NaN          NaN                               NaN   \n",
       "\n",
       "  RandomForestClassifier()_max_features  \\\n",
       "0                                   NaN   \n",
       "1                                   NaN   \n",
       "2                                   NaN   \n",
       "3                                   NaN   \n",
       "4                                   NaN   \n",
       "\n",
       "   RandomForestClassifier()_n_estimators  \\\n",
       "0                                    NaN   \n",
       "1                                    NaN   \n",
       "2                                    NaN   \n",
       "3                                    NaN   \n",
       "4                                    NaN   \n",
       "\n",
       "   GradientBoostingClassifier()_learning_rate  \\\n",
       "0                                         NaN   \n",
       "1                                         NaN   \n",
       "2                                         NaN   \n",
       "3                                         NaN   \n",
       "4                                         NaN   \n",
       "\n",
       "   GradientBoostingClassifier()_max_depth  \\\n",
       "0                                     NaN   \n",
       "1                                     NaN   \n",
       "2                                     NaN   \n",
       "3                                     NaN   \n",
       "4                                     NaN   \n",
       "\n",
       "   GradientBoostingClassifier()_n_estimators  \\\n",
       "0                                        NaN   \n",
       "1                                        NaN   \n",
       "2                                        NaN   \n",
       "3                                        NaN   \n",
       "4                                        NaN   \n",
       "\n",
       "   GradientBoostingClassifier()_subsample  \n",
       "0                                     NaN  \n",
       "1                                     NaN  \n",
       "2                                     NaN  \n",
       "3                                     NaN  \n",
       "4                                     NaN  "
      ]
     },
     "execution_count": 63,
     "metadata": {},
     "output_type": "execute_result"
    }
   ],
   "source": [
    "df = df_ModelPerformance\n",
    "\n",
    "# adjust column order\n",
    "col_key = ['model', 'score_mean', 'score_std']\n",
    "col_rest = [item for item in df.columns if item not in col_key]\n",
    "df = df[col_key + col_rest]\n",
    "df.shape\n",
    "df.head()"
   ]
  },
  {
   "cell_type": "code",
   "execution_count": 64,
   "metadata": {},
   "outputs": [
    {
     "data": {
      "text/html": [
       "<div>\n",
       "<style scoped>\n",
       "    .dataframe tbody tr th:only-of-type {\n",
       "        vertical-align: middle;\n",
       "    }\n",
       "\n",
       "    .dataframe tbody tr th {\n",
       "        vertical-align: top;\n",
       "    }\n",
       "\n",
       "    .dataframe thead th {\n",
       "        text-align: right;\n",
       "    }\n",
       "</style>\n",
       "<table border=\"1\" class=\"dataframe\">\n",
       "  <thead>\n",
       "    <tr style=\"text-align: right;\">\n",
       "      <th></th>\n",
       "      <th>model_</th>\n",
       "      <th>score_mean_mean</th>\n",
       "      <th>score_mean_max</th>\n",
       "      <th>score_mean_count</th>\n",
       "    </tr>\n",
       "  </thead>\n",
       "  <tbody>\n",
       "    <tr>\n",
       "      <th>4</th>\n",
       "      <td>RandomForestClassifier()</td>\n",
       "      <td>0.519</td>\n",
       "      <td>0.525</td>\n",
       "      <td>6</td>\n",
       "    </tr>\n",
       "    <tr>\n",
       "      <th>0</th>\n",
       "      <td>BaggingClassifier()</td>\n",
       "      <td>0.517</td>\n",
       "      <td>0.517</td>\n",
       "      <td>3</td>\n",
       "    </tr>\n",
       "    <tr>\n",
       "      <th>6</th>\n",
       "      <td>SVC()</td>\n",
       "      <td>0.467</td>\n",
       "      <td>0.580</td>\n",
       "      <td>8</td>\n",
       "    </tr>\n",
       "    <tr>\n",
       "      <th>2</th>\n",
       "      <td>KNeighborsClassifier()</td>\n",
       "      <td>0.398</td>\n",
       "      <td>0.462</td>\n",
       "      <td>10</td>\n",
       "    </tr>\n",
       "    <tr>\n",
       "      <th>5</th>\n",
       "      <td>RidgeClassifier()</td>\n",
       "      <td>0.342</td>\n",
       "      <td>0.342</td>\n",
       "      <td>10</td>\n",
       "    </tr>\n",
       "    <tr>\n",
       "      <th>1</th>\n",
       "      <td>GradientBoostingClassifier()</td>\n",
       "      <td>0.326</td>\n",
       "      <td>0.552</td>\n",
       "      <td>36</td>\n",
       "    </tr>\n",
       "    <tr>\n",
       "      <th>3</th>\n",
       "      <td>LogisticRegression()</td>\n",
       "      <td>0.267</td>\n",
       "      <td>0.311</td>\n",
       "      <td>15</td>\n",
       "    </tr>\n",
       "  </tbody>\n",
       "</table>\n",
       "</div>"
      ],
      "text/plain": [
       "                         model_  score_mean_mean  score_mean_max  \\\n",
       "4      RandomForestClassifier()            0.519           0.525   \n",
       "0           BaggingClassifier()            0.517           0.517   \n",
       "6                         SVC()            0.467           0.580   \n",
       "2        KNeighborsClassifier()            0.398           0.462   \n",
       "5             RidgeClassifier()            0.342           0.342   \n",
       "1  GradientBoostingClassifier()            0.326           0.552   \n",
       "3          LogisticRegression()            0.267           0.311   \n",
       "\n",
       "   score_mean_count  \n",
       "4                 6  \n",
       "0                 3  \n",
       "6                 8  \n",
       "2                10  \n",
       "5                10  \n",
       "1                36  \n",
       "3                15  "
      ]
     },
     "execution_count": 64,
     "metadata": {},
     "output_type": "execute_result"
    }
   ],
   "source": [
    "df = df_ModelPerformance\n",
    "\n",
    "col_groupby = ['model']\n",
    "col_agg = ['mean', 'max', 'count']\n",
    "col_variable = ['score_mean']\n",
    "\n",
    "df = df.groupby(col_groupby).agg(col_agg)[col_variable].reset_index()\n",
    "df.columns = ['_'.join(item) for item in df.columns]\n",
    "\n",
    "df.sort_values(by =['score_mean_mean'], ascending = False)"
   ]
  },
  {
   "cell_type": "markdown",
   "metadata": {},
   "source": [
    "## RandomGridSearchCV\n",
    "* may work on *Random* search after the *Grid* search\n",
    "* https://machinelearningmastery.com/hyperparameter-optimization-with-random-search-and-grid-search/"
   ]
  },
  {
   "cell_type": "code",
   "execution_count": 65,
   "metadata": {
    "scrolled": true
   },
   "outputs": [],
   "source": [
    "# from scipy.stats import loguniform\n",
    "# from sklearn.model_selection import RepeatedStratifiedKFold\n",
    "# from sklearn.model_selection import RandomizedSearchCV\n",
    "\n",
    "# # define model\n",
    "# model = LogisticRegression()\n",
    "# # define evaluation\n",
    "# cv = RepeatedStratifiedKFold(n_splits=10, n_repeats=3, random_state=1)\n",
    "# # define search space\n",
    "# space = dict()\n",
    "# space['solver'] = ['newton-cg', 'lbfgs', 'liblinear']\n",
    "# space['penalty'] = ['none', 'l1', 'l2', 'elasticnet']\n",
    "# space['C'] = loguniform(1e-5, 100)\n",
    "# # define search\n",
    "# search = RandomizedSearchCV(model, space, n_iter=500, scoring='recall', n_jobs=-1, cv=cv, random_state=1)\n",
    "# # execute search\n",
    "# result = search.fit(X, y)\n",
    "# # summarize result\n",
    "# print('Best Score: %s' % result.best_score_)\n",
    "# print('Best Hyperparameters: %s' % result.best_params_)"
   ]
  },
  {
   "cell_type": "markdown",
   "metadata": {},
   "source": [
    "# Class imbalance\n",
    "\n",
    "3 broad categories:\n",
    "1. **Before model training**: Resampling strategies (oversampling, undersampling)\n",
    "2. **During model training**: Training with adjusted class weights\n",
    "3. **After model training**: Adjusting the decision threshold (F1 optimization strategy)"
   ]
  },
  {
   "cell_type": "code",
   "execution_count": 66,
   "metadata": {},
   "outputs": [
    {
     "name": "stdout",
     "output_type": "stream",
     "text": [
      "Check data:\n",
      "(8000, 9) (2000, 9) (8000, 1) (2000, 1)\n",
      "<class 'pandas.core.frame.DataFrame'> <class 'pandas.core.frame.DataFrame'>\n"
     ]
    }
   ],
   "source": [
    "print('Check data:')\n",
    "print(X_train.shape, X_test.shape, y_train.shape, y_test.shape)\n",
    "print(type(X_train), type(y_train))\n",
    "\n",
    "n_pos = y_train[y_train[col_y] == 1].dropna().shape[0]\n",
    "n_neg = y_train[y_train[col_y] == 0].dropna().shape[0]"
   ]
  },
  {
   "cell_type": "markdown",
   "metadata": {},
   "source": [
    "## 1). resampling\n",
    "* the default recall and F1 scores are improved by oversampling (use more positive results)"
   ]
  },
  {
   "cell_type": "code",
   "execution_count": 67,
   "metadata": {},
   "outputs": [
    {
     "name": "stdout",
     "output_type": "stream",
     "text": [
      "n_pos = 758 , n_neg = 7242\n"
     ]
    },
    {
     "data": {
      "text/plain": [
       "LogisticRegression(solver='liblinear')"
      ]
     },
     "execution_count": 67,
     "metadata": {},
     "output_type": "execute_result"
    },
    {
     "name": "stdout",
     "output_type": "stream",
     "text": [
      "Simple Logistic Regression:\n",
      "Test F1: 0.401\n",
      "Test Recall: 0.276\n",
      "Test AUC: 0.818\n"
     ]
    },
    {
     "data": {
      "text/plain": [
       "LogisticRegression(solver='liblinear')"
      ]
     },
     "execution_count": 67,
     "metadata": {},
     "output_type": "execute_result"
    },
    {
     "name": "stdout",
     "output_type": "stream",
     "text": [
      "Logistic Regression on Oversampled Train Data:\n",
      "Test F1: 0.653\n",
      "Test Recall: 0.633\n",
      "Test AUC: 0.818\n"
     ]
    }
   ],
   "source": [
    "import imblearn.over_sampling\n",
    "\n",
    "# setup for the ratio argument of RandomOverSampler initialization\n",
    "ratio = {1 : n_pos * 4, 0 : n_neg} \n",
    "print('n_pos =', n_pos, ', n_neg =', n_neg)\n",
    "\n",
    "# randomly oversample positive samples: create nx as many \n",
    "ROS = imblearn.over_sampling.RandomOverSampler(sampling_strategy = ratio, random_state=42) \n",
    "X_train_rs, y_train_rs = ROS.fit_resample(X_train, y_train)\n",
    "\n",
    "# simple regression model\n",
    "lr = LogisticRegression(solver='liblinear') \n",
    "lr.fit(X_train, y_train)\n",
    "\n",
    "print('Simple Logistic Regression:')\n",
    "print('Test F1: %.3f' % f1_score(y_test, lr.predict(X_test)))\n",
    "print('Test Recall: %.3f' % recall_score(y_test, lr.predict(X_test)))\n",
    "print('Test AUC: %.3f' % roc_auc_score(y_test, lr.predict_proba(X_test)[:,1]))\n",
    "\n",
    "lr_os = LogisticRegression(solver='liblinear') \n",
    "lr_os.fit(X_train_rs, y_train_rs)\n",
    "\n",
    "print('Logistic Regression on Oversampled Train Data:')\n",
    "print('Test F1: %.3f' % f1_score(y_test, lr_os.predict(X_test)))\n",
    "print('Test Recall: %.3f' % recall_score(y_test, lr_os.predict(X_test)))\n",
    "print('Test AUC: %.3f' % roc_auc_score(y_test, lr_os.predict_proba(X_test)[:,1]))"
   ]
  },
  {
   "cell_type": "markdown",
   "metadata": {},
   "source": [
    "## 2) Adjusting class weights (during model training)"
   ]
  },
  {
   "cell_type": "code",
   "execution_count": 68,
   "metadata": {},
   "outputs": [
    {
     "name": "stdout",
     "output_type": "stream",
     "text": [
      "Normal Logistic Regression Test F1: 0.401, Test AUC: 0.818\n",
      "Balanced class weights Logistic Regression Test F1: 0.626, Test AUC: 0.818\n",
      "4:1 class weights Logistic Regression Test F1: 0.656, Test AUC: 0.818\n"
     ]
    }
   ],
   "source": [
    "lr = LogisticRegression(solver='liblinear') \n",
    "lr_balanced = LogisticRegression(class_weight='balanced', solver='liblinear')\n",
    "lr_4x = LogisticRegression(class_weight={1 : 4, 0 : 1}, solver='liblinear')\n",
    "\n",
    "lr.fit(X_train, y_train)\n",
    "print('Normal Logistic Regression Test F1: %.3f, Test AUC: %.3f' % \\\n",
    "      (f1_score(y_test, lr.predict(X_test)), roc_auc_score(y_test, lr.predict_proba(X_test)[:,1])))\n",
    "\n",
    "lr_balanced.fit(X_train, y_train)\n",
    "print('Balanced class weights Logistic Regression Test F1: %.3f, Test AUC: %.3f' % \\\n",
    "      (f1_score(y_test, lr_balanced.predict(X_test)), roc_auc_score(y_test, lr_balanced.predict_proba(X_test)[:,1])))\n",
    "\n",
    "lr_4x.fit(X_train, y_train)\n",
    "print('4:1 class weights Logistic Regression Test F1: %.3f, Test AUC: %.3f' % \\\n",
    "      (f1_score(y_test, lr_4x.predict(X_test)), roc_auc_score(y_test, lr_4x.predict_proba(X_test)[:,1])));"
   ]
  },
  {
   "cell_type": "markdown",
   "metadata": {},
   "source": [
    "## 3) Threshold Adjustment to Optimize F1 (after model training)"
   ]
  },
  {
   "cell_type": "code",
   "execution_count": 69,
   "metadata": {
    "scrolled": true
   },
   "outputs": [
    {
     "name": "stdout",
     "output_type": "stream",
     "text": [
      "Logistic Regression Model best F1 score 0.655 at prob decision threshold >= 0.186\n"
     ]
    },
    {
     "data": {
      "image/png": "[encoded data removed]",
      "text/plain": [
       "<Figure size 800x300 with 1 Axes>"
      ]
     },
     "metadata": {},
     "output_type": "display_data"
    }
   ],
   "source": [
    "X_val, y_val = X_test, y_test # explicitly calling this validation since we're using it for selection\n",
    "\n",
    "thresh_ps = np.linspace(0.05, 0.95,100)\n",
    "model_val_probs = lr.predict_proba(X_val)[:,1] # positive class probs, same basic logistic model we fit in section 2 \n",
    "\n",
    "f1_scores, prec_scores, rec_scores, acc_scores = [], [], [], []\n",
    "for p in thresh_ps:\n",
    "    model_val_labels = model_val_probs >= p\n",
    "    f1_scores.append(f1_score(y_val, model_val_labels))    \n",
    "    prec_scores.append(precision_score(y_val, model_val_labels))\n",
    "    rec_scores.append(recall_score(y_val, model_val_labels))\n",
    "    acc_scores.append(accuracy_score(y_val, model_val_labels))\n",
    "    \n",
    "plt.plot(thresh_ps, f1_scores)\n",
    "plt.plot(thresh_ps, prec_scores)\n",
    "plt.plot(thresh_ps, rec_scores)\n",
    "plt.plot(thresh_ps, acc_scores)\n",
    "\n",
    "plt.title('Metric Scores vs. Positive Class Decision Probability Threshold')\n",
    "plt.legend(['F1','Precision','Recall','Accuracy'], bbox_to_anchor=(1.05, 0), loc='lower left')\n",
    "plt.xlabel('P threshold')\n",
    "plt.ylabel('Metric score')\n",
    "\n",
    "best_f1_score = np.max(f1_scores) \n",
    "best_thresh_p = thresh_ps[np.argmax(f1_scores)]\n",
    "\n",
    "print('Logistic Regression Model best F1 score %.3f at prob decision threshold >= %.3f' \n",
    "      % (best_f1_score, best_thresh_p));"
   ]
  },
  {
   "cell_type": "markdown",
   "metadata": {},
   "source": [
    "# Ensembling (Voting, parallel)"
   ]
  },
  {
   "cell_type": "markdown",
   "metadata": {},
   "source": [
    "## Prep"
   ]
  },
  {
   "cell_type": "code",
   "execution_count": 70,
   "metadata": {},
   "outputs": [
    {
     "name": "stdout",
     "output_type": "stream",
     "text": [
      "(8000, 9) (2000, 9) (8000, 1) (2000, 1)\n"
     ]
    }
   ],
   "source": [
    "from sklearn import model_selection\n",
    "\n",
    "print(X_train.shape, X_test.shape, y_train.shape, y_test.shape)"
   ]
  },
  {
   "cell_type": "code",
   "execution_count": 71,
   "metadata": {},
   "outputs": [],
   "source": [
    "# Instantiate four models\n",
    "\n",
    "from sklearn import linear_model, neighbors, ensemble\n",
    "\n",
    "lr_model = linear_model.LogisticRegression(solver=\"lbfgs\", random_state=1)\n",
    "knn_model = neighbors.KNeighborsClassifier()\n",
    "rf_model = ensemble.RandomForestClassifier(n_estimators=100, random_state=1)\n",
    "et_model = ensemble.ExtraTreesClassifier(n_estimators=100, random_state=1)\n",
    "\n",
    "models = [\"lr_model\", \"knn_model\", \"rf_model\", \"et_model\"]"
   ]
  },
  {
   "cell_type": "code",
   "execution_count": 72,
   "metadata": {},
   "outputs": [
    {
     "data": {
      "text/plain": [
       "LogisticRegression(random_state=1)"
      ]
     },
     "execution_count": 72,
     "metadata": {},
     "output_type": "execute_result"
    },
    {
     "data": {
      "text/plain": [
       "KNeighborsClassifier()"
      ]
     },
     "execution_count": 72,
     "metadata": {},
     "output_type": "execute_result"
    },
    {
     "data": {
      "text/plain": [
       "RandomForestClassifier(random_state=1)"
      ]
     },
     "execution_count": 72,
     "metadata": {},
     "output_type": "execute_result"
    },
    {
     "data": {
      "text/plain": [
       "ExtraTreesClassifier(random_state=1)"
      ]
     },
     "execution_count": 72,
     "metadata": {},
     "output_type": "execute_result"
    }
   ],
   "source": [
    "# Train each model and save as pickle\n",
    "\n",
    "import pickle\n",
    "\n",
    "for model_name in models:\n",
    "    curr_model = eval(model_name)\n",
    "    curr_model.fit(X_train, y_train)\n",
    "    with open(f\"models/{model_name}.pickle\", \"wb\") as pfile:\n",
    "        pickle.dump(curr_model, pfile);"
   ]
  },
  {
   "cell_type": "code",
   "execution_count": 73,
   "metadata": {},
   "outputs": [],
   "source": [
    "from sklearn.ensemble import RandomForestClassifier, ExtraTreesClassifier, VotingClassifier\n",
    "from mlxtend.classifier import StackingClassifier # <-- note: this is not from sklearn!\n",
    "\n",
    "sns.set_style(\"whitegrid\")\n",
    "\n",
    "# TM, 2021.5.10: conda install mlxtend --channel conda-forge"
   ]
  },
  {
   "cell_type": "markdown",
   "metadata": {},
   "source": [
    "## Voting classifier\n",
    "\n",
    "- Max Voting\n",
    "- Average Voting\n",
    "- Weighted Voting"
   ]
  },
  {
   "cell_type": "code",
   "execution_count": 74,
   "metadata": {},
   "outputs": [],
   "source": [
    "# Load pre-trained/tuned models\n",
    "\n",
    "model_names = [\"lr_model\", \"knn_model\", \"rf_model\", \"et_model\"]\n",
    "\n",
    "for model_name in model_names:\n",
    "    with open(f\"models/{model_name}.pickle\", \"rb\") as pfile:\n",
    "        exec(f\"{model_name} = pickle.load(pfile)\")\n",
    "\n",
    "model_vars = [eval(n) for n in model_names]\n",
    "model_list = list(zip(model_names, model_vars))"
   ]
  },
  {
   "cell_type": "code",
   "execution_count": 75,
   "metadata": {},
   "outputs": [
    {
     "data": {
      "text/plain": [
       "[('lr_model', LogisticRegression(random_state=1)),\n",
       " ('knn_model', KNeighborsClassifier()),\n",
       " ('rf_model', RandomForestClassifier(random_state=1)),\n",
       " ('et_model', ExtraTreesClassifier(random_state=1))]"
      ]
     },
     "execution_count": 75,
     "metadata": {},
     "output_type": "execute_result"
    }
   ],
   "source": [
    "model_list"
   ]
  },
  {
   "cell_type": "code",
   "execution_count": 76,
   "metadata": {},
   "outputs": [
    {
     "name": "stdout",
     "output_type": "stream",
     "text": [
      "lr_model score: 0.918\n",
      "knn_model score: 0.935\n",
      "rf_model score: 0.9305\n",
      "et_model score: 0.9305\n"
     ]
    }
   ],
   "source": [
    "# Quick peek at each model performance\n",
    "\n",
    "for model_name in model_names:\n",
    "    curr_model = eval(model_name)\n",
    "    print(f'{model_name} score: {curr_model.score(X_test, y_test)}')"
   ]
  },
  {
   "cell_type": "markdown",
   "metadata": {},
   "source": [
    "## 1) Max Voting (hard)"
   ]
  },
  {
   "cell_type": "code",
   "execution_count": 77,
   "metadata": {},
   "outputs": [
    {
     "data": {
      "text/plain": [
       "VotingClassifier(estimators=[('lr_model', LogisticRegression(random_state=1)),\n",
       "                             ('knn_model', KNeighborsClassifier()),\n",
       "                             ('rf_model',\n",
       "                              RandomForestClassifier(random_state=1)),\n",
       "                             ('et_model',\n",
       "                              ExtraTreesClassifier(random_state=1))],\n",
       "                 n_jobs=-1)"
      ]
     },
     "execution_count": 77,
     "metadata": {},
     "output_type": "execute_result"
    }
   ],
   "source": [
    "# create voting classifier\n",
    "voting_classifer = VotingClassifier(estimators=model_list, voting='hard',  n_jobs=-1)\n",
    "voting_classifer.fit(X_train, y_train)"
   ]
  },
  {
   "cell_type": "code",
   "execution_count": 78,
   "metadata": {},
   "outputs": [
    {
     "data": {
      "text/plain": [
       "0.5226130653266332"
      ]
     },
     "execution_count": 78,
     "metadata": {},
     "output_type": "execute_result"
    }
   ],
   "source": [
    "# get score\n",
    "y_pred = voting_classifer.predict(X_test)\n",
    "# accuracy_score(y_test, y_pred)\n",
    "recall_score(y_test, y_pred)"
   ]
  },
  {
   "cell_type": "markdown",
   "metadata": {},
   "source": [
    "## 2) Average Voting (soft)"
   ]
  },
  {
   "cell_type": "code",
   "execution_count": 79,
   "metadata": {},
   "outputs": [
    {
     "data": {
      "text/plain": [
       "VotingClassifier(estimators=[('lr_model', LogisticRegression(random_state=1)),\n",
       "                             ('knn_model', KNeighborsClassifier()),\n",
       "                             ('rf_model',\n",
       "                              RandomForestClassifier(random_state=1)),\n",
       "                             ('et_model',\n",
       "                              ExtraTreesClassifier(random_state=1))],\n",
       "                 n_jobs=-1, voting='soft')"
      ]
     },
     "execution_count": 79,
     "metadata": {},
     "output_type": "execute_result"
    }
   ],
   "source": [
    "# create voting classifier\n",
    "voting_classifer = VotingClassifier(estimators=model_list, voting='soft',  n_jobs=-1)\n",
    "voting_classifer.fit(X_train, y_train)"
   ]
  },
  {
   "cell_type": "code",
   "execution_count": 80,
   "metadata": {},
   "outputs": [
    {
     "data": {
      "text/plain": [
       "0.5628140703517588"
      ]
     },
     "execution_count": 80,
     "metadata": {},
     "output_type": "execute_result"
    }
   ],
   "source": [
    "# Get accuracy\n",
    "y_pred = voting_classifer.predict(X_test)\n",
    "# accuracy_score(y_test, y_pred)\n",
    "recall_score(y_test, y_pred)"
   ]
  },
  {
   "cell_type": "markdown",
   "metadata": {},
   "source": [
    "## 3)  Weighted Voting\n",
    "* different weights for different models"
   ]
  },
  {
   "cell_type": "code",
   "execution_count": 81,
   "metadata": {},
   "outputs": [
    {
     "data": {
      "text/plain": [
       "VotingClassifier(estimators=[('lr_model', LogisticRegression(random_state=1)),\n",
       "                             ('knn_model', KNeighborsClassifier()),\n",
       "                             ('rf_model',\n",
       "                              RandomForestClassifier(random_state=1)),\n",
       "                             ('et_model',\n",
       "                              ExtraTreesClassifier(random_state=1))],\n",
       "                 n_jobs=-1, voting='soft', weights=[1.5, 3.8, 4.2, 2.2])"
      ]
     },
     "execution_count": 81,
     "metadata": {},
     "output_type": "execute_result"
    }
   ],
   "source": [
    "# create voting classifier\n",
    "weights = [1.5,3.8,4.2,2.2]\n",
    "voting_model = VotingClassifier(estimators=model_list, voting='soft',  weights = weights, n_jobs=-1)\n",
    "voting_model.fit(X_train, y_train)"
   ]
  },
  {
   "cell_type": "code",
   "execution_count": 82,
   "metadata": {},
   "outputs": [
    {
     "data": {
      "text/plain": [
       "0.5477386934673367"
      ]
     },
     "execution_count": 82,
     "metadata": {},
     "output_type": "execute_result"
    }
   ],
   "source": [
    "# Get accuracy\n",
    "y_pred = voting_model.predict(X_test)\n",
    "# accuracy_score(y_test, y_pred)\n",
    "recall_score(y_test, y_pred)"
   ]
  },
  {
   "cell_type": "markdown",
   "metadata": {},
   "source": [
    "## 4)  Stacking Classifier"
   ]
  },
  {
   "cell_type": "code",
   "execution_count": 83,
   "metadata": {},
   "outputs": [],
   "source": [
    "stacked = StackingClassifier(classifiers=model_vars, meta_classifier=LogisticRegression(), use_probas=False)"
   ]
  },
  {
   "cell_type": "code",
   "execution_count": 84,
   "metadata": {},
   "outputs": [
    {
     "data": {
      "text/plain": [
       "StackingClassifier(classifiers=[LogisticRegression(random_state=1),\n",
       "                                KNeighborsClassifier(),\n",
       "                                RandomForestClassifier(random_state=1),\n",
       "                                ExtraTreesClassifier(random_state=1)],\n",
       "                   meta_classifier=LogisticRegression())"
      ]
     },
     "execution_count": 84,
     "metadata": {},
     "output_type": "execute_result"
    }
   ],
   "source": [
    "stacked.fit(X_train, y_train)"
   ]
  },
  {
   "cell_type": "code",
   "execution_count": 85,
   "metadata": {
    "scrolled": true
   },
   "outputs": [
    {
     "data": {
      "text/plain": [
       "0.507537688442211"
      ]
     },
     "execution_count": 85,
     "metadata": {},
     "output_type": "execute_result"
    }
   ],
   "source": [
    "y_pred = stacked.predict(X_test)\n",
    "# accuracy_score(y_test, y_pred)\n",
    "recall_score(y_test, y_pred)"
   ]
  },
  {
   "cell_type": "markdown",
   "metadata": {},
   "source": [
    "# Boosting (XGBoost, sequential)"
   ]
  },
  {
   "cell_type": "code",
   "execution_count": 86,
   "metadata": {},
   "outputs": [
    {
     "name": "stdout",
     "output_type": "stream",
     "text": [
      "Populating the interactive namespace from numpy and matplotlib\n"
     ]
    }
   ],
   "source": [
    "# !conda install -y -c conda-forge xgboost\n",
    "\n",
    "#######################\n",
    "# standard code block #\n",
    "#######################\n",
    "\n",
    "# see https://ipython.readthedocs.io/en/stable/interactive/magics.html\n",
    "%pylab inline\n",
    "\n",
    "# sets backend to render higher res images\n",
    "%config InlineBackend.figure_formats = ['retina']\n",
    "\n",
    "#######################\n",
    "#       imports       #\n",
    "#######################\n",
    "import pandas as pd\n",
    "import seaborn as sns\n",
    "from sklearn.datasets import fetch_california_housing\n",
    "from sklearn.datasets import load_breast_cancer\n",
    "from sklearn.metrics import accuracy_score\n",
    "import xgboost as xgb\n",
    "\n",
    "sns.set_style(\"whitegrid\")"
   ]
  },
  {
   "cell_type": "markdown",
   "metadata": {},
   "source": [
    "## Classification"
   ]
  },
  {
   "cell_type": "code",
   "execution_count": 87,
   "metadata": {},
   "outputs": [],
   "source": [
    "# covid data\n",
    "\n",
    "# X, y = X_copy.copy(), y_copy.copy()\n",
    "# # X_train, X_test, y_train, y_test = X_train_copy.copy(), X_test_copy.copy(), y_train_copy.copy(), y_test_copy.copy()\n",
    "\n",
    "# #Split data into 3: 60% train, 20% validation, 20% test\n",
    "# X_train, X_test, y_train, y_test = train_test_split(X, y, test_size=0.2, random_state=1)\n",
    "# X_train, X_val, y_train, y_val = train_test_split(X_train, y_train, test_size=0.25, random_state=2)"
   ]
  },
  {
   "cell_type": "code",
   "execution_count": 88,
   "metadata": {
    "scrolled": true
   },
   "outputs": [
    {
     "name": "stdout",
     "output_type": "stream",
     "text": [
      "accuracy: 0.933\n",
      "recall: 0.5879396984924623\n"
     ]
    }
   ],
   "source": [
    "gbm = xgb.XGBClassifier( \n",
    "                        n_estimators=30000,\n",
    "                        max_depth=4,\n",
    "                        objective='binary:logistic', #new objective\n",
    "                        learning_rate=.05, \n",
    "                        subsample=.8,\n",
    "                        min_child_weight=3,\n",
    "                        colsample_bytree=.8\n",
    "                       )\n",
    "\n",
    "eval_set=[(X_train,y_train),(X_val,y_val)]\n",
    "fit_model = gbm.fit( \n",
    "                    X_train, y_train, \n",
    "                    eval_set=eval_set,\n",
    "                    eval_metric='error', #new evaluation metric: classification error (could also use AUC, e.g.)\n",
    "                    early_stopping_rounds=50,\n",
    "                    verbose=False\n",
    "                   )\n",
    "\n",
    "print('accuracy:', accuracy_score(y_test, gbm.predict(X_test, ntree_limit=gbm.best_ntree_limit)))\n",
    "print('recall:', recall_score(y_test, gbm.predict(X_test, ntree_limit=gbm.best_ntree_limit)))"
   ]
  },
  {
   "cell_type": "code",
   "execution_count": 89,
   "metadata": {
    "scrolled": true
   },
   "outputs": [
    {
     "data": {
      "image/png": "[encoded data removed]",
      "text/plain": [
       "<Figure size 432x288 with 1 Axes>"
      ]
     },
     "metadata": {
      "image/png": {
       "height": 281,
       "width": 553
      }
     },
     "output_type": "display_data"
    }
   ],
   "source": [
    "# Interpretation\n",
    "\n",
    "# read scores\n",
    "# gbm.get_booster().get_score(importance_type='weight') #extract raw frequency scores\n",
    "# gbm.get_booster().get_score(importance_type='gain') #extract raw gain scores\n",
    "\n",
    "# plot feature importance\n",
    "# xgb.plot_importance(gbm)\n",
    "xgb.plot_importance(gbm, importance_type='gain')\n",
    "plt.show();"
   ]
  },
  {
   "cell_type": "markdown",
   "metadata": {},
   "source": [
    "# Streamlit code\n",
    "* this is the code for the app"
   ]
  },
  {
   "cell_type": "code",
   "execution_count": 90,
   "metadata": {},
   "outputs": [
    {
     "data": {
      "text/plain": [
       "LogisticRegression(C=10000)"
      ]
     },
     "execution_count": 90,
     "metadata": {},
     "output_type": "execute_result"
    },
    {
     "name": "stdout",
     "output_type": "stream",
     "text": [
      "1 94%\n"
     ]
    }
   ],
   "source": [
    "# load data\n",
    "url = 'https://github.com/tangming2008/Datasets_for_projects/blob/master/df_CovidTest_10000rows.pkl'\n",
    "df = pd.read_pickle(url+ '?raw=true')\n",
    "\n",
    "col_X = list(df.columns)[0:-1]\n",
    "col_y = list(df.columns)[-1:]\n",
    "\n",
    "X = df[col_X]\n",
    "y = df[col_y]\n",
    "\n",
    "from sklearn.model_selection import train_test_split\n",
    "X_train, X_test, y_train, y_test = train_test_split(X, y, test_size=0.2, random_state=42)\n",
    "\n",
    "# classification model\n",
    "from sklearn.linear_model import LogisticRegression\n",
    "lr = LogisticRegression(C=10000) # C large enough to remove regularization\n",
    "lr.fit(X_train, y_train)\n",
    "y_pred = lr.predict(X_test)\n",
    "\n",
    "onedata = [0, 1, 1, 0, 0, 0, 0, 1, 0]\n",
    "df_onedata = pd.DataFrame([onedata])\n",
    "probability = lr.predict_proba(df_onedata)[:,1]\n",
    "\n",
    "predict_result = lr.predict(df_onedata)[0]\n",
    "\n",
    "probability_positive = \"{:.0%}\".format(probability[0])\n",
    "\n",
    "print(predict_result, probability_positive)"
   ]
  }
 ],
 "metadata": {
  "kernelspec": {
   "display_name": "Python 3",
   "language": "python",
   "name": "python3"
  },
  "language_info": {
   "codemirror_mode": {
    "name": "ipython",
    "version": 3
   },
   "file_extension": ".py",
   "mimetype": "text/x-python",
   "name": "python",
   "nbconvert_exporter": "python",
   "pygments_lexer": "ipython3",
   "version": "3.7.1"
  },
  "toc": {
   "base_numbering": 1,
   "nav_menu": {},
   "number_sections": false,
   "sideBar": true,
   "skip_h1_title": false,
   "title_cell": "Table of Contents",
   "title_sidebar": "Contents",
   "toc_cell": false,
   "toc_position": {
    "height": "618.4px",
    "left": "0px",
    "right": "1324px",
    "top": "111.6px",
    "width": "332.6px"
   },
   "toc_section_display": false,
   "toc_window_display": true
  }
 },
 "nbformat": 4,
 "nbformat_minor": 4
}
