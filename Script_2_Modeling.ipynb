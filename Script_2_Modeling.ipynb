{
 "cells": [
  {
   "cell_type": "markdown",
   "metadata": {},
   "source": [
    "# Note\n",
    "* **Objective**: predict the covid test results\n",
    "* The major aim is to optimize the **recall** (few false negative, FN: positive (covid-infected) cases wrongly predicted as negative)\n",
    "* For most classification algorithms, only 10,000 rows of data is loaded for the sake of modeling speed\n",
    "* Many lines of script in this notebook are taken from [Metis bootcamp](https://www.thisismetis.com/) teaching materials"
   ]
  },
  {
   "cell_type": "markdown",
   "metadata": {},
   "source": [
    "# - - - Part 1: Prepare data - - -"
   ]
  },
  {
   "cell_type": "markdown",
   "metadata": {},
   "source": [
    "# Load packages"
   ]
  },
  {
   "cell_type": "code",
   "execution_count": 1,
   "metadata": {},
   "outputs": [],
   "source": [
    "import numpy as np\n",
    "import pandas as pd\n",
    "from scipy import stats\n",
    "\n",
    "import itertools\n",
    "import warnings\n",
    "warnings.filterwarnings(\"ignore\")\n",
    "\n",
    "# for pandas\n",
    "pd.set_option('display.max_columns', None)\n",
    "pd.set_option('display.max_rows', 25)\n",
    "pd.set_option('display.precision', 3)\n",
    "pd.options.display.max_rows = 500 # display max rows\n",
    "# pd.options.display.float_format = '{:.2f}'.format #supress scientific notation\n",
    "\n",
    "# display full output in Jupyter, not only last result.\n",
    "from IPython.core.interactiveshell import InteractiveShell\n",
    "InteractiveShell.ast_node_interactivity = \"all\"\n",
    "\n",
    "# sklearn - data preparation\n",
    "from sklearn import preprocessing\n",
    "from sklearn.preprocessing import StandardScaler\n",
    "from sklearn.model_selection import train_test_split\n",
    "from sklearn.model_selection import cross_val_score\n",
    "from sklearn.model_selection import RepeatedStratifiedKFold\n",
    "\n",
    "# sklearn - classification models\n",
    "from sklearn.linear_model import LogisticRegression, RidgeClassifier\n",
    "from sklearn.neighbors import KNeighborsClassifier\n",
    "from sklearn.svm import SVC\n",
    "from sklearn.tree import DecisionTreeClassifier\n",
    "from sklearn.naive_bayes import GaussianNB, BernoulliNB\n",
    "\n",
    "from sklearn.ensemble import BaggingClassifier\n",
    "from sklearn.ensemble import RandomForestClassifier\n",
    "from sklearn.ensemble import GradientBoostingClassifier\n",
    "from sklearn.ensemble import ExtraTreesClassifier, VotingClassifier\n",
    "\n",
    "from mlxtend.classifier import StackingClassifier\n",
    "\n",
    "# evaluation metrics\n",
    "from sklearn import metrics\n",
    "from sklearn.metrics import fbeta_score, make_scorer\n",
    "from sklearn.metrics import confusion_matrix, precision_score, recall_score, f1_score, accuracy_score, roc_auc_score\n",
    "from sklearn.model_selection import learning_curve, GridSearchCV\n",
    "\n",
    "# plotting\n",
    "import matplotlib.pyplot as plt\n",
    "%matplotlib inline\n",
    "import seaborn as sns\n",
    "# from plot import *\n",
    "\n",
    "# plt.figure(figsize=(12,12), dpi=200)"
   ]
  },
  {
   "cell_type": "code",
   "execution_count": 2,
   "metadata": {},
   "outputs": [
    {
     "name": "stdout",
     "output_type": "stream",
     "text": [
      "Python Version: 3.7.1 (default, Oct 28 2018, 08:39:03) [MSC v.1912 64 bit (AMD64)] \n",
      "\n",
      "Matplotlib Version: 3.1.3\n",
      "Numpy Version: 1.20.1\n",
      "Pandas Version: 1.2.4\n",
      "Sklearn Version: 0.24.1\n"
     ]
    }
   ],
   "source": [
    "import sklearn\n",
    "import sys\n",
    "import matplotlib\n",
    "\n",
    "libraries = (('Matplotlib', matplotlib), ('Numpy', np), ('Pandas', pd), ('Sklearn', sklearn))\n",
    "\n",
    "print(\"Python Version:\", sys.version, '\\n')\n",
    "for lib in libraries:\n",
    "    print('{0} Version: {1}'.format(lib[0], lib[1].__version__))"
   ]
  },
  {
   "cell_type": "markdown",
   "metadata": {},
   "source": [
    "# Data preparation\n",
    "Here are some variables and data that will be used throughout this script\n",
    "* `df_model`, `X`, `y`: cleaned dataframe\n",
    "* `X_train`, `T_test`, `y_train`, `y_test`: split and scaled dataset for modeling\n",
    "* `df_train`=`X_train`+`y_train`,  `df_test`=`X_test`+`y_test`\n",
    "* `col_X`, `col_y`: columns for features and target"
   ]
  },
  {
   "cell_type": "markdown",
   "metadata": {},
   "source": [
    "## df_model\n",
    "* load the cleaned dataset and save as `df_model` for future use\n",
    "* requirement: first N-1 columns as features, the last Nth column as the target"
   ]
  },
  {
   "cell_type": "code",
   "execution_count": 3,
   "metadata": {},
   "outputs": [
    {
     "name": "stdout",
     "output_type": "stream",
     "text": [
      "(10000, 10)\n"
     ]
    },
    {
     "data": {
      "text/html": [
       "<div>\n",
       "<style scoped>\n",
       "    .dataframe tbody tr th:only-of-type {\n",
       "        vertical-align: middle;\n",
       "    }\n",
       "\n",
       "    .dataframe tbody tr th {\n",
       "        vertical-align: top;\n",
       "    }\n",
       "\n",
       "    .dataframe thead th {\n",
       "        text-align: right;\n",
       "    }\n",
       "</style>\n",
       "<table border=\"1\" class=\"dataframe\">\n",
       "  <thead>\n",
       "    <tr style=\"text-align: right;\">\n",
       "      <th></th>\n",
       "      <th>cough</th>\n",
       "      <th>fever</th>\n",
       "      <th>sore_throat</th>\n",
       "      <th>shortness_of_breath</th>\n",
       "      <th>head_ache</th>\n",
       "      <th>age_60_and_above</th>\n",
       "      <th>gender</th>\n",
       "      <th>contact_with_confirmed</th>\n",
       "      <th>abroad</th>\n",
       "      <th>corona_result</th>\n",
       "    </tr>\n",
       "  </thead>\n",
       "  <tbody>\n",
       "    <tr>\n",
       "      <th>0</th>\n",
       "      <td>0</td>\n",
       "      <td>0</td>\n",
       "      <td>0</td>\n",
       "      <td>0</td>\n",
       "      <td>0</td>\n",
       "      <td>0</td>\n",
       "      <td>1</td>\n",
       "      <td>0</td>\n",
       "      <td>0</td>\n",
       "      <td>0</td>\n",
       "    </tr>\n",
       "    <tr>\n",
       "      <th>1</th>\n",
       "      <td>0</td>\n",
       "      <td>0</td>\n",
       "      <td>0</td>\n",
       "      <td>0</td>\n",
       "      <td>0</td>\n",
       "      <td>0</td>\n",
       "      <td>0</td>\n",
       "      <td>0</td>\n",
       "      <td>0</td>\n",
       "      <td>0</td>\n",
       "    </tr>\n",
       "    <tr>\n",
       "      <th>2</th>\n",
       "      <td>0</td>\n",
       "      <td>0</td>\n",
       "      <td>0</td>\n",
       "      <td>0</td>\n",
       "      <td>0</td>\n",
       "      <td>0</td>\n",
       "      <td>0</td>\n",
       "      <td>0</td>\n",
       "      <td>0</td>\n",
       "      <td>0</td>\n",
       "    </tr>\n",
       "    <tr>\n",
       "      <th>3</th>\n",
       "      <td>0</td>\n",
       "      <td>0</td>\n",
       "      <td>0</td>\n",
       "      <td>0</td>\n",
       "      <td>0</td>\n",
       "      <td>0</td>\n",
       "      <td>0</td>\n",
       "      <td>0</td>\n",
       "      <td>0</td>\n",
       "      <td>0</td>\n",
       "    </tr>\n",
       "    <tr>\n",
       "      <th>4</th>\n",
       "      <td>0</td>\n",
       "      <td>0</td>\n",
       "      <td>0</td>\n",
       "      <td>0</td>\n",
       "      <td>0</td>\n",
       "      <td>0</td>\n",
       "      <td>0</td>\n",
       "      <td>0</td>\n",
       "      <td>0</td>\n",
       "      <td>0</td>\n",
       "    </tr>\n",
       "  </tbody>\n",
       "</table>\n",
       "</div>"
      ],
      "text/plain": [
       "   cough  fever  sore_throat  shortness_of_breath  head_ache  \\\n",
       "0      0      0            0                    0          0   \n",
       "1      0      0            0                    0          0   \n",
       "2      0      0            0                    0          0   \n",
       "3      0      0            0                    0          0   \n",
       "4      0      0            0                    0          0   \n",
       "\n",
       "   age_60_and_above  gender  contact_with_confirmed  abroad  corona_result  \n",
       "0                 0       1                       0       0              0  \n",
       "1                 0       0                       0       0              0  \n",
       "2                 0       0                       0       0              0  \n",
       "3                 0       0                       0       0              0  \n",
       "4                 0       0                       0       0              0  "
      ]
     },
     "execution_count": 3,
     "metadata": {},
     "output_type": "execute_result"
    }
   ],
   "source": [
    "## - - - Covid dataset - - -\n",
    "df = pd.read_pickle('data/' + 'df_covid_100000rows.pkl')\n",
    "# df = pd.read_pickle('data/' + 'df_covid_100000rows_2020.3.pkl')\n",
    "# df = pd.read_pickle('data/' + 'df_covid_100000rows_2020.9.pkl')\n",
    "df = df.sample(10000) # load only 10000 rows for time-saving\n",
    "\n",
    "print(df.shape)\n",
    "\n",
    "df = df.reset_index(drop = True)\n",
    "\n",
    "df_model = df\n",
    "\n",
    "df.head()"
   ]
  },
  {
   "cell_type": "code",
   "execution_count": 4,
   "metadata": {},
   "outputs": [
    {
     "name": "stdout",
     "output_type": "stream",
     "text": [
      "<class 'pandas.core.frame.DataFrame'>\n",
      "RangeIndex: 10000 entries, 0 to 9999\n",
      "Data columns (total 10 columns):\n",
      " #   Column                  Non-Null Count  Dtype\n",
      "---  ------                  --------------  -----\n",
      " 0   cough                   10000 non-null  int32\n",
      " 1   fever                   10000 non-null  int32\n",
      " 2   sore_throat             10000 non-null  int32\n",
      " 3   shortness_of_breath     10000 non-null  int32\n",
      " 4   head_ache               10000 non-null  int32\n",
      " 5   age_60_and_above        10000 non-null  int64\n",
      " 6   gender                  10000 non-null  int64\n",
      " 7   contact_with_confirmed  10000 non-null  int64\n",
      " 8   abroad                  10000 non-null  int64\n",
      " 9   corona_result           10000 non-null  int64\n",
      "dtypes: int32(5), int64(5)\n",
      "memory usage: 586.1 KB\n"
     ]
    }
   ],
   "source": [
    "df = df_model\n",
    "\n",
    "df.info()"
   ]
  },
  {
   "cell_type": "code",
   "execution_count": 5,
   "metadata": {},
   "outputs": [
    {
     "data": {
      "text/html": [
       "<div>\n",
       "<style scoped>\n",
       "    .dataframe tbody tr th:only-of-type {\n",
       "        vertical-align: middle;\n",
       "    }\n",
       "\n",
       "    .dataframe tbody tr th {\n",
       "        vertical-align: top;\n",
       "    }\n",
       "\n",
       "    .dataframe thead th {\n",
       "        text-align: right;\n",
       "    }\n",
       "</style>\n",
       "<table border=\"1\" class=\"dataframe\">\n",
       "  <thead>\n",
       "    <tr style=\"text-align: right;\">\n",
       "      <th></th>\n",
       "      <th></th>\n",
       "      <th>counts</th>\n",
       "    </tr>\n",
       "    <tr>\n",
       "      <th>column</th>\n",
       "      <th>value</th>\n",
       "      <th></th>\n",
       "    </tr>\n",
       "  </thead>\n",
       "  <tbody>\n",
       "    <tr>\n",
       "      <th rowspan=\"2\" valign=\"top\">abroad</th>\n",
       "      <th>1</th>\n",
       "      <td>131</td>\n",
       "    </tr>\n",
       "    <tr>\n",
       "      <th>0</th>\n",
       "      <td>9869</td>\n",
       "    </tr>\n",
       "    <tr>\n",
       "      <th rowspan=\"2\" valign=\"top\">age_60_and_above</th>\n",
       "      <th>1</th>\n",
       "      <td>1339</td>\n",
       "    </tr>\n",
       "    <tr>\n",
       "      <th>0</th>\n",
       "      <td>8661</td>\n",
       "    </tr>\n",
       "    <tr>\n",
       "      <th rowspan=\"2\" valign=\"top\">contact_with_confirmed</th>\n",
       "      <th>1</th>\n",
       "      <td>681</td>\n",
       "    </tr>\n",
       "    <tr>\n",
       "      <th>0</th>\n",
       "      <td>9319</td>\n",
       "    </tr>\n",
       "    <tr>\n",
       "      <th rowspan=\"2\" valign=\"top\">corona_result</th>\n",
       "      <th>1</th>\n",
       "      <td>925</td>\n",
       "    </tr>\n",
       "    <tr>\n",
       "      <th>0</th>\n",
       "      <td>9075</td>\n",
       "    </tr>\n",
       "    <tr>\n",
       "      <th rowspan=\"2\" valign=\"top\">cough</th>\n",
       "      <th>1</th>\n",
       "      <td>479</td>\n",
       "    </tr>\n",
       "    <tr>\n",
       "      <th>0</th>\n",
       "      <td>9521</td>\n",
       "    </tr>\n",
       "    <tr>\n",
       "      <th rowspan=\"2\" valign=\"top\">fever</th>\n",
       "      <th>1</th>\n",
       "      <td>370</td>\n",
       "    </tr>\n",
       "    <tr>\n",
       "      <th>0</th>\n",
       "      <td>9630</td>\n",
       "    </tr>\n",
       "    <tr>\n",
       "      <th rowspan=\"2\" valign=\"top\">gender</th>\n",
       "      <th>1</th>\n",
       "      <td>4817</td>\n",
       "    </tr>\n",
       "    <tr>\n",
       "      <th>0</th>\n",
       "      <td>5183</td>\n",
       "    </tr>\n",
       "    <tr>\n",
       "      <th rowspan=\"2\" valign=\"top\">head_ache</th>\n",
       "      <th>1</th>\n",
       "      <td>231</td>\n",
       "    </tr>\n",
       "    <tr>\n",
       "      <th>0</th>\n",
       "      <td>9769</td>\n",
       "    </tr>\n",
       "    <tr>\n",
       "      <th rowspan=\"2\" valign=\"top\">shortness_of_breath</th>\n",
       "      <th>1</th>\n",
       "      <td>39</td>\n",
       "    </tr>\n",
       "    <tr>\n",
       "      <th>0</th>\n",
       "      <td>9961</td>\n",
       "    </tr>\n",
       "    <tr>\n",
       "      <th rowspan=\"2\" valign=\"top\">sore_throat</th>\n",
       "      <th>1</th>\n",
       "      <td>128</td>\n",
       "    </tr>\n",
       "    <tr>\n",
       "      <th>0</th>\n",
       "      <td>9872</td>\n",
       "    </tr>\n",
       "  </tbody>\n",
       "</table>\n",
       "</div>"
      ],
      "text/plain": [
       "                              counts\n",
       "column                 value        \n",
       "abroad                 1         131\n",
       "                       0        9869\n",
       "age_60_and_above       1        1339\n",
       "                       0        8661\n",
       "contact_with_confirmed 1         681\n",
       "                       0        9319\n",
       "corona_result          1         925\n",
       "                       0        9075\n",
       "cough                  1         479\n",
       "                       0        9521\n",
       "fever                  1         370\n",
       "                       0        9630\n",
       "gender                 1        4817\n",
       "                       0        5183\n",
       "head_ache              1         231\n",
       "                       0        9769\n",
       "shortness_of_breath    1          39\n",
       "                       0        9961\n",
       "sore_throat            1         128\n",
       "                       0        9872"
      ]
     },
     "execution_count": 5,
     "metadata": {},
     "output_type": "execute_result"
    }
   ],
   "source": [
    "# value_counts for all columns, only works for pandas > 1.1.0\n",
    "\n",
    "df = df_model\n",
    "\n",
    "cat_cols = df.columns.tolist()\n",
    "(pd.DataFrame(\n",
    "    df[cat_cols]\n",
    "    .melt(var_name='column', value_name='value')\n",
    "    .value_counts())\n",
    ".rename(columns={0: 'counts'})\n",
    ".sort_values(by=['column', 'counts']))\n",
    "# .reset_index()"
   ]
  },
  {
   "cell_type": "markdown",
   "metadata": {},
   "source": [
    "## X/y split, `col_X`, `col_y`\n",
    "* `col_X` and `col_y` will be used through out this script for the classification training\n",
    "* specific format for the `df_model`: totally N columns, first N-1 columns for feature and right-most column for target"
   ]
  },
  {
   "cell_type": "code",
   "execution_count": 6,
   "metadata": {},
   "outputs": [
    {
     "name": "stdout",
     "output_type": "stream",
     "text": [
      "features: ['cough', 'fever', 'sore_throat', 'shortness_of_breath', 'head_ache', 'age_60_and_above', 'gender', 'contact_with_confirmed', 'abroad']\n",
      "target: ['corona_result']\n"
     ]
    },
    {
     "data": {
      "text/plain": [
       "0    9075\n",
       "1     925\n",
       "Name: corona_result, dtype: int64"
      ]
     },
     "execution_count": 6,
     "metadata": {},
     "output_type": "execute_result"
    },
    {
     "data": {
      "text/plain": [
       "0    0.907\n",
       "1    0.092\n",
       "Name: corona_result, dtype: float64"
      ]
     },
     "execution_count": 6,
     "metadata": {},
     "output_type": "execute_result"
    }
   ],
   "source": [
    "df = df_model\n",
    "\n",
    "col_X = list(df.columns)[0:-1]\n",
    "col_y = list(df.columns)[-1:]\n",
    "\n",
    "print('features:', col_X)\n",
    "print('target:', col_y)\n",
    "\n",
    "X = df[col_X]\n",
    "y = df[col_y]\n",
    "\n",
    "feature_names = col_X\n",
    "target_names = col_y\n",
    "target_values = list(df[col_y[0]].unique())\n",
    "\n",
    "# check target values\n",
    "df[col_y[0]].value_counts(normalize = False)\n",
    "df[col_y[0]].value_counts(normalize = True)"
   ]
  },
  {
   "cell_type": "markdown",
   "metadata": {},
   "source": [
    "## Train/test/holdout split (`X_train`, `y_train`, `df_train`)\n",
    "* *Train* - data used for training the model\n",
    "* *Test* - data used for validating the model performance (accuracy/recall/precision/f1, metrics, ROC/AUC)\n",
    "* *Holdout* - data will be never touched during the modeling and used at the very end to examine the performance of the final model"
   ]
  },
  {
   "cell_type": "code",
   "execution_count": 7,
   "metadata": {},
   "outputs": [
    {
     "name": "stdout",
     "output_type": "stream",
     "text": [
      "shapes of X data frames (train-test-holdout): (8000, 9) (1000, 9) (1000, 9)\n",
      "shapes of y data frames (train-test-holdout): (8000, 1) (1000, 1) (1000, 1)\n"
     ]
    }
   ],
   "source": [
    "# split X and y into training and testing sets\n",
    "# X_train_raw, X_test_raw, y_train, y_test = train_test_split(X_raw, y, test_size=0.2, random_state=42)\n",
    "\n",
    "X_train, X_test, y_train, y_test = train_test_split(X, y, test_size=0.2, random_state=123)\n",
    "X_test, X_holdout, y_test, y_holdout = train_test_split(X_test, y_test, test_size=0.5, random_state=123)\n",
    "\n",
    "print('shapes of X data frames (train-test-holdout):', X_train.shape, X_test.shape, X_holdout.shape)\n",
    "print('shapes of y data frames (train-test-holdout):', y_train.shape, y_test.shape, y_holdout.shape)"
   ]
  },
  {
   "cell_type": "markdown",
   "metadata": {},
   "source": [
    "## Scaling (`X`, `X_train`, `X_test`, `X_holdout`)"
   ]
  },
  {
   "cell_type": "code",
   "execution_count": 8,
   "metadata": {},
   "outputs": [],
   "source": [
    "# transform as numpy array and transfer back to the datafram\n",
    "from sklearn.preprocessing import StandardScaler, MinMaxScaler\n",
    "\n",
    "# scaler = StandardScaler()\n",
    "scaler = MinMaxScaler()\n",
    "\n",
    "# Kim: note that we should use fit_transform for the X_train and only transform for the X_test\n",
    "X_train_ScaledArray = scaler.fit_transform(X_train.values)\n",
    "X_train = pd.DataFrame(X_train_ScaledArray)\n",
    "X_train.columns = col_X\n",
    "\n",
    "X_test_ScaledArray = scaler.transform(X_test.values)\n",
    "X_test = pd.DataFrame(X_test_ScaledArray)\n",
    "X_test.columns = col_X\n",
    "\n",
    "# we use the same scaler for the holdout data and will only use it again at the every end\n",
    "X_holdout_ScaledArray = scaler.transform(X_holdout.values)\n",
    "X_holdout = pd.DataFrame(X_holdout_ScaledArray)\n",
    "X_holdout.columns = col_X\n",
    "\n",
    "# X is the entire feature dataset\n",
    "X_ScaledArray = scaler.fit_transform(X.values)\n",
    "X = pd.DataFrame(X_ScaledArray)\n",
    "X.columns = col_X\n",
    "\n",
    "# save df_train and df_test for some future tests\n",
    "df_train = X_train.copy()\n",
    "df_train[col_y] = y_train.copy()\n",
    "df_test = X_test.copy()\n",
    "df_test[col_y] = y_test.copy()\n",
    "\n",
    "# reset.index\n",
    "X_train = X_train.reset_index(drop=True)\n",
    "X_test = X_test.reset_index(drop=True)\n",
    "y_train = y_train.reset_index(drop=True)\n",
    "y_test = y_test.reset_index(drop=True)\n",
    "\n",
    "# this are non-modified files, which can be used for additional modeling work\n",
    "X_copy, y_copy = X, y\n",
    "X_train_copy, X_test_copy, X_holdout_copy = X_train, X_test, X_holdout\n",
    "y_train_copy, y_test_copy, y_holdout_copy  = y_train, y_test, y_holdout"
   ]
  },
  {
   "cell_type": "code",
   "execution_count": 9,
   "metadata": {},
   "outputs": [
    {
     "name": "stdout",
     "output_type": "stream",
     "text": [
      "shapes of X data frames (train-test-holdout): (8000, 9) (1000, 9) (1000, 9)\n",
      "shapes of y data frames (train-test-holdout): (8000, 1) (1000, 1) (1000, 1)\n"
     ]
    }
   ],
   "source": [
    "print('shapes of X data frames (train-test-holdout):', X_train.shape, X_test.shape, X_holdout.shape)\n",
    "print('shapes of y data frames (train-test-holdout):', y_train.shape, y_test.shape, y_holdout.shape)"
   ]
  },
  {
   "cell_type": "markdown",
   "metadata": {},
   "source": [
    "## quick check"
   ]
  },
  {
   "cell_type": "code",
   "execution_count": 10,
   "metadata": {},
   "outputs": [
    {
     "name": "stdout",
     "output_type": "stream",
     "text": [
      "<class 'pandas.core.frame.DataFrame'> <class 'pandas.core.frame.DataFrame'>\n"
     ]
    }
   ],
   "source": [
    "# print the type\n",
    "print(type(X), type(y))"
   ]
  },
  {
   "cell_type": "code",
   "execution_count": 11,
   "metadata": {},
   "outputs": [
    {
     "name": "stdout",
     "output_type": "stream",
     "text": [
      "(10000, 9) (10000, 1)\n"
     ]
    }
   ],
   "source": [
    "# print the shapes of X and y\n",
    "print(X.shape, y.shape)"
   ]
  },
  {
   "cell_type": "code",
   "execution_count": 12,
   "metadata": {},
   "outputs": [
    {
     "name": "stdout",
     "output_type": "stream",
     "text": [
      "(8000, 9) (1000, 9) (8000, 1) (1000, 1)\n"
     ]
    }
   ],
   "source": [
    "# print the shapes of the new X objects\n",
    "print(X_train.shape, X_test.shape, y_train.shape, y_test.shape)"
   ]
  },
  {
   "cell_type": "code",
   "execution_count": 13,
   "metadata": {},
   "outputs": [
    {
     "name": "stdout",
     "output_type": "stream",
     "text": [
      "(8000, 10) (1000, 10)\n"
     ]
    }
   ],
   "source": [
    "# print the shapes of the data frames\n",
    "print(df_train.shape, df_test.shape)"
   ]
  },
  {
   "cell_type": "code",
   "execution_count": 14,
   "metadata": {},
   "outputs": [
    {
     "data": {
      "text/html": [
       "<div>\n",
       "<style scoped>\n",
       "    .dataframe tbody tr th:only-of-type {\n",
       "        vertical-align: middle;\n",
       "    }\n",
       "\n",
       "    .dataframe tbody tr th {\n",
       "        vertical-align: top;\n",
       "    }\n",
       "\n",
       "    .dataframe thead th {\n",
       "        text-align: right;\n",
       "    }\n",
       "</style>\n",
       "<table border=\"1\" class=\"dataframe\">\n",
       "  <thead>\n",
       "    <tr style=\"text-align: right;\">\n",
       "      <th></th>\n",
       "      <th>cough</th>\n",
       "      <th>fever</th>\n",
       "      <th>sore_throat</th>\n",
       "      <th>shortness_of_breath</th>\n",
       "      <th>head_ache</th>\n",
       "      <th>age_60_and_above</th>\n",
       "      <th>gender</th>\n",
       "      <th>contact_with_confirmed</th>\n",
       "      <th>abroad</th>\n",
       "    </tr>\n",
       "  </thead>\n",
       "  <tbody>\n",
       "    <tr>\n",
       "      <th>0</th>\n",
       "      <td>0.0</td>\n",
       "      <td>0.0</td>\n",
       "      <td>0.0</td>\n",
       "      <td>0.0</td>\n",
       "      <td>0.0</td>\n",
       "      <td>0.0</td>\n",
       "      <td>0.0</td>\n",
       "      <td>0.0</td>\n",
       "      <td>0.0</td>\n",
       "    </tr>\n",
       "    <tr>\n",
       "      <th>1</th>\n",
       "      <td>0.0</td>\n",
       "      <td>0.0</td>\n",
       "      <td>0.0</td>\n",
       "      <td>0.0</td>\n",
       "      <td>0.0</td>\n",
       "      <td>0.0</td>\n",
       "      <td>1.0</td>\n",
       "      <td>0.0</td>\n",
       "      <td>0.0</td>\n",
       "    </tr>\n",
       "    <tr>\n",
       "      <th>2</th>\n",
       "      <td>0.0</td>\n",
       "      <td>0.0</td>\n",
       "      <td>0.0</td>\n",
       "      <td>0.0</td>\n",
       "      <td>0.0</td>\n",
       "      <td>0.0</td>\n",
       "      <td>0.0</td>\n",
       "      <td>0.0</td>\n",
       "      <td>0.0</td>\n",
       "    </tr>\n",
       "    <tr>\n",
       "      <th>3</th>\n",
       "      <td>0.0</td>\n",
       "      <td>0.0</td>\n",
       "      <td>0.0</td>\n",
       "      <td>0.0</td>\n",
       "      <td>0.0</td>\n",
       "      <td>0.0</td>\n",
       "      <td>0.0</td>\n",
       "      <td>0.0</td>\n",
       "      <td>0.0</td>\n",
       "    </tr>\n",
       "    <tr>\n",
       "      <th>4</th>\n",
       "      <td>0.0</td>\n",
       "      <td>0.0</td>\n",
       "      <td>0.0</td>\n",
       "      <td>0.0</td>\n",
       "      <td>0.0</td>\n",
       "      <td>0.0</td>\n",
       "      <td>0.0</td>\n",
       "      <td>0.0</td>\n",
       "      <td>0.0</td>\n",
       "    </tr>\n",
       "  </tbody>\n",
       "</table>\n",
       "</div>"
      ],
      "text/plain": [
       "   cough  fever  sore_throat  shortness_of_breath  head_ache  \\\n",
       "0    0.0    0.0          0.0                  0.0        0.0   \n",
       "1    0.0    0.0          0.0                  0.0        0.0   \n",
       "2    0.0    0.0          0.0                  0.0        0.0   \n",
       "3    0.0    0.0          0.0                  0.0        0.0   \n",
       "4    0.0    0.0          0.0                  0.0        0.0   \n",
       "\n",
       "   age_60_and_above  gender  contact_with_confirmed  abroad  \n",
       "0               0.0     0.0                     0.0     0.0  \n",
       "1               0.0     1.0                     0.0     0.0  \n",
       "2               0.0     0.0                     0.0     0.0  \n",
       "3               0.0     0.0                     0.0     0.0  \n",
       "4               0.0     0.0                     0.0     0.0  "
      ]
     },
     "execution_count": 14,
     "metadata": {},
     "output_type": "execute_result"
    },
    {
     "data": {
      "text/html": [
       "<div>\n",
       "<style scoped>\n",
       "    .dataframe tbody tr th:only-of-type {\n",
       "        vertical-align: middle;\n",
       "    }\n",
       "\n",
       "    .dataframe tbody tr th {\n",
       "        vertical-align: top;\n",
       "    }\n",
       "\n",
       "    .dataframe thead th {\n",
       "        text-align: right;\n",
       "    }\n",
       "</style>\n",
       "<table border=\"1\" class=\"dataframe\">\n",
       "  <thead>\n",
       "    <tr style=\"text-align: right;\">\n",
       "      <th></th>\n",
       "      <th>corona_result</th>\n",
       "    </tr>\n",
       "  </thead>\n",
       "  <tbody>\n",
       "    <tr>\n",
       "      <th>0</th>\n",
       "      <td>0</td>\n",
       "    </tr>\n",
       "    <tr>\n",
       "      <th>1</th>\n",
       "      <td>0</td>\n",
       "    </tr>\n",
       "    <tr>\n",
       "      <th>2</th>\n",
       "      <td>0</td>\n",
       "    </tr>\n",
       "    <tr>\n",
       "      <th>3</th>\n",
       "      <td>0</td>\n",
       "    </tr>\n",
       "    <tr>\n",
       "      <th>4</th>\n",
       "      <td>0</td>\n",
       "    </tr>\n",
       "  </tbody>\n",
       "</table>\n",
       "</div>"
      ],
      "text/plain": [
       "   corona_result\n",
       "0              0\n",
       "1              0\n",
       "2              0\n",
       "3              0\n",
       "4              0"
      ]
     },
     "execution_count": 14,
     "metadata": {},
     "output_type": "execute_result"
    }
   ],
   "source": [
    "X_train.head()\n",
    "y_train.head()"
   ]
  },
  {
   "cell_type": "code",
   "execution_count": 15,
   "metadata": {},
   "outputs": [
    {
     "data": {
      "text/html": [
       "<div>\n",
       "<style scoped>\n",
       "    .dataframe tbody tr th:only-of-type {\n",
       "        vertical-align: middle;\n",
       "    }\n",
       "\n",
       "    .dataframe tbody tr th {\n",
       "        vertical-align: top;\n",
       "    }\n",
       "\n",
       "    .dataframe thead th {\n",
       "        text-align: right;\n",
       "    }\n",
       "</style>\n",
       "<table border=\"1\" class=\"dataframe\">\n",
       "  <thead>\n",
       "    <tr style=\"text-align: right;\">\n",
       "      <th></th>\n",
       "      <th>cough</th>\n",
       "      <th>fever</th>\n",
       "      <th>sore_throat</th>\n",
       "      <th>shortness_of_breath</th>\n",
       "      <th>head_ache</th>\n",
       "      <th>age_60_and_above</th>\n",
       "      <th>gender</th>\n",
       "      <th>contact_with_confirmed</th>\n",
       "      <th>abroad</th>\n",
       "    </tr>\n",
       "  </thead>\n",
       "  <tbody>\n",
       "    <tr>\n",
       "      <th>count</th>\n",
       "      <td>8000.000</td>\n",
       "      <td>8000.000</td>\n",
       "      <td>8000.000</td>\n",
       "      <td>8000.000</td>\n",
       "      <td>8000.000</td>\n",
       "      <td>8000.000</td>\n",
       "      <td>8000.000</td>\n",
       "      <td>8000.000</td>\n",
       "      <td>8000.000</td>\n",
       "    </tr>\n",
       "    <tr>\n",
       "      <th>mean</th>\n",
       "      <td>0.048</td>\n",
       "      <td>0.038</td>\n",
       "      <td>0.013</td>\n",
       "      <td>0.005</td>\n",
       "      <td>0.023</td>\n",
       "      <td>0.137</td>\n",
       "      <td>0.482</td>\n",
       "      <td>0.069</td>\n",
       "      <td>0.013</td>\n",
       "    </tr>\n",
       "    <tr>\n",
       "      <th>std</th>\n",
       "      <td>0.214</td>\n",
       "      <td>0.192</td>\n",
       "      <td>0.114</td>\n",
       "      <td>0.068</td>\n",
       "      <td>0.151</td>\n",
       "      <td>0.344</td>\n",
       "      <td>0.500</td>\n",
       "      <td>0.253</td>\n",
       "      <td>0.114</td>\n",
       "    </tr>\n",
       "    <tr>\n",
       "      <th>min</th>\n",
       "      <td>0.000</td>\n",
       "      <td>0.000</td>\n",
       "      <td>0.000</td>\n",
       "      <td>0.000</td>\n",
       "      <td>0.000</td>\n",
       "      <td>0.000</td>\n",
       "      <td>0.000</td>\n",
       "      <td>0.000</td>\n",
       "      <td>0.000</td>\n",
       "    </tr>\n",
       "    <tr>\n",
       "      <th>25%</th>\n",
       "      <td>0.000</td>\n",
       "      <td>0.000</td>\n",
       "      <td>0.000</td>\n",
       "      <td>0.000</td>\n",
       "      <td>0.000</td>\n",
       "      <td>0.000</td>\n",
       "      <td>0.000</td>\n",
       "      <td>0.000</td>\n",
       "      <td>0.000</td>\n",
       "    </tr>\n",
       "    <tr>\n",
       "      <th>50%</th>\n",
       "      <td>0.000</td>\n",
       "      <td>0.000</td>\n",
       "      <td>0.000</td>\n",
       "      <td>0.000</td>\n",
       "      <td>0.000</td>\n",
       "      <td>0.000</td>\n",
       "      <td>0.000</td>\n",
       "      <td>0.000</td>\n",
       "      <td>0.000</td>\n",
       "    </tr>\n",
       "    <tr>\n",
       "      <th>75%</th>\n",
       "      <td>0.000</td>\n",
       "      <td>0.000</td>\n",
       "      <td>0.000</td>\n",
       "      <td>0.000</td>\n",
       "      <td>0.000</td>\n",
       "      <td>0.000</td>\n",
       "      <td>1.000</td>\n",
       "      <td>0.000</td>\n",
       "      <td>0.000</td>\n",
       "    </tr>\n",
       "    <tr>\n",
       "      <th>max</th>\n",
       "      <td>1.000</td>\n",
       "      <td>1.000</td>\n",
       "      <td>1.000</td>\n",
       "      <td>1.000</td>\n",
       "      <td>1.000</td>\n",
       "      <td>1.000</td>\n",
       "      <td>1.000</td>\n",
       "      <td>1.000</td>\n",
       "      <td>1.000</td>\n",
       "    </tr>\n",
       "  </tbody>\n",
       "</table>\n",
       "</div>"
      ],
      "text/plain": [
       "          cough     fever  sore_throat  shortness_of_breath  head_ache  \\\n",
       "count  8000.000  8000.000     8000.000             8000.000   8000.000   \n",
       "mean      0.048     0.038        0.013                0.005      0.023   \n",
       "std       0.214     0.192        0.114                0.068      0.151   \n",
       "min       0.000     0.000        0.000                0.000      0.000   \n",
       "25%       0.000     0.000        0.000                0.000      0.000   \n",
       "50%       0.000     0.000        0.000                0.000      0.000   \n",
       "75%       0.000     0.000        0.000                0.000      0.000   \n",
       "max       1.000     1.000        1.000                1.000      1.000   \n",
       "\n",
       "       age_60_and_above    gender  contact_with_confirmed    abroad  \n",
       "count          8000.000  8000.000                8000.000  8000.000  \n",
       "mean              0.137     0.482                   0.069     0.013  \n",
       "std               0.344     0.500                   0.253     0.114  \n",
       "min               0.000     0.000                   0.000     0.000  \n",
       "25%               0.000     0.000                   0.000     0.000  \n",
       "50%               0.000     0.000                   0.000     0.000  \n",
       "75%               0.000     1.000                   0.000     0.000  \n",
       "max               1.000     1.000                   1.000     1.000  "
      ]
     },
     "execution_count": 15,
     "metadata": {},
     "output_type": "execute_result"
    }
   ],
   "source": [
    "X_train.describe()"
   ]
  },
  {
   "cell_type": "code",
   "execution_count": 16,
   "metadata": {},
   "outputs": [
    {
     "name": "stdout",
     "output_type": "stream",
     "text": [
      "shapes of X data frames (train-test-holdout): (8000, 9) (1000, 9) (1000, 9)\n",
      "shapes of y data frames (train-test-holdout): (8000, 1) (1000, 1) (1000, 1)\n"
     ]
    }
   ],
   "source": [
    "print('shapes of X data frames (train-test-holdout):', X_train.shape, X_test.shape, X_holdout.shape)\n",
    "print('shapes of y data frames (train-test-holdout):', y_train.shape, y_test.shape, y_holdout.shape)"
   ]
  },
  {
   "cell_type": "code",
   "execution_count": 17,
   "metadata": {},
   "outputs": [
    {
     "data": {
      "text/plain": [
       "0    7265\n",
       "1     735\n",
       "Name: corona_result, dtype: int64"
      ]
     },
     "execution_count": 17,
     "metadata": {},
     "output_type": "execute_result"
    }
   ],
   "source": [
    "y_train[col_y[0]].value_counts()"
   ]
  },
  {
   "cell_type": "markdown",
   "metadata": {},
   "source": [
    "# - - - Part 2: Modeling - - -"
   ]
  },
  {
   "cell_type": "markdown",
   "metadata": {},
   "source": [
    "# Dummy model ..."
   ]
  },
  {
   "cell_type": "markdown",
   "metadata": {},
   "source": [
    "Covid data\n",
    "* Dummy model gives a good accuracy (~ 80%), due to the class imbalance (target: 10% positive and 90% negative)\n",
    "* The low recall (~ 8%), precision, and f1 scores indicate the limited predictability of the dummy model"
   ]
  },
  {
   "cell_type": "code",
   "execution_count": 18,
   "metadata": {},
   "outputs": [
    {
     "data": {
      "text/plain": [
       "DummyClassifier(strategy='stratified')"
      ]
     },
     "execution_count": 18,
     "metadata": {},
     "output_type": "execute_result"
    },
    {
     "data": {
      "text/plain": [
       "array([[824,  84],\n",
       "       [ 81,  11]], dtype=int64)"
      ]
     },
     "execution_count": 18,
     "metadata": {},
     "output_type": "execute_result"
    },
    {
     "name": "stdout",
     "output_type": "stream",
     "text": [
      "accuracy: 0.835\n",
      "precision: 0.116\n",
      "recall: 0.12\n",
      "f1: 0.118\n"
     ]
    }
   ],
   "source": [
    "from sklearn.dummy import DummyClassifier\n",
    "\n",
    "dummy_clf = DummyClassifier(strategy='stratified') #most_frequent\n",
    "dummy_clf.fit(X_train, y_train)\n",
    "y_pred = dummy_clf.predict(X_test)\n",
    "\n",
    "confusion_matrix(y_test, y_pred)\n",
    "\n",
    "print('accuracy:', round(accuracy_score(y_test, y_pred), 3))\n",
    "print('precision:', round(precision_score(y_test, y_pred), 3))\n",
    "print('recall:', round(recall_score(y_test, y_pred), 3))\n",
    "print('f1:', round(f1_score(y_test, y_pred), 3))"
   ]
  },
  {
   "cell_type": "code",
   "execution_count": 19,
   "metadata": {},
   "outputs": [
    {
     "data": {
      "image/png": "[encoded data removed]",
      "text/plain": [
       "<Figure size 432x288 with 2 Axes>"
      ]
     },
     "metadata": {
      "needs_background": "light"
     },
     "output_type": "display_data"
    }
   ],
   "source": [
    "from sklearn.metrics import ConfusionMatrixDisplay\n",
    "\n",
    "cm = confusion_matrix(y_test, y_pred)\n",
    "cm_display = ConfusionMatrixDisplay(cm).plot()\n",
    "plt.grid(False)"
   ]
  },
  {
   "cell_type": "markdown",
   "metadata": {},
   "source": [
    "# Rapid tests - a few models\n",
    "* Mostly from my previous script on the soccer classification project\n",
    "* Simply using the default set-up in the sklearn\n",
    "* Can be slow if the data has excessive features/columns or observations/rows"
   ]
  },
  {
   "cell_type": "markdown",
   "metadata": {},
   "source": [
    "## Metrics & Scores"
   ]
  },
  {
   "cell_type": "markdown",
   "metadata": {},
   "source": [
    "For covid data\n",
    "* The idea of this section is to just test common models with default parameters. We will tune hyper-parameters later.\n",
    "* Not surprisingly, due to the class imbalance, the accuracy is > 90% for most models.\n",
    "* The key metric, recall, is generally as low as 0.6 for most models (we will optimize recall later)\n",
    "* *NaiveBayes*: note that we should use *BernoulliNB* considering features are binary (0 and 1) and not continuous (*GaussianNB* is for continuous features)"
   ]
  },
  {
   "cell_type": "code",
   "execution_count": 20,
   "metadata": {},
   "outputs": [
    {
     "data": {
      "text/plain": [
       "LogisticRegression()"
      ]
     },
     "execution_count": 20,
     "metadata": {},
     "output_type": "execute_result"
    },
    {
     "data": {
      "text/plain": [
       "KNeighborsClassifier()"
      ]
     },
     "execution_count": 20,
     "metadata": {},
     "output_type": "execute_result"
    },
    {
     "data": {
      "text/plain": [
       "BernoulliNB()"
      ]
     },
     "execution_count": 20,
     "metadata": {},
     "output_type": "execute_result"
    },
    {
     "data": {
      "text/plain": [
       "SVC()"
      ]
     },
     "execution_count": 20,
     "metadata": {},
     "output_type": "execute_result"
    },
    {
     "data": {
      "text/plain": [
       "DecisionTreeClassifier()"
      ]
     },
     "execution_count": 20,
     "metadata": {},
     "output_type": "execute_result"
    },
    {
     "data": {
      "text/plain": [
       "RandomForestClassifier()"
      ]
     },
     "execution_count": 20,
     "metadata": {},
     "output_type": "execute_result"
    },
    {
     "data": {
      "text/html": [
       "<div>\n",
       "<style scoped>\n",
       "    .dataframe tbody tr th:only-of-type {\n",
       "        vertical-align: middle;\n",
       "    }\n",
       "\n",
       "    .dataframe tbody tr th {\n",
       "        vertical-align: top;\n",
       "    }\n",
       "\n",
       "    .dataframe thead th {\n",
       "        text-align: right;\n",
       "    }\n",
       "</style>\n",
       "<table border=\"1\" class=\"dataframe\">\n",
       "  <thead>\n",
       "    <tr style=\"text-align: right;\">\n",
       "      <th></th>\n",
       "      <th>model</th>\n",
       "      <th>accuracy</th>\n",
       "      <th>precision</th>\n",
       "      <th>recall</th>\n",
       "      <th>f1</th>\n",
       "    </tr>\n",
       "  </thead>\n",
       "  <tbody>\n",
       "    <tr>\n",
       "      <th>0</th>\n",
       "      <td>Logistic</td>\n",
       "      <td>0.924</td>\n",
       "      <td>0.722</td>\n",
       "      <td>0.283</td>\n",
       "      <td>0.406</td>\n",
       "    </tr>\n",
       "    <tr>\n",
       "      <th>0</th>\n",
       "      <td>KNN</td>\n",
       "      <td>0.926</td>\n",
       "      <td>0.661</td>\n",
       "      <td>0.402</td>\n",
       "      <td>0.500</td>\n",
       "    </tr>\n",
       "    <tr>\n",
       "      <th>0</th>\n",
       "      <td>NaiveBayes</td>\n",
       "      <td>0.925</td>\n",
       "      <td>0.681</td>\n",
       "      <td>0.348</td>\n",
       "      <td>0.460</td>\n",
       "    </tr>\n",
       "    <tr>\n",
       "      <th>0</th>\n",
       "      <td>SVC</td>\n",
       "      <td>0.932</td>\n",
       "      <td>0.676</td>\n",
       "      <td>0.500</td>\n",
       "      <td>0.575</td>\n",
       "    </tr>\n",
       "    <tr>\n",
       "      <th>0</th>\n",
       "      <td>Tree</td>\n",
       "      <td>0.934</td>\n",
       "      <td>0.710</td>\n",
       "      <td>0.478</td>\n",
       "      <td>0.571</td>\n",
       "    </tr>\n",
       "  </tbody>\n",
       "</table>\n",
       "</div>"
      ],
      "text/plain": [
       "        model  accuracy  precision  recall     f1\n",
       "0    Logistic     0.924      0.722   0.283  0.406\n",
       "0         KNN     0.926      0.661   0.402  0.500\n",
       "0  NaiveBayes     0.925      0.681   0.348  0.460\n",
       "0         SVC     0.932      0.676   0.500  0.575\n",
       "0        Tree     0.934      0.710   0.478  0.571"
      ]
     },
     "execution_count": 20,
     "metadata": {},
     "output_type": "execute_result"
    }
   ],
   "source": [
    "# get the scores from models\n",
    "\n",
    "df_score = pd.DataFrame()\n",
    "\n",
    "mydict_models =  {\n",
    "    'Logistic': LogisticRegression(), \n",
    "    'KNN': KNeighborsClassifier(), \n",
    "    'NaiveBayes': BernoulliNB(),\n",
    "    'SVC': SVC(), \n",
    "    'Tree': DecisionTreeClassifier(), \n",
    "    'Forest': RandomForestClassifier()\n",
    "}\n",
    "\n",
    "for index, key in enumerate(mydict_models.keys()):\n",
    "    \n",
    "    model_name = key\n",
    "    model = mydict_models[key]\n",
    "\n",
    "    model.fit(X_train, y_train);\n",
    "    y_pred = model.predict(X_test)\n",
    "        \n",
    "    accuracy = accuracy_score(y_test, y_pred)\n",
    "    precision = precision_score(y_test, y_pred)\n",
    "    recall = recall_score(y_test, y_pred)\n",
    "    f1 = f1_score(y_test, y_pred)\n",
    "\n",
    "    data_onemodel = [model_name, accuracy, precision, recall, f1]\n",
    "    \n",
    "    df_temp = pd.DataFrame([data_onemodel])\n",
    "    df_score = pd.concat([df_score, df_temp])\n",
    "\n",
    "df_score.columns = ['model', 'accuracy', 'precision', 'recall', 'f1']\n",
    "\n",
    "df_score.head()"
   ]
  },
  {
   "cell_type": "code",
   "execution_count": 21,
   "metadata": {},
   "outputs": [
    {
     "data": {
      "image/png": "[encoded data removed]",
      "text/plain": [
       "<Figure size 576x288 with 1 Axes>"
      ]
     },
     "metadata": {
      "needs_background": "light"
     },
     "output_type": "display_data"
    }
   ],
   "source": [
    "df = df_score\n",
    "\n",
    "df[['model','accuracy', 'precision', 'recall', 'f1']].plot(x='model', kind='bar', figsize=(8, 4), legend=False)\n",
    "plt.legend(bbox_to_anchor=(1,1), ncol = 1, fontsize = 14)\n",
    "plt.ylim([0.0, 1])\n",
    "plt.ylabel('Score', fontsize = 14)\n",
    "plt.xlabel('model', alpha=0)\n",
    "plt.xticks(rotation=0, fontsize = 14)\n",
    "plt.show();"
   ]
  },
  {
   "cell_type": "markdown",
   "metadata": {},
   "source": [
    "## Train-test error\n",
    "* Loop through a few models and check the trends of train/test error\n",
    "* Why doing this? Check 1) the effect of training size (sensitivity) and 2) under/over fitting"
   ]
  },
  {
   "cell_type": "markdown",
   "metadata": {},
   "source": [
    "Covid data\n",
    "* It looks that train/test errors converge very quick (even a small dataset would be sufficient to construct a reasonably OK model)"
   ]
  },
  {
   "cell_type": "code",
   "execution_count": 22,
   "metadata": {},
   "outputs": [
    {
     "name": "stdout",
     "output_type": "stream",
     "text": [
      "Logistic\n",
      "KNN\n",
      "NaiveBayes\n",
      "SVC\n",
      "Tree\n",
      "Forest\n"
     ]
    },
    {
     "data": {
      "image/png": "[encoded data removed]",
      "text/plain": [
       "<Figure size 1080x504 with 6 Axes>"
      ]
     },
     "metadata": {
      "needs_background": "light"
     },
     "output_type": "display_data"
    }
   ],
   "source": [
    "plt.figure(figsize=(15,7))\n",
    "\n",
    "for index, value in enumerate(mydict_models.keys()):\n",
    "    \n",
    "    model_name = value\n",
    "    model = mydict_models[value]\n",
    "    print(model_name)\n",
    "    \n",
    "    plot_id = '23{}'.format(index+1)\n",
    "    plt.subplot(plot_id)\n",
    "    plt.title('{}'.format(model_name), weight='bold')\n",
    "\n",
    "    train_sizes, train_scores, valid_scores = learning_curve(model, X, y)\n",
    "    train_err = 1- train_scores\n",
    "    ts_err = 1- valid_scores\n",
    "    \n",
    "    train_cv_err = np.mean(train_err, axis=1)\n",
    "    test_cv_err = np.mean(ts_err, axis=1)\n",
    "    \n",
    "    plt.scatter(train_sizes, train_cv_err, marker= '^', color='red', s = 150, label = 'Training error', alpha = 0.5)\n",
    "    plt.scatter(train_sizes, test_cv_err, marker='o', color='blue', s =150, label = 'Testing error', alpha = 0.5)\n",
    "\n",
    "    plt.xlabel('Train size')\n",
    "    plt.ylabel('Error')\n",
    "    plt.ylim([0,0.2])\n",
    "\n",
    "plt.legend(bbox_to_anchor=(1.05, 1), loc=2, ncol=1)\n",
    "plt.tight_layout()\n",
    "\n",
    "plt.show();"
   ]
  },
  {
   "cell_type": "markdown",
   "metadata": {},
   "source": [
    "## Confusion matrix"
   ]
  },
  {
   "cell_type": "code",
   "execution_count": 23,
   "metadata": {},
   "outputs": [],
   "source": [
    "def plot_confusion_matrix(cm, classes, normalize=False, cmap=plt.cm.Blues):\n",
    "    \"\"\"\n",
    "    This function prints and plots the confusion matrix.\n",
    "    Normalization can be applied by setting `normalize=True`.\n",
    "    \"\"\"\n",
    "    plt.imshow(cm, interpolation='nearest', cmap=cmap)\n",
    "#     plt.colorbar()\n",
    "    tick_marks = np.arange(len(classes))\n",
    "    plt.xticks(tick_marks, classes, rotation=0)\n",
    "    plt.yticks(tick_marks, classes)\n",
    "\n",
    "    if normalize:\n",
    "        cm = cm.astype('float') / cm.sum(axis=1)[:, np.newaxis]\n",
    "    thresh = cm.max() / 2.\n",
    "    for i, j in itertools.product(range(cm.shape[0]), range(cm.shape[1])):\n",
    "        plt.text(j, i, cm[i, j],\n",
    "                 horizontalalignment=\"center\",\n",
    "                 color=\"white\" if cm[i, j] > thresh else \"black\")\n",
    "\n",
    "    plt.ylabel('True label')\n",
    "    plt.xlabel('Predicted label')"
   ]
  },
  {
   "cell_type": "code",
   "execution_count": 24,
   "metadata": {},
   "outputs": [
    {
     "name": "stdout",
     "output_type": "stream",
     "text": [
      "Logistic\n",
      "KNN\n",
      "NaiveBayes\n",
      "SVC\n",
      "Tree\n",
      "Forest\n"
     ]
    },
    {
     "data": {
      "image/png": "[encoded data removed]",
      "text/plain": [
       "<Figure size 1200x900 with 6 Axes>"
      ]
     },
     "metadata": {
      "needs_background": "light"
     },
     "output_type": "display_data"
    }
   ],
   "source": [
    "plt.figure(figsize=(12,9), dpi=100)\n",
    "\n",
    "for index, value in enumerate(mydict_models.keys()):\n",
    "    model_name = value\n",
    "    model = mydict_models[value]\n",
    "    print(model_name)\n",
    "    \n",
    "    plot_id = '23{}'.format(index+1)\n",
    "    plt.subplot(plot_id)\n",
    "    plt.title('{}'.format(model_name), weight='bold')\n",
    "    \n",
    "    model.fit(X_train, y_train)\n",
    "    y_pred = model.predict(X_test)\n",
    "    cm = confusion_matrix(y_test,y_pred)\n",
    "    \n",
    "    plot_confusion_matrix(cm,[0,1])\n",
    "\n",
    "plt.tight_layout()\n",
    "plt.show();"
   ]
  },
  {
   "cell_type": "markdown",
   "metadata": {},
   "source": [
    "# - - - Part 3: Model tuning - - -"
   ]
  },
  {
   "cell_type": "markdown",
   "metadata": {},
   "source": [
    "# KNN"
   ]
  },
  {
   "cell_type": "markdown",
   "metadata": {},
   "source": [
    "Covid data\n",
    "* Now, let us look into more details of KNN\n",
    "* We tune the model by changing K (and other hyper-parameters) to optimize the recall score\n",
    "* Best recall when K = 30"
   ]
  },
  {
   "cell_type": "markdown",
   "metadata": {},
   "source": [
    "## Tuning - a simple loop ...."
   ]
  },
  {
   "cell_type": "code",
   "execution_count": 25,
   "metadata": {},
   "outputs": [
    {
     "data": {
      "text/plain": [
       "KNeighborsClassifier(n_neighbors=1)"
      ]
     },
     "execution_count": 25,
     "metadata": {},
     "output_type": "execute_result"
    },
    {
     "data": {
      "text/plain": [
       "KNeighborsClassifier(n_neighbors=11)"
      ]
     },
     "execution_count": 25,
     "metadata": {},
     "output_type": "execute_result"
    },
    {
     "data": {
      "text/plain": [
       "KNeighborsClassifier(n_neighbors=21)"
      ]
     },
     "execution_count": 25,
     "metadata": {},
     "output_type": "execute_result"
    },
    {
     "data": {
      "text/plain": [
       "KNeighborsClassifier(n_neighbors=31)"
      ]
     },
     "execution_count": 25,
     "metadata": {},
     "output_type": "execute_result"
    },
    {
     "data": {
      "text/plain": [
       "KNeighborsClassifier(n_neighbors=41)"
      ]
     },
     "execution_count": 25,
     "metadata": {},
     "output_type": "execute_result"
    },
    {
     "data": {
      "text/plain": [
       "KNeighborsClassifier(n_neighbors=51)"
      ]
     },
     "execution_count": 25,
     "metadata": {},
     "output_type": "execute_result"
    },
    {
     "data": {
      "text/plain": [
       "KNeighborsClassifier(n_neighbors=61)"
      ]
     },
     "execution_count": 25,
     "metadata": {},
     "output_type": "execute_result"
    },
    {
     "data": {
      "text/html": [
       "<div>\n",
       "<style scoped>\n",
       "    .dataframe tbody tr th:only-of-type {\n",
       "        vertical-align: middle;\n",
       "    }\n",
       "\n",
       "    .dataframe tbody tr th {\n",
       "        vertical-align: top;\n",
       "    }\n",
       "\n",
       "    .dataframe thead th {\n",
       "        text-align: right;\n",
       "    }\n",
       "</style>\n",
       "<table border=\"1\" class=\"dataframe\">\n",
       "  <thead>\n",
       "    <tr style=\"text-align: right;\">\n",
       "      <th></th>\n",
       "      <th>neighbor</th>\n",
       "      <th>accuracy</th>\n",
       "      <th>precision</th>\n",
       "      <th>recall</th>\n",
       "      <th>f1</th>\n",
       "    </tr>\n",
       "  </thead>\n",
       "  <tbody>\n",
       "    <tr>\n",
       "      <th>0</th>\n",
       "      <td>1</td>\n",
       "      <td>0.929</td>\n",
       "      <td>0.652</td>\n",
       "      <td>0.489</td>\n",
       "      <td>0.559</td>\n",
       "    </tr>\n",
       "    <tr>\n",
       "      <th>0</th>\n",
       "      <td>11</td>\n",
       "      <td>0.928</td>\n",
       "      <td>0.812</td>\n",
       "      <td>0.283</td>\n",
       "      <td>0.419</td>\n",
       "    </tr>\n",
       "    <tr>\n",
       "      <th>0</th>\n",
       "      <td>21</td>\n",
       "      <td>0.926</td>\n",
       "      <td>0.661</td>\n",
       "      <td>0.402</td>\n",
       "      <td>0.500</td>\n",
       "    </tr>\n",
       "    <tr>\n",
       "      <th>0</th>\n",
       "      <td>31</td>\n",
       "      <td>0.923</td>\n",
       "      <td>0.647</td>\n",
       "      <td>0.359</td>\n",
       "      <td>0.462</td>\n",
       "    </tr>\n",
       "    <tr>\n",
       "      <th>0</th>\n",
       "      <td>41</td>\n",
       "      <td>0.926</td>\n",
       "      <td>0.696</td>\n",
       "      <td>0.348</td>\n",
       "      <td>0.464</td>\n",
       "    </tr>\n",
       "  </tbody>\n",
       "</table>\n",
       "</div>"
      ],
      "text/plain": [
       "   neighbor  accuracy  precision  recall     f1\n",
       "0         1     0.929      0.652   0.489  0.559\n",
       "0        11     0.928      0.812   0.283  0.419\n",
       "0        21     0.926      0.661   0.402  0.500\n",
       "0        31     0.923      0.647   0.359  0.462\n",
       "0        41     0.926      0.696   0.348  0.464"
      ]
     },
     "execution_count": 25,
     "metadata": {},
     "output_type": "execute_result"
    }
   ],
   "source": [
    "df_score_knn = pd.DataFrame()\n",
    "\n",
    "for n in range(1, 70, 10):\n",
    "    model = KNeighborsClassifier(n_neighbors=n)\n",
    "    model_name = int(n)\n",
    "    \n",
    "    model.fit(X_train, y_train);\n",
    "    y_pred = model.predict(X_test)\n",
    "    \n",
    "    accuracy = accuracy_score(y_test, y_pred)\n",
    "    precision = precision_score(y_test, y_pred)\n",
    "    recall = recall_score(y_test, y_pred)\n",
    "    f1 = f1_score(y_test, y_pred)\n",
    "    \n",
    "    data_onemodel = [model_name, accuracy, precision, recall, f1]\n",
    "    \n",
    "    df_temp = pd.DataFrame([data_onemodel])\n",
    "    df_score_knn = pd.concat([df_score_knn, df_temp])\n",
    "\n",
    "df_score_knn.columns = ['neighbor', 'accuracy', 'precision', 'recall', 'f1']\n",
    "\n",
    "df_score_knn.head()"
   ]
  },
  {
   "cell_type": "code",
   "execution_count": 26,
   "metadata": {},
   "outputs": [
    {
     "data": {
      "image/png": "[encoded data removed]",
      "text/plain": [
       "<Figure size 576x288 with 1 Axes>"
      ]
     },
     "metadata": {
      "needs_background": "light"
     },
     "output_type": "display_data"
    }
   ],
   "source": [
    "plt.figure(figsize=(8, 4))\n",
    "\n",
    "list_score = ['recall', 'precision', 'accuracy', 'f1']\n",
    "list_color = ['r', 'b', 'g', 'grey']\n",
    "list_marker = ['o', '^', '*', 'o']\n",
    "\n",
    "df = df_score_knn \n",
    "\n",
    "for index, score in enumerate(list_score):\n",
    "    plt.scatter(df['neighbor'], df[score], marker =list_marker[index], color =list_color[index], s = 200, label = score, alpha = 0.7)\n",
    "    \n",
    "plt.legend(loc = 'best', bbox_to_anchor=(1,1), ncol = 1, fontsize = 14)\n",
    "plt.xlabel('K values', rotation=0, weight='bold', fontsize =14)\n",
    "plt.ylabel('Scores', rotation=90, weight='bold', fontsize =14)\n",
    "plt.xticks(rotation=0)\n",
    "plt.yticks(rotation=0)\n",
    "plt.tight_layout()\n",
    "plt.show();"
   ]
  },
  {
   "cell_type": "markdown",
   "metadata": {},
   "source": [
    "## Tuning - GridSearchCV (can be slow)"
   ]
  },
  {
   "cell_type": "markdown",
   "metadata": {},
   "source": [
    "Now we are testing something more complicated\n",
    "* GridSearchCV reports optimized K of 60 for the recall (this is different from the loop process above, but in both approaches, the recall scores are low, only ~ 0.5)"
   ]
  },
  {
   "cell_type": "code",
   "execution_count": 27,
   "metadata": {},
   "outputs": [
    {
     "name": "stdout",
     "output_type": "stream",
     "text": [
      "Fitting 5 folds for each of 20 candidates, totalling 100 fits\n",
      "Best: 0.488649 using {'n_neighbors': 1, 'weights': 'uniform'}\n",
      "\n",
      "Print out the mean score, std score, and prameters\n",
      "0.488649 (0.082870) with: {'n_neighbors': 1, 'weights': 'uniform'}\n",
      "0.488649 (0.082870) with: {'n_neighbors': 1, 'weights': 'distance'}\n",
      "0.445405 (0.045044) with: {'n_neighbors': 11, 'weights': 'uniform'}\n",
      "0.462703 (0.033075) with: {'n_neighbors': 11, 'weights': 'distance'}\n",
      "0.434595 (0.038314) with: {'n_neighbors': 21, 'weights': 'uniform'}\n",
      "0.484324 (0.038314) with: {'n_neighbors': 21, 'weights': 'distance'}\n",
      "0.314595 (0.050983) with: {'n_neighbors': 31, 'weights': 'uniform'}\n",
      "0.396757 (0.061972) with: {'n_neighbors': 31, 'weights': 'distance'}\n",
      "0.391351 (0.032360) with: {'n_neighbors': 41, 'weights': 'uniform'}\n",
      "0.474595 (0.033039) with: {'n_neighbors': 41, 'weights': 'distance'}\n",
      "0.342703 (0.058777) with: {'n_neighbors': 51, 'weights': 'uniform'}\n",
      "0.417297 (0.057754) with: {'n_neighbors': 51, 'weights': 'distance'}\n",
      "0.405405 (0.034015) with: {'n_neighbors': 61, 'weights': 'uniform'}\n",
      "0.476757 (0.031961) with: {'n_neighbors': 61, 'weights': 'distance'}\n",
      "0.389189 (0.029803) with: {'n_neighbors': 71, 'weights': 'uniform'}\n",
      "0.473514 (0.033251) with: {'n_neighbors': 71, 'weights': 'distance'}\n",
      "0.383784 (0.030768) with: {'n_neighbors': 81, 'weights': 'uniform'}\n",
      "0.472432 (0.034964) with: {'n_neighbors': 81, 'weights': 'distance'}\n",
      "0.370811 (0.033251) with: {'n_neighbors': 91, 'weights': 'uniform'}\n",
      "0.471351 (0.034931) with: {'n_neighbors': 91, 'weights': 'distance'}\n"
     ]
    },
    {
     "data": {
      "text/html": [
       "<div>\n",
       "<style scoped>\n",
       "    .dataframe tbody tr th:only-of-type {\n",
       "        vertical-align: middle;\n",
       "    }\n",
       "\n",
       "    .dataframe tbody tr th {\n",
       "        vertical-align: top;\n",
       "    }\n",
       "\n",
       "    .dataframe thead th {\n",
       "        text-align: right;\n",
       "    }\n",
       "</style>\n",
       "<table border=\"1\" class=\"dataframe\">\n",
       "  <thead>\n",
       "    <tr style=\"text-align: right;\">\n",
       "      <th></th>\n",
       "      <th>n_neighbors</th>\n",
       "      <th>weights</th>\n",
       "      <th>model</th>\n",
       "      <th>score_mean</th>\n",
       "      <th>score_std</th>\n",
       "    </tr>\n",
       "  </thead>\n",
       "  <tbody>\n",
       "    <tr>\n",
       "      <th>0</th>\n",
       "      <td>1</td>\n",
       "      <td>uniform</td>\n",
       "      <td>KNeighborsClassifier()</td>\n",
       "      <td>0.489</td>\n",
       "      <td>0.083</td>\n",
       "    </tr>\n",
       "    <tr>\n",
       "      <th>1</th>\n",
       "      <td>1</td>\n",
       "      <td>distance</td>\n",
       "      <td>KNeighborsClassifier()</td>\n",
       "      <td>0.489</td>\n",
       "      <td>0.083</td>\n",
       "    </tr>\n",
       "    <tr>\n",
       "      <th>2</th>\n",
       "      <td>11</td>\n",
       "      <td>uniform</td>\n",
       "      <td>KNeighborsClassifier()</td>\n",
       "      <td>0.445</td>\n",
       "      <td>0.045</td>\n",
       "    </tr>\n",
       "    <tr>\n",
       "      <th>3</th>\n",
       "      <td>11</td>\n",
       "      <td>distance</td>\n",
       "      <td>KNeighborsClassifier()</td>\n",
       "      <td>0.463</td>\n",
       "      <td>0.033</td>\n",
       "    </tr>\n",
       "    <tr>\n",
       "      <th>4</th>\n",
       "      <td>21</td>\n",
       "      <td>uniform</td>\n",
       "      <td>KNeighborsClassifier()</td>\n",
       "      <td>0.435</td>\n",
       "      <td>0.038</td>\n",
       "    </tr>\n",
       "  </tbody>\n",
       "</table>\n",
       "</div>"
      ],
      "text/plain": [
       "   n_neighbors   weights                   model  score_mean  score_std\n",
       "0            1   uniform  KNeighborsClassifier()       0.489      0.083\n",
       "1            1  distance  KNeighborsClassifier()       0.489      0.083\n",
       "2           11   uniform  KNeighborsClassifier()       0.445      0.045\n",
       "3           11  distance  KNeighborsClassifier()       0.463      0.033\n",
       "4           21   uniform  KNeighborsClassifier()       0.435      0.038"
      ]
     },
     "execution_count": 27,
     "metadata": {},
     "output_type": "execute_result"
    }
   ],
   "source": [
    "from sklearn.neighbors import KNeighborsClassifier\n",
    "\n",
    "# choose model\n",
    "model = KNeighborsClassifier()\n",
    "\n",
    "# choose grid\n",
    "grid = dict(n_neighbors=range(1, 100, 10), weights=['uniform', 'distance'])\n",
    "# grid = dict(n_neighbors=range(1, 100, 10),weights=['uniform', 'distance'],metric=['euclidean', 'manhattan', 'minkowski'])\n",
    "\n",
    "# choose score\n",
    "score = 'recall'\n",
    "# score = make_scorer(fbeta_score, beta=2) # this f-beta may be used for optimize the recall\n",
    "\n",
    "# grid search and save results\n",
    "grid_search = GridSearchCV(estimator=model, param_grid=grid, n_jobs=2, cv=5, scoring=score, error_score=0, return_train_score=True, verbose=5)\n",
    "grid_result = grid_search.fit(X, y)\n",
    "\n",
    "#  - - - summarize - - -\n",
    "print(\"Best: %f using %s\" % (grid_result.best_score_, grid_result.best_params_))\n",
    "\n",
    "print('\\nPrint out the mean score, std score, and prameters')\n",
    "means = grid_result.cv_results_['mean_test_score']\n",
    "stds = grid_result.cv_results_['std_test_score']\n",
    "params = grid_result.cv_results_['params']\n",
    "\n",
    "for mean, stdev, param in zip(means, stds, params):\n",
    "    print(\"%f (%f) with: %r\" % (mean, stdev, param))\n",
    "    \n",
    "df = pd.DataFrame(params)\n",
    "df['model'] = str(model)\n",
    "df['score_mean'] = means\n",
    "df['score_std'] = stds\n",
    "df_summary = df\n",
    "\n",
    "df.head()"
   ]
  },
  {
   "cell_type": "code",
   "execution_count": 28,
   "metadata": {},
   "outputs": [],
   "source": [
    "# Predefine a few functions for plotting\n",
    "# source: https://www.semicolonworld.com/question/43851/how-to-add-group-labels-for-bar-charts-in-matplotlib\n",
    "\n",
    "from itertools import groupby\n",
    "\n",
    "def add_line(ax, xpos, ypos):\n",
    "    line = plt.Line2D([xpos, xpos], [ypos + .1, ypos], transform=ax.transAxes, color='black', linewidth=0.5)\n",
    "    line.set_clip_on(False)\n",
    "    ax.add_line(line)\n",
    "\n",
    "def label_len(my_index, level):\n",
    "    labels = my_index.get_level_values(level)\n",
    "    return [(k, sum(1 for i in g)) for k,g in groupby(labels)]\n",
    "\n",
    "def label_group_bar_table(ax, df):\n",
    "    ypos = -.1\n",
    "    scale = 1./df.index.size\n",
    "    for level in range(df.index.nlevels)[::-1]:\n",
    "        pos = 0\n",
    "\n",
    "        angle = 90 if level == 10 else 0\n",
    "        alpha = 0 if level == 10 else 1\n",
    "\n",
    "        for label, rpos in label_len(df.index,level):\n",
    "            lxpos = (pos + .5 * rpos)*scale\n",
    "            ax.text(lxpos, ypos, label, ha='center', transform=ax.transAxes, rotation=angle, c= 'black', alpha = alpha)\n",
    "            add_line(ax, pos*scale, ypos)\n",
    "            pos += rpos\n",
    "        add_line(ax, pos*scale , ypos)\n",
    "        ypos -= .1\n"
   ]
  },
  {
   "cell_type": "code",
   "execution_count": 29,
   "metadata": {},
   "outputs": [
    {
     "data": {
      "image/png": "[encoded data removed]",
      "text/plain": [
       "<Figure size 1152x288 with 1 Axes>"
      ]
     },
     "metadata": {
      "needs_background": "light"
     },
     "output_type": "display_data"
    }
   ],
   "source": [
    "df = df_summary\n",
    "\n",
    "col_groupby = list(params[0].keys())\n",
    "col_agg = ['mean']\n",
    "col_variable, y_label = ['score_mean'], 'Score'\n",
    "\n",
    "plt.rcParams[\"figure.figsize\"] = (16,4)\n",
    "\n",
    "df[col_variable] = df[col_variable].astype(float)\n",
    "\n",
    "df_ave = df.groupby(col_groupby).agg(col_agg)[col_variable]\n",
    "df_std = df.groupby(col_groupby)[col_variable].std()\n",
    "\n",
    "ax = df_ave.plot(kind='bar', stacked = True, color = 'tab:blue')\n",
    "# ax = df_ave.plot(kind='bar', stacked = False, yerr = df_std, error_kw=dict(capsize=3, lw=1, capthick=0.5), edgecolor = \"black\")\n",
    "\n",
    "ax.set_xticklabels('')\n",
    "ax.set_xlabel('')\n",
    "label_group_bar_table(ax, df_ave)\n",
    "\n",
    "plt.legend('')\n",
    "# plt.legend(bbox_to_anchor=(1.05, 0.8), fontsize = 11, loc='upper left', borderaxespad=0.)\n",
    "plt.ylabel(y_label, fontsize = 12)\n",
    "plt.title('Model:' + str(model) + '; \\nParameter (x label): ' + str(col_groupby), fontsize = 12)\n",
    "plt.show();"
   ]
  },
  {
   "cell_type": "markdown",
   "metadata": {},
   "source": [
    "# Logistic"
   ]
  },
  {
   "cell_type": "markdown",
   "metadata": {},
   "source": [
    "## Quick fit"
   ]
  },
  {
   "cell_type": "markdown",
   "metadata": {},
   "source": [
    "For the covid data\n",
    "* A quick fit of the LogisticRegression gives 0.24 recall, better than dummy but not good\n",
    "* Regularization affects little on the model performance (because the dataset has been scaled/normalized)"
   ]
  },
  {
   "cell_type": "code",
   "execution_count": 30,
   "metadata": {},
   "outputs": [],
   "source": [
    "X_train, X_test, y_train, y_test = X_train_copy, X_test_copy, y_train_copy, y_test_copy"
   ]
  },
  {
   "cell_type": "code",
   "execution_count": 31,
   "metadata": {},
   "outputs": [
    {
     "data": {
      "text/plain": [
       "LogisticRegression()"
      ]
     },
     "execution_count": 31,
     "metadata": {},
     "output_type": "execute_result"
    },
    {
     "name": "stdout",
     "output_type": "stream",
     "text": [
      "recall:  0.2826\n",
      "f1: 0.4062\n"
     ]
    }
   ],
   "source": [
    "lr = LogisticRegression() # C large enough to remove regularization\n",
    "lr.fit(X_train, y_train)\n",
    "y_pred = lr.predict(X_test)\n",
    "print('recall: ', round(recall_score(y_test, y_pred), 4))\n",
    "print('f1:', round(f1_score(y_test, y_pred), 4))"
   ]
  },
  {
   "cell_type": "code",
   "execution_count": 32,
   "metadata": {},
   "outputs": [
    {
     "data": {
      "text/plain": [
       "LogisticRegression(C=10000)"
      ]
     },
     "execution_count": 32,
     "metadata": {},
     "output_type": "execute_result"
    },
    {
     "name": "stdout",
     "output_type": "stream",
     "text": [
      "recall:  0.2826\n",
      "f1: 0.4062\n"
     ]
    }
   ],
   "source": [
    "lr = LogisticRegression(C=10000) # C large enough to remove regularization\n",
    "lr.fit(X_train, y_train)\n",
    "y_pred = lr.predict(X_test)\n",
    "print('recall: ', round(recall_score(y_test, y_pred), 4))\n",
    "print('f1:', round(f1_score(y_test, y_pred), 4))"
   ]
  },
  {
   "cell_type": "markdown",
   "metadata": {},
   "source": [
    "## Confusion matrix"
   ]
  },
  {
   "cell_type": "code",
   "execution_count": 33,
   "metadata": {},
   "outputs": [
    {
     "data": {
      "image/png": "[encoded data removed]",
      "text/plain": [
       "<Figure size 1152x288 with 2 Axes>"
      ]
     },
     "metadata": {
      "needs_background": "light"
     },
     "output_type": "display_data"
    }
   ],
   "source": [
    "from sklearn.metrics import ConfusionMatrixDisplay\n",
    "\n",
    "cm = confusion_matrix(y_test, y_pred) # normalize=None\n",
    "\n",
    "# plot #1\n",
    "cm_display = ConfusionMatrixDisplay(cm).plot()\n",
    "plt.grid(False)\n",
    "\n",
    "# plot #2\n",
    "# sns.heatmap(cm, cmap=plt.cm.Blues, annot=True, square=True,\n",
    "#            xticklabels = target_values,\n",
    "#            yticklabels = target_values)\n",
    "# plt.xlabel('Predicted')\n",
    "# plt.ylabel('Actual')\n",
    "# plt.title('Confusion matrix')\n",
    "# plt.yticks(rotation=0);"
   ]
  },
  {
   "cell_type": "markdown",
   "metadata": {},
   "source": [
    "## Confusion matrix - interactive\n",
    "* this is particularly useful in tuning the threshold/probability"
   ]
  },
  {
   "cell_type": "code",
   "execution_count": 34,
   "metadata": {},
   "outputs": [
    {
     "data": {
      "image/png": "[encoded data removed]",
      "text/plain": [
       "<Figure size 1600x400 with 2 Axes>"
      ]
     },
     "metadata": {
      "needs_background": "light"
     },
     "output_type": "display_data"
    }
   ],
   "source": [
    "def make_confusion_matrix(model, threshold=0.5):\n",
    "    # Predict class 1 if probability of being in class 1 is greater than threshold\n",
    "    # (model.predict(X_test) does this automatically with a threshold of 0.5)\n",
    "    y_predict = (model.predict_proba(X_test)[:, 1] >= threshold)\n",
    "#     fraud_confusion = confusion_matrix(y_test, y_predict, normalize='true')\n",
    "    fraud_confusion = confusion_matrix(y_test, y_predict)\n",
    "    plt.figure(dpi=100)\n",
    "    sns.heatmap(fraud_confusion, cmap=plt.cm.Blues, annot=True, square=True, fmt='d', xticklabels=target_values, yticklabels=target_values)\n",
    "    plt.xlabel('prediction')\n",
    "    plt.ylabel('actual')\n",
    "    plt.show();\n",
    "\n",
    "make_confusion_matrix(lr, threshold = 0.1)"
   ]
  },
  {
   "cell_type": "code",
   "execution_count": 35,
   "metadata": {
    "scrolled": true
   },
   "outputs": [
    {
     "data": {
      "application/vnd.jupyter.widget-view+json": {
       "model_id": "eb29ba1619b9433bbbf5b194c6d66cfc",
       "version_major": 2,
       "version_minor": 0
      },
      "text/plain": [
       "interactive(children=(FloatSlider(value=0.5, description='threshold', max=1.0), Output()), _dom_classes=('widg…"
      ]
     },
     "metadata": {},
     "output_type": "display_data"
    }
   ],
   "source": [
    "# Let's see how our confusion matrix changes with changes to the cutoff! \n",
    "\n",
    "from ipywidgets import interactive, FloatSlider\n",
    "\n",
    "interactive(lambda threshold: make_confusion_matrix(lr, threshold), threshold=(0.0,1,0.1))"
   ]
  },
  {
   "cell_type": "markdown",
   "metadata": {},
   "source": [
    "## Threshold (*P*) tuning (ROC) (@)\n",
    "This is very useful for the model tuning: \n",
    "    1. Loop through a series of P threshold values\n",
    "    2. Calculate the corresponding probability (`model.predict_proba(X_test)[:,1]`)\n",
    "    3. Calculate the model performance (TP, TN, FP, FN, accuracy, recall, precision, f1, etc)\n",
    "    4. Create a master data frame to store all thresholds and scores\n",
    " \n",
    " Apart from the scores, we can also plot out\n",
    " * ROC curve\n",
    " * recall-precision trade off"
   ]
  },
  {
   "cell_type": "code",
   "execution_count": 36,
   "metadata": {},
   "outputs": [
    {
     "data": {
      "text/plain": [
       "LogisticRegression()"
      ]
     },
     "execution_count": 36,
     "metadata": {},
     "output_type": "execute_result"
    },
    {
     "data": {
      "text/html": [
       "<div>\n",
       "<style scoped>\n",
       "    .dataframe tbody tr th:only-of-type {\n",
       "        vertical-align: middle;\n",
       "    }\n",
       "\n",
       "    .dataframe tbody tr th {\n",
       "        vertical-align: top;\n",
       "    }\n",
       "\n",
       "    .dataframe thead th {\n",
       "        text-align: right;\n",
       "    }\n",
       "</style>\n",
       "<table border=\"1\" class=\"dataframe\">\n",
       "  <thead>\n",
       "    <tr style=\"text-align: right;\">\n",
       "      <th></th>\n",
       "      <th>threshold</th>\n",
       "      <th>TN</th>\n",
       "      <th>FP</th>\n",
       "      <th>FN</th>\n",
       "      <th>TP</th>\n",
       "      <th>f1</th>\n",
       "      <th>precision</th>\n",
       "      <th>recall</th>\n",
       "      <th>accuracy</th>\n",
       "      <th>TPR</th>\n",
       "      <th>TNR</th>\n",
       "      <th>PPV</th>\n",
       "      <th>NPV</th>\n",
       "      <th>FPR</th>\n",
       "      <th>FNR</th>\n",
       "      <th>FDR</th>\n",
       "      <th>ACC</th>\n",
       "    </tr>\n",
       "  </thead>\n",
       "  <tbody>\n",
       "    <tr>\n",
       "      <th>0</th>\n",
       "      <td>0.010</td>\n",
       "      <td>0</td>\n",
       "      <td>908</td>\n",
       "      <td>0</td>\n",
       "      <td>92</td>\n",
       "      <td>0.168</td>\n",
       "      <td>0.092</td>\n",
       "      <td>1.0</td>\n",
       "      <td>0.092</td>\n",
       "      <td>1.0</td>\n",
       "      <td>0.0</td>\n",
       "      <td>0.092</td>\n",
       "      <td>NaN</td>\n",
       "      <td>1.0</td>\n",
       "      <td>0.0</td>\n",
       "      <td>0.908</td>\n",
       "      <td>0.092</td>\n",
       "    </tr>\n",
       "    <tr>\n",
       "      <th>1</th>\n",
       "      <td>0.011</td>\n",
       "      <td>0</td>\n",
       "      <td>908</td>\n",
       "      <td>0</td>\n",
       "      <td>92</td>\n",
       "      <td>0.168</td>\n",
       "      <td>0.092</td>\n",
       "      <td>1.0</td>\n",
       "      <td>0.092</td>\n",
       "      <td>1.0</td>\n",
       "      <td>0.0</td>\n",
       "      <td>0.092</td>\n",
       "      <td>NaN</td>\n",
       "      <td>1.0</td>\n",
       "      <td>0.0</td>\n",
       "      <td>0.908</td>\n",
       "      <td>0.092</td>\n",
       "    </tr>\n",
       "    <tr>\n",
       "      <th>2</th>\n",
       "      <td>0.012</td>\n",
       "      <td>0</td>\n",
       "      <td>908</td>\n",
       "      <td>0</td>\n",
       "      <td>92</td>\n",
       "      <td>0.168</td>\n",
       "      <td>0.092</td>\n",
       "      <td>1.0</td>\n",
       "      <td>0.092</td>\n",
       "      <td>1.0</td>\n",
       "      <td>0.0</td>\n",
       "      <td>0.092</td>\n",
       "      <td>NaN</td>\n",
       "      <td>1.0</td>\n",
       "      <td>0.0</td>\n",
       "      <td>0.908</td>\n",
       "      <td>0.092</td>\n",
       "    </tr>\n",
       "    <tr>\n",
       "      <th>3</th>\n",
       "      <td>0.013</td>\n",
       "      <td>0</td>\n",
       "      <td>908</td>\n",
       "      <td>0</td>\n",
       "      <td>92</td>\n",
       "      <td>0.168</td>\n",
       "      <td>0.092</td>\n",
       "      <td>1.0</td>\n",
       "      <td>0.092</td>\n",
       "      <td>1.0</td>\n",
       "      <td>0.0</td>\n",
       "      <td>0.092</td>\n",
       "      <td>NaN</td>\n",
       "      <td>1.0</td>\n",
       "      <td>0.0</td>\n",
       "      <td>0.908</td>\n",
       "      <td>0.092</td>\n",
       "    </tr>\n",
       "    <tr>\n",
       "      <th>4</th>\n",
       "      <td>0.014</td>\n",
       "      <td>0</td>\n",
       "      <td>908</td>\n",
       "      <td>0</td>\n",
       "      <td>92</td>\n",
       "      <td>0.168</td>\n",
       "      <td>0.092</td>\n",
       "      <td>1.0</td>\n",
       "      <td>0.092</td>\n",
       "      <td>1.0</td>\n",
       "      <td>0.0</td>\n",
       "      <td>0.092</td>\n",
       "      <td>NaN</td>\n",
       "      <td>1.0</td>\n",
       "      <td>0.0</td>\n",
       "      <td>0.908</td>\n",
       "      <td>0.092</td>\n",
       "    </tr>\n",
       "  </tbody>\n",
       "</table>\n",
       "</div>"
      ],
      "text/plain": [
       "   threshold  TN   FP  FN  TP     f1  precision  recall  accuracy  TPR  TNR  \\\n",
       "0      0.010   0  908   0  92  0.168      0.092     1.0     0.092  1.0  0.0   \n",
       "1      0.011   0  908   0  92  0.168      0.092     1.0     0.092  1.0  0.0   \n",
       "2      0.012   0  908   0  92  0.168      0.092     1.0     0.092  1.0  0.0   \n",
       "3      0.013   0  908   0  92  0.168      0.092     1.0     0.092  1.0  0.0   \n",
       "4      0.014   0  908   0  92  0.168      0.092     1.0     0.092  1.0  0.0   \n",
       "\n",
       "     PPV  NPV  FPR  FNR    FDR    ACC  \n",
       "0  0.092  NaN  1.0  0.0  0.908  0.092  \n",
       "1  0.092  NaN  1.0  0.0  0.908  0.092  \n",
       "2  0.092  NaN  1.0  0.0  0.908  0.092  \n",
       "3  0.092  NaN  1.0  0.0  0.908  0.092  \n",
       "4  0.092  NaN  1.0  0.0  0.908  0.092  "
      ]
     },
     "execution_count": 36,
     "metadata": {},
     "output_type": "execute_result"
    }
   ],
   "source": [
    "X_train, X_test, y_train, y_test = X_train_copy, X_test_copy, y_train_copy, y_test_copy\n",
    "\n",
    "model = LogisticRegression() # C large enough to remove regularization\n",
    "model.fit(X_train, y_train)\n",
    "\n",
    "# model = RandomForestClassifier()\n",
    "# model.fit(X_train, y_train)\n",
    "\n",
    "thresh_ps = np.linspace(0.01,0.99,1000)\n",
    "\n",
    "all_scores = []\n",
    "\n",
    "for p in thresh_ps:\n",
    "    y_pred = (model.predict_proba(X_test)[:,1] >= p) # positive class probs\n",
    "    \n",
    "#     print(type(y_test), type(y_pred))\n",
    "    \n",
    "    TN, FP, FN, TP = confusion_matrix(y_test, y_pred).ravel()\n",
    "\n",
    "    # calculate the metrics\n",
    "    TPR = TP/(TP+FN) # Sensitivity, hit rate, recall, or true positive rate\n",
    "    TNR = TN/(TN+FP) # Specificity or true negative rate\n",
    "    PPV = TP/(TP+FP) # Precision or positive predictive value\n",
    "    NPV = TN/(TN+FN) # Negative predictive value\n",
    "    FPR = FP/(FP+TN) # Fall out or false positive rate\n",
    "    FNR = FN/(TP+FN) # False negative rate\n",
    "    FDR = FP/(TP+FP) # False discovery rate\n",
    "    ACC = (TP+TN)/(TP+FP+FN+TN)  # Overall accuracy\n",
    "    \n",
    "    all_scores.append([p, TN, FP, FN, TP,\n",
    "                       f1_score(y_test, y_pred), precision_score(y_test, y_pred), recall_score(y_test, y_pred), accuracy_score(y_test, y_pred),\n",
    "                      TPR, TNR, PPV, NPV, FPR, FNR, FDR, ACC])\n",
    "    \n",
    "all_names = ['threshold', 'TN', 'FP', 'FN', 'TP', 'f1', 'precision', 'recall', 'accuracy', 'TPR', 'TNR', 'PPV', 'NPV', 'FPR', 'FNR', 'FDR', 'ACC']\n",
    "\n",
    "df = pd.DataFrame(all_scores)\n",
    "df.columns = all_names\n",
    "\n",
    "df_score = df\n",
    "\n",
    "df.head()"
   ]
  },
  {
   "cell_type": "markdown",
   "metadata": {},
   "source": [
    "For covid data\n",
    "* The best f1 is about 0.68\n",
    "* The best recall can be reaching 1. However, the threshold is extremely low (~1%) and model accuracy drops to the dummy level (baseline - 9.9%)"
   ]
  },
  {
   "cell_type": "code",
   "execution_count": 37,
   "metadata": {},
   "outputs": [
    {
     "name": "stdout",
     "output_type": "stream",
     "text": [
      "find the highest f1 score\n"
     ]
    },
    {
     "data": {
      "text/html": [
       "<div>\n",
       "<style scoped>\n",
       "    .dataframe tbody tr th:only-of-type {\n",
       "        vertical-align: middle;\n",
       "    }\n",
       "\n",
       "    .dataframe tbody tr th {\n",
       "        vertical-align: top;\n",
       "    }\n",
       "\n",
       "    .dataframe thead th {\n",
       "        text-align: right;\n",
       "    }\n",
       "</style>\n",
       "<table border=\"1\" class=\"dataframe\">\n",
       "  <thead>\n",
       "    <tr style=\"text-align: right;\">\n",
       "      <th></th>\n",
       "      <th>threshold</th>\n",
       "      <th>TN</th>\n",
       "      <th>FP</th>\n",
       "      <th>FN</th>\n",
       "      <th>TP</th>\n",
       "      <th>f1</th>\n",
       "      <th>precision</th>\n",
       "      <th>recall</th>\n",
       "      <th>accuracy</th>\n",
       "      <th>TPR</th>\n",
       "      <th>TNR</th>\n",
       "      <th>PPV</th>\n",
       "      <th>NPV</th>\n",
       "      <th>FPR</th>\n",
       "      <th>FNR</th>\n",
       "      <th>FDR</th>\n",
       "      <th>ACC</th>\n",
       "    </tr>\n",
       "  </thead>\n",
       "  <tbody>\n",
       "    <tr>\n",
       "      <th>101</th>\n",
       "      <td>0.109</td>\n",
       "      <td>877</td>\n",
       "      <td>31</td>\n",
       "      <td>33</td>\n",
       "      <td>59</td>\n",
       "      <td>0.648</td>\n",
       "      <td>0.656</td>\n",
       "      <td>0.641</td>\n",
       "      <td>0.936</td>\n",
       "      <td>0.641</td>\n",
       "      <td>0.966</td>\n",
       "      <td>0.656</td>\n",
       "      <td>0.964</td>\n",
       "      <td>0.034</td>\n",
       "      <td>0.359</td>\n",
       "      <td>0.344</td>\n",
       "      <td>0.936</td>\n",
       "    </tr>\n",
       "  </tbody>\n",
       "</table>\n",
       "</div>"
      ],
      "text/plain": [
       "     threshold   TN  FP  FN  TP     f1  precision  recall  accuracy    TPR  \\\n",
       "101      0.109  877  31  33  59  0.648      0.656   0.641     0.936  0.641   \n",
       "\n",
       "       TNR    PPV    NPV    FPR    FNR    FDR    ACC  \n",
       "101  0.966  0.656  0.964  0.034  0.359  0.344  0.936  "
      ]
     },
     "execution_count": 37,
     "metadata": {},
     "output_type": "execute_result"
    },
    {
     "name": "stdout",
     "output_type": "stream",
     "text": [
      "find 50% probability\n"
     ]
    },
    {
     "data": {
      "text/html": [
       "<div>\n",
       "<style scoped>\n",
       "    .dataframe tbody tr th:only-of-type {\n",
       "        vertical-align: middle;\n",
       "    }\n",
       "\n",
       "    .dataframe tbody tr th {\n",
       "        vertical-align: top;\n",
       "    }\n",
       "\n",
       "    .dataframe thead th {\n",
       "        text-align: right;\n",
       "    }\n",
       "</style>\n",
       "<table border=\"1\" class=\"dataframe\">\n",
       "  <thead>\n",
       "    <tr style=\"text-align: right;\">\n",
       "      <th></th>\n",
       "      <th>threshold</th>\n",
       "      <th>TN</th>\n",
       "      <th>FP</th>\n",
       "      <th>FN</th>\n",
       "      <th>TP</th>\n",
       "      <th>f1</th>\n",
       "      <th>precision</th>\n",
       "      <th>recall</th>\n",
       "      <th>accuracy</th>\n",
       "      <th>TPR</th>\n",
       "      <th>TNR</th>\n",
       "      <th>PPV</th>\n",
       "      <th>NPV</th>\n",
       "      <th>FPR</th>\n",
       "      <th>FNR</th>\n",
       "      <th>FDR</th>\n",
       "      <th>ACC</th>\n",
       "    </tr>\n",
       "  </thead>\n",
       "  <tbody>\n",
       "    <tr>\n",
       "      <th>500</th>\n",
       "      <td>0.5</td>\n",
       "      <td>898</td>\n",
       "      <td>10</td>\n",
       "      <td>66</td>\n",
       "      <td>26</td>\n",
       "      <td>0.406</td>\n",
       "      <td>0.722</td>\n",
       "      <td>0.283</td>\n",
       "      <td>0.924</td>\n",
       "      <td>0.283</td>\n",
       "      <td>0.989</td>\n",
       "      <td>0.722</td>\n",
       "      <td>0.932</td>\n",
       "      <td>0.011</td>\n",
       "      <td>0.717</td>\n",
       "      <td>0.278</td>\n",
       "      <td>0.924</td>\n",
       "    </tr>\n",
       "  </tbody>\n",
       "</table>\n",
       "</div>"
      ],
      "text/plain": [
       "     threshold   TN  FP  FN  TP     f1  precision  recall  accuracy    TPR  \\\n",
       "500        0.5  898  10  66  26  0.406      0.722   0.283     0.924  0.283   \n",
       "\n",
       "       TNR    PPV    NPV    FPR    FNR    FDR    ACC  \n",
       "500  0.989  0.722  0.932  0.011  0.717  0.278  0.924  "
      ]
     },
     "execution_count": 37,
     "metadata": {},
     "output_type": "execute_result"
    },
    {
     "name": "stdout",
     "output_type": "stream",
     "text": [
      "find the highest recall\n"
     ]
    },
    {
     "data": {
      "text/html": [
       "<div>\n",
       "<style scoped>\n",
       "    .dataframe tbody tr th:only-of-type {\n",
       "        vertical-align: middle;\n",
       "    }\n",
       "\n",
       "    .dataframe tbody tr th {\n",
       "        vertical-align: top;\n",
       "    }\n",
       "\n",
       "    .dataframe thead th {\n",
       "        text-align: right;\n",
       "    }\n",
       "</style>\n",
       "<table border=\"1\" class=\"dataframe\">\n",
       "  <thead>\n",
       "    <tr style=\"text-align: right;\">\n",
       "      <th></th>\n",
       "      <th>threshold</th>\n",
       "      <th>TN</th>\n",
       "      <th>FP</th>\n",
       "      <th>FN</th>\n",
       "      <th>TP</th>\n",
       "      <th>f1</th>\n",
       "      <th>precision</th>\n",
       "      <th>recall</th>\n",
       "      <th>accuracy</th>\n",
       "      <th>TPR</th>\n",
       "      <th>TNR</th>\n",
       "      <th>PPV</th>\n",
       "      <th>NPV</th>\n",
       "      <th>FPR</th>\n",
       "      <th>FNR</th>\n",
       "      <th>FDR</th>\n",
       "      <th>ACC</th>\n",
       "    </tr>\n",
       "  </thead>\n",
       "  <tbody>\n",
       "    <tr>\n",
       "      <th>0</th>\n",
       "      <td>0.01</td>\n",
       "      <td>0</td>\n",
       "      <td>908</td>\n",
       "      <td>0</td>\n",
       "      <td>92</td>\n",
       "      <td>0.168</td>\n",
       "      <td>0.092</td>\n",
       "      <td>1.0</td>\n",
       "      <td>0.092</td>\n",
       "      <td>1.0</td>\n",
       "      <td>0.0</td>\n",
       "      <td>0.092</td>\n",
       "      <td>NaN</td>\n",
       "      <td>1.0</td>\n",
       "      <td>0.0</td>\n",
       "      <td>0.908</td>\n",
       "      <td>0.092</td>\n",
       "    </tr>\n",
       "  </tbody>\n",
       "</table>\n",
       "</div>"
      ],
      "text/plain": [
       "   threshold  TN   FP  FN  TP     f1  precision  recall  accuracy  TPR  TNR  \\\n",
       "0       0.01   0  908   0  92  0.168      0.092     1.0     0.092  1.0  0.0   \n",
       "\n",
       "     PPV  NPV  FPR  FNR    FDR    ACC  \n",
       "0  0.092  NaN  1.0  0.0  0.908  0.092  "
      ]
     },
     "execution_count": 37,
     "metadata": {},
     "output_type": "execute_result"
    }
   ],
   "source": [
    "df = df_score\n",
    "\n",
    "print('find the highest f1 score')\n",
    "df.sort_values(by=['f1'], ascending = False).head(1)\n",
    "\n",
    "print('find 50% probability')\n",
    "df.iloc[(df['threshold']-0.5).abs().argsort()[:1]]\n",
    "\n",
    "print('find the highest recall')\n",
    "df.sort_values(by=['recall'], ascending = False).head(1)"
   ]
  },
  {
   "cell_type": "markdown",
   "metadata": {},
   "source": [
    "Visualize the change of scores over the threshold"
   ]
  },
  {
   "cell_type": "code",
   "execution_count": 38,
   "metadata": {},
   "outputs": [
    {
     "data": {
      "image/png": "[encoded data removed]",
      "text/plain": [
       "<Figure size 600x400 with 1 Axes>"
      ]
     },
     "metadata": {
      "needs_background": "light"
     },
     "output_type": "display_data"
    }
   ],
   "source": [
    "df = df_score\n",
    "col_plot = ['accuracy', 'f1', 'precision',  'recall']\n",
    "\n",
    "plt.figure(figsize=(6,4), dpi=100)\n",
    "\n",
    "for col in col_plot:\n",
    "    linewidth = 4 if col == 'recall' else 2\n",
    "#     linestyle = 'dotted' if col == 'recall' else 'solid'\n",
    "    plt.plot(df['threshold'], df[col], linewidth = linewidth, linestyle = None)\n",
    "    \n",
    "plt.title('Metric Scores vs. Positive Class Decision Probability Threshold')\n",
    "plt.legend(col_plot, bbox_to_anchor=(1.05, 0), loc='lower left')\n",
    "plt.xlabel('P threshold')\n",
    "plt.ylabel('Metric score')\n",
    "plt.show();"
   ]
  },
  {
   "cell_type": "code",
   "execution_count": 39,
   "metadata": {},
   "outputs": [
    {
     "data": {
      "image/png": "[encoded data removed]",
      "text/plain": [
       "<Figure size 400x300 with 1 Axes>"
      ]
     },
     "metadata": {
      "needs_background": "light"
     },
     "output_type": "display_data"
    }
   ],
   "source": [
    "# Visual: precision-recall trade-off\n",
    "\n",
    "plt.figure(figsize=(4,3), dpi=100)\n",
    "\n",
    "df = df_score\n",
    "plt.scatter(df['FPR'], df['TPR'])\n",
    "\n",
    "x = np.linspace(0,1, 1000)\n",
    "plt.plot(x, x, linestyle='--')\n",
    "\n",
    "plt.title('ROC Curve')\n",
    "plt.xlabel('False Positive Rate')\n",
    "plt.ylabel('True Positive Rate')\n",
    "\n",
    "plt.show();"
   ]
  },
  {
   "cell_type": "code",
   "execution_count": 40,
   "metadata": {
    "scrolled": true
   },
   "outputs": [
    {
     "data": {
      "image/png": "[encoded data removed]",
      "text/plain": [
       "<Figure size 400x400 with 1 Axes>"
      ]
     },
     "metadata": {
      "needs_background": "light"
     },
     "output_type": "display_data"
    }
   ],
   "source": [
    "# Visual: precision-recall trade-off\n",
    "    \n",
    "plt.figure(figsize=(4,4), dpi=100)\n",
    "\n",
    "df = df_score\n",
    "\n",
    "plt.scatter(df['recall'], df['precision'])\n",
    "\n",
    "# plt.title('precision and recall')\n",
    "plt.xlabel('recall_scores')\n",
    "plt.ylabel('precision_scores')\n",
    "\n",
    "plt.show();"
   ]
  },
  {
   "cell_type": "markdown",
   "metadata": {},
   "source": [
    "## Feature importance"
   ]
  },
  {
   "cell_type": "code",
   "execution_count": 41,
   "metadata": {},
   "outputs": [
    {
     "data": {
      "text/plain": [
       "LogisticRegression()"
      ]
     },
     "execution_count": 41,
     "metadata": {},
     "output_type": "execute_result"
    },
    {
     "name": "stdout",
     "output_type": "stream",
     "text": [
      "coefs: [0.706121   0.82894737 1.50720167 1.34768876 1.53885593 0.19760287\n",
      " 0.27665569 2.79011111 0.05858537]\n",
      "exp(coef): [ 2.02611668  2.29090599  4.51408122  3.84852039  4.65925672  1.21847841\n",
      "  1.31871225 16.28282884  1.0603355 ]\n"
     ]
    },
    {
     "data": {
      "text/html": [
       "<div>\n",
       "<style scoped>\n",
       "    .dataframe tbody tr th:only-of-type {\n",
       "        vertical-align: middle;\n",
       "    }\n",
       "\n",
       "    .dataframe tbody tr th {\n",
       "        vertical-align: top;\n",
       "    }\n",
       "\n",
       "    .dataframe thead th {\n",
       "        text-align: right;\n",
       "    }\n",
       "</style>\n",
       "<table border=\"1\" class=\"dataframe\">\n",
       "  <thead>\n",
       "    <tr style=\"text-align: right;\">\n",
       "      <th></th>\n",
       "      <th>feature</th>\n",
       "      <th>coeff (log odd) - log loss</th>\n",
       "      <th>proba (odds)</th>\n",
       "      <th>proba (% in increase)</th>\n",
       "    </tr>\n",
       "  </thead>\n",
       "  <tbody>\n",
       "    <tr>\n",
       "      <th>7</th>\n",
       "      <td>contact_with_confirmed</td>\n",
       "      <td>2.790</td>\n",
       "      <td>16.283</td>\n",
       "      <td>1528.3%</td>\n",
       "    </tr>\n",
       "    <tr>\n",
       "      <th>4</th>\n",
       "      <td>head_ache</td>\n",
       "      <td>1.539</td>\n",
       "      <td>4.659</td>\n",
       "      <td>365.9%</td>\n",
       "    </tr>\n",
       "    <tr>\n",
       "      <th>2</th>\n",
       "      <td>sore_throat</td>\n",
       "      <td>1.507</td>\n",
       "      <td>4.514</td>\n",
       "      <td>351.4%</td>\n",
       "    </tr>\n",
       "    <tr>\n",
       "      <th>3</th>\n",
       "      <td>shortness_of_breath</td>\n",
       "      <td>1.348</td>\n",
       "      <td>3.849</td>\n",
       "      <td>284.9%</td>\n",
       "    </tr>\n",
       "    <tr>\n",
       "      <th>1</th>\n",
       "      <td>fever</td>\n",
       "      <td>0.829</td>\n",
       "      <td>2.291</td>\n",
       "      <td>129.1%</td>\n",
       "    </tr>\n",
       "    <tr>\n",
       "      <th>0</th>\n",
       "      <td>cough</td>\n",
       "      <td>0.706</td>\n",
       "      <td>2.026</td>\n",
       "      <td>102.6%</td>\n",
       "    </tr>\n",
       "    <tr>\n",
       "      <th>6</th>\n",
       "      <td>gender</td>\n",
       "      <td>0.277</td>\n",
       "      <td>1.319</td>\n",
       "      <td>31.9%</td>\n",
       "    </tr>\n",
       "    <tr>\n",
       "      <th>5</th>\n",
       "      <td>age_60_and_above</td>\n",
       "      <td>0.198</td>\n",
       "      <td>1.218</td>\n",
       "      <td>21.8%</td>\n",
       "    </tr>\n",
       "    <tr>\n",
       "      <th>8</th>\n",
       "      <td>abroad</td>\n",
       "      <td>0.059</td>\n",
       "      <td>1.060</td>\n",
       "      <td>6.0%</td>\n",
       "    </tr>\n",
       "  </tbody>\n",
       "</table>\n",
       "</div>"
      ],
      "text/plain": [
       "                  feature  coeff (log odd) - log loss  proba (odds)  \\\n",
       "7  contact_with_confirmed                       2.790        16.283   \n",
       "4               head_ache                       1.539         4.659   \n",
       "2             sore_throat                       1.507         4.514   \n",
       "3     shortness_of_breath                       1.348         3.849   \n",
       "1                   fever                       0.829         2.291   \n",
       "0                   cough                       0.706         2.026   \n",
       "6                  gender                       0.277         1.319   \n",
       "5        age_60_and_above                       0.198         1.218   \n",
       "8                  abroad                       0.059         1.060   \n",
       "\n",
       "  proba (% in increase)  \n",
       "7               1528.3%  \n",
       "4                365.9%  \n",
       "2                351.4%  \n",
       "3                284.9%  \n",
       "1                129.1%  \n",
       "0                102.6%  \n",
       "6                 31.9%  \n",
       "5                 21.8%  \n",
       "8                  6.0%  "
      ]
     },
     "execution_count": 41,
     "metadata": {},
     "output_type": "execute_result"
    }
   ],
   "source": [
    "# get the coeff, log coeff, and probability for the default model\n",
    "\n",
    "lr_model = LogisticRegression()\n",
    "lr_model.fit(X_train, y_train)\n",
    "\n",
    "print('coefs:', lr_model.coef_[0])\n",
    "\n",
    "print('exp(coef):', np.exp(lr_model.coef_[0]))\n",
    "\n",
    "df_coefficients = {'feature': X_train.columns, \n",
    "        'coeff (log odd) - log loss': lr_model.coef_[0],\n",
    "       'proba (odds)': np.exp(lr_model.coef_[0]),\n",
    "       'proba (% in increase)': [\"{:.1%}\".format(item-1) for item in np.exp(lr_model.coef_[0])]}\n",
    "\n",
    "# pd.DataFrame.from_dict(data_coefficients).head()\n",
    "pd.DataFrame.from_dict(df_coefficients).sort_values(by=['proba (odds)'], ascending = False)"
   ]
  },
  {
   "cell_type": "code",
   "execution_count": 42,
   "metadata": {},
   "outputs": [
    {
     "data": {
      "image/png": "[encoded data removed]",
      "text/plain": [
       "<Figure size 1152x288 with 1 Axes>"
      ]
     },
     "metadata": {
      "needs_background": "light"
     },
     "output_type": "display_data"
    }
   ],
   "source": [
    "df = df_coefficients\n",
    "plt.barh(df['feature'], width=df['proba (odds)'], color = 'lightgrey', edgecolor = 'black');"
   ]
  },
  {
   "cell_type": "markdown",
   "metadata": {},
   "source": [
    "## Feature importance (bootstrapped)\n",
    "* The bootstrapping process is used to generate \"extra\" bags of datasets and estimate the variation of the coefficients / feature importance\n",
    "* `df_coef`: the data frame that stores all fitted logistic-regression coefficients\n",
    "* `df_coef`: # of rows = # of bags, # of columns = # feature + 1 (1 here is the intercept)\n",
    "* `df_CI`: the data frame that stores all the confidence intervals (lower-mean-upper) for the logistic-regression coefficients"
   ]
  },
  {
   "cell_type": "code",
   "execution_count": 43,
   "metadata": {},
   "outputs": [
    {
     "name": "stdout",
     "output_type": "stream",
     "text": [
      "Progress: 0%\n",
      "Progress: 10%\n",
      "Progress: 20%\n",
      "Progress: 30%\n",
      "Progress: 40%\n",
      "Progress: 50%\n",
      "Progress: 60%\n",
      "Progress: 70%\n",
      "Progress: 80%\n",
      "Progress: 90%\n"
     ]
    },
    {
     "data": {
      "text/plain": [
       "(1000, 10)"
      ]
     },
     "execution_count": 43,
     "metadata": {},
     "output_type": "execute_result"
    },
    {
     "data": {
      "text/html": [
       "<div>\n",
       "<style scoped>\n",
       "    .dataframe tbody tr th:only-of-type {\n",
       "        vertical-align: middle;\n",
       "    }\n",
       "\n",
       "    .dataframe tbody tr th {\n",
       "        vertical-align: top;\n",
       "    }\n",
       "\n",
       "    .dataframe thead th {\n",
       "        text-align: right;\n",
       "    }\n",
       "</style>\n",
       "<table border=\"1\" class=\"dataframe\">\n",
       "  <thead>\n",
       "    <tr style=\"text-align: right;\">\n",
       "      <th></th>\n",
       "      <th>cough</th>\n",
       "      <th>fever</th>\n",
       "      <th>sore_throat</th>\n",
       "      <th>shortness_of_breath</th>\n",
       "      <th>head_ache</th>\n",
       "      <th>age_60_and_above</th>\n",
       "      <th>gender</th>\n",
       "      <th>contact_with_confirmed</th>\n",
       "      <th>abroad</th>\n",
       "      <th>intercept</th>\n",
       "    </tr>\n",
       "  </thead>\n",
       "  <tbody>\n",
       "    <tr>\n",
       "      <th>0</th>\n",
       "      <td>0.657</td>\n",
       "      <td>0.834</td>\n",
       "      <td>2.286</td>\n",
       "      <td>2.705</td>\n",
       "      <td>1.477</td>\n",
       "      <td>0.130</td>\n",
       "      <td>0.287</td>\n",
       "      <td>2.723</td>\n",
       "      <td>0.127</td>\n",
       "      <td>-3.218</td>\n",
       "    </tr>\n",
       "    <tr>\n",
       "      <th>1</th>\n",
       "      <td>0.974</td>\n",
       "      <td>0.589</td>\n",
       "      <td>1.438</td>\n",
       "      <td>1.164</td>\n",
       "      <td>1.090</td>\n",
       "      <td>0.124</td>\n",
       "      <td>0.335</td>\n",
       "      <td>2.772</td>\n",
       "      <td>-1.169</td>\n",
       "      <td>-3.202</td>\n",
       "    </tr>\n",
       "    <tr>\n",
       "      <th>2</th>\n",
       "      <td>0.976</td>\n",
       "      <td>0.556</td>\n",
       "      <td>1.933</td>\n",
       "      <td>0.604</td>\n",
       "      <td>1.794</td>\n",
       "      <td>0.214</td>\n",
       "      <td>0.241</td>\n",
       "      <td>2.970</td>\n",
       "      <td>0.073</td>\n",
       "      <td>-3.215</td>\n",
       "    </tr>\n",
       "    <tr>\n",
       "      <th>3</th>\n",
       "      <td>0.956</td>\n",
       "      <td>0.995</td>\n",
       "      <td>1.039</td>\n",
       "      <td>0.195</td>\n",
       "      <td>1.736</td>\n",
       "      <td>0.237</td>\n",
       "      <td>0.346</td>\n",
       "      <td>2.872</td>\n",
       "      <td>0.047</td>\n",
       "      <td>-3.252</td>\n",
       "    </tr>\n",
       "    <tr>\n",
       "      <th>4</th>\n",
       "      <td>0.561</td>\n",
       "      <td>0.857</td>\n",
       "      <td>1.688</td>\n",
       "      <td>0.996</td>\n",
       "      <td>1.467</td>\n",
       "      <td>0.184</td>\n",
       "      <td>0.222</td>\n",
       "      <td>2.824</td>\n",
       "      <td>0.016</td>\n",
       "      <td>-3.104</td>\n",
       "    </tr>\n",
       "  </tbody>\n",
       "</table>\n",
       "</div>"
      ],
      "text/plain": [
       "   cough  fever  sore_throat  shortness_of_breath  head_ache  \\\n",
       "0  0.657  0.834        2.286                2.705      1.477   \n",
       "1  0.974  0.589        1.438                1.164      1.090   \n",
       "2  0.976  0.556        1.933                0.604      1.794   \n",
       "3  0.956  0.995        1.039                0.195      1.736   \n",
       "4  0.561  0.857        1.688                0.996      1.467   \n",
       "\n",
       "   age_60_and_above  gender  contact_with_confirmed  abroad  intercept  \n",
       "0             0.130   0.287                   2.723   0.127     -3.218  \n",
       "1             0.124   0.335                   2.772  -1.169     -3.202  \n",
       "2             0.214   0.241                   2.970   0.073     -3.215  \n",
       "3             0.237   0.346                   2.872   0.047     -3.252  \n",
       "4             0.184   0.222                   2.824   0.016     -3.104  "
      ]
     },
     "execution_count": 43,
     "metadata": {},
     "output_type": "execute_result"
    }
   ],
   "source": [
    "df_train = X_train.copy()\n",
    "df_train[col_y] = y_train.copy()\n",
    "\n",
    "# adjust as needed\n",
    "bags, samples = 1000, 10000\n",
    "# samples = X_train.shape[0]\n",
    "\n",
    "df_coef = pd.DataFrame()\n",
    "\n",
    "show_progress = 0\n",
    "\n",
    "for index, item in enumerate(range(bags)):\n",
    "    \n",
    "    progress = index/bags\n",
    "    if progress < show_progress: pass\n",
    "    else: print('Progress:', \"{:.0%}\".format(show_progress)); show_progress = show_progress + 0.1    \n",
    "    \n",
    "    # bootstrap with replacement enabled\n",
    "    df_bootstrap = df_train.sample(n=samples, replace=True)\n",
    "\n",
    "    X_sample = np.array(df_bootstrap[col_X])\n",
    "    y_sample = np.array(df_bootstrap[col_y])\n",
    "    \n",
    "    model = LogisticRegression().fit(X_sample, y_sample)\n",
    "    coefficients = list(model.coef_[0]) + list([model.intercept_][0])\n",
    "\n",
    "    df_temp = pd.DataFrame([coefficients])\n",
    "    df_coef  = pd.concat([df_coef, df_temp])\n",
    "    \n",
    "df_coef.columns = list(X_train.columns) + ['intercept']\n",
    "df_coef = df_coef.reset_index(drop=True)\n",
    "\n",
    "# df_coef.to_excel('data/' + 'df_coeff_100000samples_1000bags_LogisticRegression.xlsx')\n",
    "\n",
    "df_coef.shape\n",
    "df_coef.head()"
   ]
  },
  {
   "cell_type": "code",
   "execution_count": 44,
   "metadata": {},
   "outputs": [
    {
     "name": "stdout",
     "output_type": "stream",
     "text": [
      "col_name: cough ; percentiles: 0.31 0.7001 1.0698\n",
      "col_name: fever ; percentiles: 0.4421 0.8182 1.1742\n",
      "col_name: sore_throat ; percentiles: 0.876 1.5339 2.1797\n",
      "col_name: shortness_of_breath ; percentiles: 0.4538 1.3849 2.273\n",
      "col_name: head_ache ; percentiles: 1.0564 1.559 2.116\n",
      "col_name: age_60_and_above ; percentiles: -0.0278 0.1988 0.4097\n",
      "col_name: gender ; percentiles: 0.1112 0.2749 0.4429\n",
      "col_name: contact_with_confirmed ; percentiles: 2.6076 2.8096 3.0159\n",
      "col_name: abroad ; percentiles: -0.6548 0.0477 0.6866\n",
      "col_name: intercept ; percentiles: -3.344 -3.2077 -3.0729\n"
     ]
    },
    {
     "data": {
      "text/html": [
       "<div>\n",
       "<style scoped>\n",
       "    .dataframe tbody tr th:only-of-type {\n",
       "        vertical-align: middle;\n",
       "    }\n",
       "\n",
       "    .dataframe tbody tr th {\n",
       "        vertical-align: top;\n",
       "    }\n",
       "\n",
       "    .dataframe thead th {\n",
       "        text-align: right;\n",
       "    }\n",
       "</style>\n",
       "<table border=\"1\" class=\"dataframe\">\n",
       "  <thead>\n",
       "    <tr style=\"text-align: right;\">\n",
       "      <th></th>\n",
       "      <th>feature</th>\n",
       "      <th>lower</th>\n",
       "      <th>lower_exp</th>\n",
       "      <th>lower_prob</th>\n",
       "      <th>mean</th>\n",
       "      <th>mean_exp</th>\n",
       "      <th>mean_prob</th>\n",
       "      <th>upper</th>\n",
       "      <th>upper_exp</th>\n",
       "      <th>upper_prob</th>\n",
       "      <th>interval</th>\n",
       "      <th>interval_exp</th>\n",
       "      <th>interval_prob</th>\n",
       "    </tr>\n",
       "  </thead>\n",
       "  <tbody>\n",
       "    <tr>\n",
       "      <th>8</th>\n",
       "      <td>abroad</td>\n",
       "      <td>-0.655</td>\n",
       "      <td>0.520</td>\n",
       "      <td>-48%</td>\n",
       "      <td>0.048</td>\n",
       "      <td>1.049</td>\n",
       "      <td>5%</td>\n",
       "      <td>0.687</td>\n",
       "      <td>1.987</td>\n",
       "      <td>99%</td>\n",
       "      <td>0.671</td>\n",
       "      <td>0.734</td>\n",
       "      <td>0.734</td>\n",
       "    </tr>\n",
       "    <tr>\n",
       "      <th>5</th>\n",
       "      <td>age_60_and_above</td>\n",
       "      <td>-0.028</td>\n",
       "      <td>0.973</td>\n",
       "      <td>-3%</td>\n",
       "      <td>0.199</td>\n",
       "      <td>1.220</td>\n",
       "      <td>22%</td>\n",
       "      <td>0.410</td>\n",
       "      <td>1.506</td>\n",
       "      <td>51%</td>\n",
       "      <td>0.219</td>\n",
       "      <td>0.267</td>\n",
       "      <td>0.267</td>\n",
       "    </tr>\n",
       "    <tr>\n",
       "      <th>6</th>\n",
       "      <td>gender</td>\n",
       "      <td>0.111</td>\n",
       "      <td>1.118</td>\n",
       "      <td>12%</td>\n",
       "      <td>0.275</td>\n",
       "      <td>1.316</td>\n",
       "      <td>32%</td>\n",
       "      <td>0.443</td>\n",
       "      <td>1.557</td>\n",
       "      <td>56%</td>\n",
       "      <td>0.166</td>\n",
       "      <td>0.220</td>\n",
       "      <td>0.220</td>\n",
       "    </tr>\n",
       "    <tr>\n",
       "      <th>0</th>\n",
       "      <td>cough</td>\n",
       "      <td>0.310</td>\n",
       "      <td>1.363</td>\n",
       "      <td>36%</td>\n",
       "      <td>0.700</td>\n",
       "      <td>2.014</td>\n",
       "      <td>101%</td>\n",
       "      <td>1.070</td>\n",
       "      <td>2.915</td>\n",
       "      <td>191%</td>\n",
       "      <td>0.380</td>\n",
       "      <td>0.776</td>\n",
       "      <td>0.776</td>\n",
       "    </tr>\n",
       "    <tr>\n",
       "      <th>1</th>\n",
       "      <td>fever</td>\n",
       "      <td>0.442</td>\n",
       "      <td>1.556</td>\n",
       "      <td>56%</td>\n",
       "      <td>0.818</td>\n",
       "      <td>2.266</td>\n",
       "      <td>127%</td>\n",
       "      <td>1.174</td>\n",
       "      <td>3.236</td>\n",
       "      <td>224%</td>\n",
       "      <td>0.366</td>\n",
       "      <td>0.840</td>\n",
       "      <td>0.840</td>\n",
       "    </tr>\n",
       "    <tr>\n",
       "      <th>3</th>\n",
       "      <td>shortness_of_breath</td>\n",
       "      <td>0.454</td>\n",
       "      <td>1.574</td>\n",
       "      <td>57%</td>\n",
       "      <td>1.385</td>\n",
       "      <td>3.994</td>\n",
       "      <td>299%</td>\n",
       "      <td>2.273</td>\n",
       "      <td>9.709</td>\n",
       "      <td>871%</td>\n",
       "      <td>0.910</td>\n",
       "      <td>4.067</td>\n",
       "      <td>4.067</td>\n",
       "    </tr>\n",
       "    <tr>\n",
       "      <th>2</th>\n",
       "      <td>sore_throat</td>\n",
       "      <td>0.876</td>\n",
       "      <td>2.401</td>\n",
       "      <td>140%</td>\n",
       "      <td>1.534</td>\n",
       "      <td>4.636</td>\n",
       "      <td>364%</td>\n",
       "      <td>2.180</td>\n",
       "      <td>8.844</td>\n",
       "      <td>784%</td>\n",
       "      <td>0.652</td>\n",
       "      <td>3.221</td>\n",
       "      <td>3.221</td>\n",
       "    </tr>\n",
       "    <tr>\n",
       "      <th>4</th>\n",
       "      <td>head_ache</td>\n",
       "      <td>1.056</td>\n",
       "      <td>2.876</td>\n",
       "      <td>188%</td>\n",
       "      <td>1.559</td>\n",
       "      <td>4.754</td>\n",
       "      <td>375%</td>\n",
       "      <td>2.116</td>\n",
       "      <td>8.298</td>\n",
       "      <td>730%</td>\n",
       "      <td>0.530</td>\n",
       "      <td>2.711</td>\n",
       "      <td>2.711</td>\n",
       "    </tr>\n",
       "    <tr>\n",
       "      <th>7</th>\n",
       "      <td>contact_with_confirmed</td>\n",
       "      <td>2.608</td>\n",
       "      <td>13.566</td>\n",
       "      <td>1257%</td>\n",
       "      <td>2.810</td>\n",
       "      <td>16.603</td>\n",
       "      <td>1560%</td>\n",
       "      <td>3.016</td>\n",
       "      <td>20.408</td>\n",
       "      <td>1941%</td>\n",
       "      <td>0.204</td>\n",
       "      <td>3.421</td>\n",
       "      <td>3.421</td>\n",
       "    </tr>\n",
       "  </tbody>\n",
       "</table>\n",
       "</div>"
      ],
      "text/plain": [
       "                  feature  lower  lower_exp lower_prob   mean  mean_exp  \\\n",
       "8                  abroad -0.655      0.520       -48%  0.048     1.049   \n",
       "5        age_60_and_above -0.028      0.973        -3%  0.199     1.220   \n",
       "6                  gender  0.111      1.118        12%  0.275     1.316   \n",
       "0                   cough  0.310      1.363        36%  0.700     2.014   \n",
       "1                   fever  0.442      1.556        56%  0.818     2.266   \n",
       "3     shortness_of_breath  0.454      1.574        57%  1.385     3.994   \n",
       "2             sore_throat  0.876      2.401       140%  1.534     4.636   \n",
       "4               head_ache  1.056      2.876       188%  1.559     4.754   \n",
       "7  contact_with_confirmed  2.608     13.566      1257%  2.810    16.603   \n",
       "\n",
       "  mean_prob  upper  upper_exp upper_prob  interval  interval_exp  \\\n",
       "8        5%  0.687      1.987        99%     0.671         0.734   \n",
       "5       22%  0.410      1.506        51%     0.219         0.267   \n",
       "6       32%  0.443      1.557        56%     0.166         0.220   \n",
       "0      101%  1.070      2.915       191%     0.380         0.776   \n",
       "1      127%  1.174      3.236       224%     0.366         0.840   \n",
       "3      299%  2.273      9.709       871%     0.910         4.067   \n",
       "2      364%  2.180      8.844       784%     0.652         3.221   \n",
       "4      375%  2.116      8.298       730%     0.530         2.711   \n",
       "7     1560%  3.016     20.408      1941%     0.204         3.421   \n",
       "\n",
       "   interval_prob  \n",
       "8          0.734  \n",
       "5          0.267  \n",
       "6          0.220  \n",
       "0          0.776  \n",
       "1          0.840  \n",
       "3          4.067  \n",
       "2          3.221  \n",
       "4          2.711  \n",
       "7          3.421  "
      ]
     },
     "execution_count": 44,
     "metadata": {},
     "output_type": "execute_result"
    }
   ],
   "source": [
    "# df_CI: confidence internval\n",
    "\n",
    "df = pd.DataFrame()\n",
    "\n",
    "list_mean = []\n",
    "list_lower = []\n",
    "list_upper = []\n",
    "\n",
    "for col in df_coef.columns:\n",
    "    data = df_coef[col]\n",
    "    a, b, c = np.percentile(data, 2.5), np.mean(data), np.percentile(data, 97.5)\n",
    "    print('col_name:', col, '; percentiles:', round(a, 4), round(b, 4), round(c, 4))\n",
    "    list_lower.append(np.percentile(data, 2.5))\n",
    "    list_mean.append(np.mean(data))\n",
    "    list_upper.append(np.percentile(data, 97.5))\n",
    "    \n",
    "df['feature'] = df_coef.columns\n",
    "df['lower'] = list_lower\n",
    "df['lower_exp'] = [np.exp(item) for item in list_lower]\n",
    "df['lower_prob'] = [\"{:.0%}\".format(np.exp(item)-1) for item in list_lower]\n",
    "df['mean'] = list_mean\n",
    "df['mean_exp'] = [np.exp(item) for item in list_mean]\n",
    "df['mean_prob'] = [\"{:.0%}\".format(np.exp(item)-1) for item in list_mean]\n",
    "df['upper'] = list_upper\n",
    "df['upper_exp'] = [np.exp(item) for item in list_upper]\n",
    "df['upper_prob'] = [\"{:.0%}\".format(np.exp(item)-1) for item in list_upper]\n",
    "df['interval'] = (df['upper'] - df['lower'])/2\n",
    "df['interval_exp'] = (df['upper_exp'] - df['lower_exp'])/2\n",
    "df['interval_prob'] = [ ((np.exp(list_upper[index])-1) -  (np.exp(list_lower[index])-1))/2  for index, item in enumerate(list_upper)]\n",
    "\n",
    "# remove the intercept row and rank\n",
    "df = df[~(df['feature'].str.contains('intercept'))]\n",
    "df = df.sort_values(by=['mean'], ascending = True)\n",
    "\n",
    "df_CI = df\n",
    "\n",
    "df.head(10)"
   ]
  },
  {
   "cell_type": "code",
   "execution_count": 45,
   "metadata": {
    "scrolled": true
   },
   "outputs": [
    {
     "data": {
      "image/png": "[encoded data removed]",
      "text/plain": [
       "<Figure size 4800x1200 with 1 Axes>"
      ]
     },
     "metadata": {
      "needs_background": "light"
     },
     "output_type": "display_data"
    }
   ],
   "source": [
    "df = df_CI\n",
    "\n",
    "# for tigher error bars, need to increase the bad/sample size\n",
    "# speed is not a big concern for this study\n",
    "\n",
    "plt.figure(dpi=300)\n",
    "plt.rcParams[\"figure.figsize\"] = (8,4)\n",
    "plt.rcParams[\"errorbar.capsize\"] = 3\n",
    "\n",
    "# plt.barh(df['feature'], width=df['mean'], xerr = df['interval'], color = 'lightgrey', edgecolor = 'black')\n",
    "plt.barh(df['feature'], width=df['mean_exp'], xerr = df['interval_exp'], color = 'lightgrey', edgecolor = 'black')\n",
    "# plt.barh(df['feature'], width=df['mean_prob'], xerr = df['interval_prob'], color = 'lightgrey', edgecolor = 'black')\n",
    "# plt.xlim([0,15])\n",
    "plt.xticks([0, 5, 10, 15, 20])\n",
    "plt.show();"
   ]
  },
  {
   "cell_type": "markdown",
   "metadata": {},
   "source": [
    "# Random Forest"
   ]
  },
  {
   "cell_type": "markdown",
   "metadata": {},
   "source": [
    "## Quick fit and check score"
   ]
  },
  {
   "cell_type": "code",
   "execution_count": 46,
   "metadata": {},
   "outputs": [
    {
     "name": "stdout",
     "output_type": "stream",
     "text": [
      "(10000, 9) (8000, 9) (1000, 9) (10000, 1) (8000, 1) (1000, 1)\n"
     ]
    }
   ],
   "source": [
    "# check input data again\n",
    "X, y = X_copy, y_copy\n",
    "X_train, X_test, y_train, y_test = X_train_copy, X_test_copy, y_train_copy, y_test_copy\n",
    "print(X.shape, X_train.shape, X_test.shape, y.shape, y_train.shape, y_test.shape)"
   ]
  },
  {
   "cell_type": "code",
   "execution_count": 47,
   "metadata": {},
   "outputs": [
    {
     "data": {
      "text/plain": [
       "RandomForestClassifier()"
      ]
     },
     "execution_count": 47,
     "metadata": {},
     "output_type": "execute_result"
    },
    {
     "name": "stdout",
     "output_type": "stream",
     "text": [
      "recall:  0.6923\n",
      "f1: 0.5732\n"
     ]
    },
    {
     "data": {
      "text/plain": [
       "array([[888,  20],\n",
       "       [ 47,  45]], dtype=int64)"
      ]
     },
     "execution_count": 47,
     "metadata": {},
     "output_type": "execute_result"
    }
   ],
   "source": [
    "model = RandomForestClassifier()\n",
    "model.fit(X_train, y_train)\n",
    "y_pred = model.predict(X_test)\n",
    "\n",
    "print('recall: ', round(recall_score(y_pred, y_test), 4))\n",
    "print('f1:', round(f1_score(y_pred, y_test), 4))\n",
    "confusion_matrix(y_test, y_pred)"
   ]
  },
  {
   "cell_type": "markdown",
   "metadata": {},
   "source": [
    "## Tuning - GridSearchCV"
   ]
  },
  {
   "cell_type": "markdown",
   "metadata": {},
   "source": [
    "For the covid data\n",
    "* It seems that the selected pamaters do not make a big difference on the recall score (always about 50%)"
   ]
  },
  {
   "cell_type": "code",
   "execution_count": 48,
   "metadata": {},
   "outputs": [
    {
     "name": "stdout",
     "output_type": "stream",
     "text": [
      "Fitting 5 folds for each of 12 candidates, totalling 60 fits\n",
      "Best: 0.502703 using {'bootstrap': True, 'max_features': 'log2', 'n_estimators': 1000}\n"
     ]
    },
    {
     "data": {
      "text/html": [
       "<div>\n",
       "<style scoped>\n",
       "    .dataframe tbody tr th:only-of-type {\n",
       "        vertical-align: middle;\n",
       "    }\n",
       "\n",
       "    .dataframe tbody tr th {\n",
       "        vertical-align: top;\n",
       "    }\n",
       "\n",
       "    .dataframe thead th {\n",
       "        text-align: right;\n",
       "    }\n",
       "</style>\n",
       "<table border=\"1\" class=\"dataframe\">\n",
       "  <thead>\n",
       "    <tr style=\"text-align: right;\">\n",
       "      <th></th>\n",
       "      <th>bootstrap</th>\n",
       "      <th>max_features</th>\n",
       "      <th>n_estimators</th>\n",
       "      <th>model</th>\n",
       "      <th>score_mean</th>\n",
       "      <th>score_std</th>\n",
       "    </tr>\n",
       "  </thead>\n",
       "  <tbody>\n",
       "    <tr>\n",
       "      <th>0</th>\n",
       "      <td>True</td>\n",
       "      <td>sqrt</td>\n",
       "      <td>10</td>\n",
       "      <td>RandomForestClassifier()</td>\n",
       "      <td>0.488</td>\n",
       "      <td>0.044</td>\n",
       "    </tr>\n",
       "    <tr>\n",
       "      <th>1</th>\n",
       "      <td>True</td>\n",
       "      <td>sqrt</td>\n",
       "      <td>100</td>\n",
       "      <td>RandomForestClassifier()</td>\n",
       "      <td>0.502</td>\n",
       "      <td>0.043</td>\n",
       "    </tr>\n",
       "    <tr>\n",
       "      <th>2</th>\n",
       "      <td>True</td>\n",
       "      <td>sqrt</td>\n",
       "      <td>1000</td>\n",
       "      <td>RandomForestClassifier()</td>\n",
       "      <td>0.498</td>\n",
       "      <td>0.037</td>\n",
       "    </tr>\n",
       "    <tr>\n",
       "      <th>3</th>\n",
       "      <td>True</td>\n",
       "      <td>log2</td>\n",
       "      <td>10</td>\n",
       "      <td>RandomForestClassifier()</td>\n",
       "      <td>0.483</td>\n",
       "      <td>0.041</td>\n",
       "    </tr>\n",
       "    <tr>\n",
       "      <th>4</th>\n",
       "      <td>True</td>\n",
       "      <td>log2</td>\n",
       "      <td>100</td>\n",
       "      <td>RandomForestClassifier()</td>\n",
       "      <td>0.490</td>\n",
       "      <td>0.040</td>\n",
       "    </tr>\n",
       "  </tbody>\n",
       "</table>\n",
       "</div>"
      ],
      "text/plain": [
       "   bootstrap max_features  n_estimators                     model  score_mean  \\\n",
       "0       True         sqrt            10  RandomForestClassifier()       0.488   \n",
       "1       True         sqrt           100  RandomForestClassifier()       0.502   \n",
       "2       True         sqrt          1000  RandomForestClassifier()       0.498   \n",
       "3       True         log2            10  RandomForestClassifier()       0.483   \n",
       "4       True         log2           100  RandomForestClassifier()       0.490   \n",
       "\n",
       "   score_std  \n",
       "0      0.044  \n",
       "1      0.043  \n",
       "2      0.037  \n",
       "3      0.041  \n",
       "4      0.040  "
      ]
     },
     "execution_count": 48,
     "metadata": {},
     "output_type": "execute_result"
    }
   ],
   "source": [
    "model = RandomForestClassifier()\n",
    "\n",
    "score = 'recall'\n",
    "grid = dict(n_estimators=[10, 100, 1000], max_features=['sqrt', 'log2'], bootstrap = [True, False])\n",
    "\n",
    "grid_search = GridSearchCV(estimator=model, param_grid=grid, n_jobs=-1, cv=5, scoring=score, error_score=0, return_train_score=True, verbose=3)\n",
    "\n",
    "grid_result = grid_search.fit(X, y)\n",
    "\n",
    "print(\"Best: %f using %s\" % (grid_result.best_score_, grid_result.best_params_))\n",
    "\n",
    "means = grid_result.cv_results_['mean_test_score']\n",
    "stds = grid_result.cv_results_['std_test_score']\n",
    "params = grid_result.cv_results_['params']\n",
    "\n",
    "df = pd.DataFrame(params)\n",
    "df['model'] = str(model)\n",
    "df['score_mean'] = means\n",
    "df['score_std'] = stds\n",
    "df_summary = df\n",
    "\n",
    "df.head()"
   ]
  },
  {
   "cell_type": "code",
   "execution_count": 49,
   "metadata": {},
   "outputs": [
    {
     "data": {
      "image/png": "[encoded data removed]",
      "text/plain": [
       "<Figure size 576x288 with 1 Axes>"
      ]
     },
     "metadata": {
      "needs_background": "light"
     },
     "output_type": "display_data"
    }
   ],
   "source": [
    "df = df_summary\n",
    "\n",
    "col_groupby = list(params[0].keys())\n",
    "col_agg = ['mean']\n",
    "col_variable, y_label = ['score_mean'], 'Score'\n",
    "\n",
    "plt.rcParams[\"figure.figsize\"] = (8,4)\n",
    "\n",
    "df[col_variable] = df[col_variable].astype(float)\n",
    "\n",
    "df_ave = df.groupby(col_groupby).agg(col_agg)[col_variable]\n",
    "df_std = df.groupby(col_groupby)[col_variable].std()\n",
    "\n",
    "ax = df_ave.plot(kind='bar', stacked = True, color = 'tab:blue')\n",
    "# ax = df_ave.plot(kind='bar', stacked = False, yerr = df_std, error_kw=dict(capsize=3, lw=1, capthick=0.5), edgecolor = \"black\")\n",
    "\n",
    "ax.set_xticklabels('')\n",
    "ax.set_xlabel('')\n",
    "label_group_bar_table(ax, df_ave)\n",
    "\n",
    "plt.legend('')\n",
    "# plt.legend(bbox_to_anchor=(1.05, 0.8), fontsize = 11, loc='upper left', borderaxespad=0.)\n",
    "plt.ylabel(y_label, fontsize = 12)\n",
    "plt.title('Model:' + str(model) + '\\nParameter (x label): ' + str(col_groupby), fontsize = 12)\n",
    "plt.show();"
   ]
  },
  {
   "cell_type": "markdown",
   "metadata": {},
   "source": [
    "## Feature importance"
   ]
  },
  {
   "cell_type": "code",
   "execution_count": 50,
   "metadata": {},
   "outputs": [
    {
     "data": {
      "image/png": "[encoded data removed]",
      "text/plain": [
       "<Figure size 600x300 with 1 Axes>"
      ]
     },
     "metadata": {
      "needs_background": "light"
     },
     "output_type": "display_data"
    }
   ],
   "source": [
    "plt.rcParams[\"figure.dpi\"] = 100\n",
    "plt.rcParams[\"figure.figsize\"] = (6,3)\n",
    "plt.rcParams[\"errorbar.capsize\"] = 3\n",
    "\n",
    "feature_names = X_train.columns\n",
    "forest = RandomForestClassifier(random_state=0)\n",
    "# forest = RandomForestClassifier(random_state=0, n_estimators=1000, max_features='sqrt')\n",
    "forest.fit(X_train, y_train)\n",
    "\n",
    "importances = forest.feature_importances_\n",
    "std = np.std([tree.feature_importances_ for tree in forest.estimators_], axis=0)\n",
    "df_forest_importances = pd.DataFrame(importances, index=feature_names, columns=['importance'])\n",
    "df_forest_importances['std'] = std\n",
    "df_forest_importances['feature'] = df_forest_importances.index\n",
    "df_forest_importances = df_forest_importances.sort_values(by =['importance'], ascending = True)\n",
    "plt.barh(df_forest_importances['feature'], width=df_forest_importances['importance'], xerr = df_forest_importances['std'], color = 'lightgrey', edgecolor = 'black')\n",
    "plt.tight_layout()\n",
    "plt.show();"
   ]
  },
  {
   "cell_type": "markdown",
   "metadata": {},
   "source": [
    "#  Compare models (Score & ROC)"
   ]
  },
  {
   "cell_type": "markdown",
   "metadata": {},
   "source": [
    "## LR vs KNN\n",
    "* TM: using the covid data, a reshape of `.reshape(-1,1)` is needed for data feeding"
   ]
  },
  {
   "cell_type": "code",
   "execution_count": 51,
   "metadata": {},
   "outputs": [
    {
     "name": "stdout",
     "output_type": "stream",
     "text": [
      "(10000, 9) (8000, 9) (1000, 9) (10000, 1) (8000, 1) (1000, 1)\n",
      "(10000, 9) (8000, 9) (1000, 9) (10000, 1) (8000, 1) (1000, 1)\n"
     ]
    }
   ],
   "source": [
    "# check input data again\n",
    "X_train, X_test, y_train, y_test = X_train_copy, X_test_copy, y_train_copy, y_test_copy\n",
    "print(X.shape, X_train.shape, X_test.shape, y.shape, y_train.shape, y_test.shape)\n",
    "print(X.shape, X_train.shape, X_test.shape, y.shape, y_train.shape, y_test.shape)"
   ]
  },
  {
   "cell_type": "code",
   "execution_count": 52,
   "metadata": {},
   "outputs": [
    {
     "data": {
      "text/plain": [
       "LogisticRegression(C=10000)"
      ]
     },
     "execution_count": 52,
     "metadata": {},
     "output_type": "execute_result"
    },
    {
     "data": {
      "text/plain": [
       "KNeighborsClassifier(n_neighbors=30)"
      ]
     },
     "execution_count": 52,
     "metadata": {},
     "output_type": "execute_result"
    },
    {
     "name": "stdout",
     "output_type": "stream",
     "text": [
      "LogisticRegression (P=0.079) validation metrics: \n",
      " Accuracy: 0.9220 \n",
      " Precision: 0.5636 \n",
      " Recall: 0.6739 \n",
      " F1: 0.6139\n",
      "\n",
      "\n",
      "30-NN validation metrics: \n",
      " Accuracy: 0.9240 \n",
      " Precision: 0.6600 \n",
      " Recall: 0.3587 \n",
      " F1: 0.4648\n"
     ]
    }
   ],
   "source": [
    "model1 = LogisticRegression(C=10000) # C large enough to remove regularization\n",
    "model1.fit(X_train, y_train)\n",
    "model1_name = 'LogisticRegression (P=0.079)'\n",
    "\n",
    "model2 = KNeighborsClassifier(n_neighbors=30) # the neighbor of 30 has been optimized for recall\n",
    "model2.fit(X_train, y_train)\n",
    "model2_name = '30-NN'\n",
    "\n",
    "# y_pred = lr.predict(X_test).reshape(-1,1)\n",
    "y_pred =model1.predict_proba(X_test)[:,1] >= 0.079 # note that this is the LogisticRegression with optimized threshold\n",
    "print(model1_name + ' validation metrics: \\n Accuracy: %.4f \\n Precision: %.4f \\n Recall: %.4f \\n F1: %.4f' %\n",
    "        (accuracy_score(y_test, y_pred), \n",
    "         precision_score(y_test, y_pred), \n",
    "         recall_score(y_test, y_pred), \n",
    "         f1_score(y_test, y_pred), \n",
    "        )\n",
    "     )\n",
    "\n",
    "print('\\n')\n",
    "\n",
    "y_pred = model2.predict(X_test).reshape(-1,1)\n",
    "print(model2_name + ' validation metrics: \\n Accuracy: %.4f \\n Precision: %.4f \\n Recall: %.4f \\n F1: %.4f' %\n",
    "        (accuracy_score(y_test, y_pred), \n",
    "         precision_score(y_test, y_pred), \n",
    "         recall_score(y_test, y_pred), \n",
    "         f1_score(y_test, y_pred), \n",
    "        )\n",
    "     )"
   ]
  },
  {
   "cell_type": "markdown",
   "metadata": {},
   "source": [
    "Compare ROC"
   ]
  },
  {
   "cell_type": "code",
   "execution_count": 53,
   "metadata": {
    "scrolled": true
   },
   "outputs": [
    {
     "data": {
      "image/png": "[encoded data removed]",
      "text/plain": [
       "<Figure size 600x300 with 1 Axes>"
      ]
     },
     "metadata": {
      "needs_background": "light"
     },
     "output_type": "display_data"
    }
   ],
   "source": [
    "from sklearn.metrics import roc_curve\n",
    "\n",
    "# first model: lr\n",
    "fpr, tpr, _ = roc_curve(y_test, model1.predict_proba(X_test)[:,1])\n",
    "plt.plot(fpr, tpr)\n",
    "\n",
    "# second model: knn\n",
    "fpr, tpr, _ = roc_curve(y_test, model2.predict_proba(X_test)[:,1])\n",
    "plt.plot(fpr, tpr)\n",
    "\n",
    "x = np.linspace(0,1, 100000)\n",
    "plt.plot(x, x, linestyle='--')\n",
    "\n",
    "plt.title('ROC Curve')\n",
    "plt.xlabel('False Positive Rate')\n",
    "plt.ylabel('True Positive Rate')\n",
    "plt.legend([model1_name, model2_name])\n",
    "\n",
    "plt.show();"
   ]
  },
  {
   "cell_type": "markdown",
   "metadata": {},
   "source": [
    "## LR:Simple vs Resampled (Class imbalance)"
   ]
  },
  {
   "cell_type": "markdown",
   "metadata": {},
   "source": [
    "Covid data\n",
    "* Since the data is imbalanced, Let us see is resampling can help improve the model performance \n",
    "* 2 models are compared here: simple logistic regression, oversampled logistic regression (note that the test dataset is not modified at all during the resampling and used for estimating the model performance)\n",
    "* Usually, we may not see a big different in the ROC curve, but the f1 and recall scores (at 50% threshold) has been improved significantly"
   ]
  },
  {
   "cell_type": "code",
   "execution_count": 54,
   "metadata": {},
   "outputs": [
    {
     "name": "stdout",
     "output_type": "stream",
     "text": [
      "Check data:\n",
      "(8000, 9) (1000, 9) (8000, 1) (1000, 1)\n",
      "<class 'pandas.core.frame.DataFrame'> <class 'pandas.core.frame.DataFrame'>\n"
     ]
    }
   ],
   "source": [
    "print('Check data:')\n",
    "print(X_train.shape, X_test.shape, y_train.shape, y_test.shape)\n",
    "print(type(X_train), type(y_train))\n",
    "\n",
    "n_pos = y_train[y_train[col_y] == 1].dropna().shape[0]\n",
    "n_neg = y_train[y_train[col_y] == 0].dropna().shape[0]"
   ]
  },
  {
   "cell_type": "code",
   "execution_count": 55,
   "metadata": {},
   "outputs": [
    {
     "name": "stdout",
     "output_type": "stream",
     "text": [
      "n_pos = 735 , n_neg = 7265\n"
     ]
    },
    {
     "data": {
      "text/plain": [
       "LogisticRegression(solver='liblinear')"
      ]
     },
     "execution_count": 55,
     "metadata": {},
     "output_type": "execute_result"
    },
    {
     "name": "stdout",
     "output_type": "stream",
     "text": [
      "Simple Logistic Regression\n",
      "Test F1: 0.406\n",
      "Test Recall: 0.283\n",
      "Test AUC: 0.841\n"
     ]
    },
    {
     "data": {
      "text/plain": [
       "LogisticRegression(solver='liblinear')"
      ]
     },
     "execution_count": 55,
     "metadata": {},
     "output_type": "execute_result"
    },
    {
     "name": "stdout",
     "output_type": "stream",
     "text": [
      "Logistic Regression on Oversampled Train Data\n",
      "Test F1: 0.636\n",
      "Test Recall: 0.609\n",
      "Test AUC: 0.833\n"
     ]
    }
   ],
   "source": [
    "import imblearn.over_sampling\n",
    "\n",
    "# setup for the ratio argument of RandomOverSampler initialization\n",
    "ratio = {1 : n_pos * 4, 0 : n_neg} \n",
    "print('n_pos =', n_pos, ', n_neg =', n_neg)\n",
    "\n",
    "# randomly oversample positive samples: create nx as many \n",
    "ROS = imblearn.over_sampling.RandomOverSampler(sampling_strategy = ratio, random_state=42) \n",
    "X_train_rs, y_train_rs = ROS.fit_resample(X_train, y_train)\n",
    "\n",
    "# simple regression model\n",
    "model1 = LogisticRegression(solver='liblinear') \n",
    "model1.fit(X_train, y_train)\n",
    "model1_name = 'Simple Logistic Regression'\n",
    "\n",
    "print(model1_name)\n",
    "print('Test F1: %.3f' % f1_score(y_test, model1.predict(X_test)))\n",
    "print('Test Recall: %.3f' % recall_score(y_test, model1.predict(X_test)))\n",
    "print('Test AUC: %.3f' % roc_auc_score(y_test, model1.predict_proba(X_test)[:,1]))\n",
    "\n",
    "model2 = LogisticRegression(solver='liblinear') \n",
    "model2.fit(X_train_rs, y_train_rs)\n",
    "model2_name = 'Logistic Regression on Oversampled Train Data'\n",
    "\n",
    "print(model2_name)\n",
    "print('Test F1: %.3f' % f1_score(y_test, model2.predict(X_test)))\n",
    "print('Test Recall: %.3f' % recall_score(y_test, model2.predict(X_test)))\n",
    "print('Test AUC: %.3f' % roc_auc_score(y_test, model2.predict_proba(X_test)[:,1]))"
   ]
  },
  {
   "cell_type": "code",
   "execution_count": 56,
   "metadata": {},
   "outputs": [
    {
     "name": "stdout",
     "output_type": "stream",
     "text": [
      "LogisticRegression(solver='liblinear')\n",
      "LogisticRegression(solver='liblinear')\n"
     ]
    },
    {
     "data": {
      "text/html": [
       "<div>\n",
       "<style scoped>\n",
       "    .dataframe tbody tr th:only-of-type {\n",
       "        vertical-align: middle;\n",
       "    }\n",
       "\n",
       "    .dataframe tbody tr th {\n",
       "        vertical-align: top;\n",
       "    }\n",
       "\n",
       "    .dataframe thead th {\n",
       "        text-align: right;\n",
       "    }\n",
       "</style>\n",
       "<table border=\"1\" class=\"dataframe\">\n",
       "  <thead>\n",
       "    <tr style=\"text-align: right;\">\n",
       "      <th></th>\n",
       "      <th>threshold</th>\n",
       "      <th>TN</th>\n",
       "      <th>FP</th>\n",
       "      <th>FN</th>\n",
       "      <th>TP</th>\n",
       "      <th>f1</th>\n",
       "      <th>precision</th>\n",
       "      <th>recall</th>\n",
       "      <th>accuracy</th>\n",
       "      <th>TPR</th>\n",
       "      <th>TNR</th>\n",
       "      <th>PPV</th>\n",
       "      <th>NPV</th>\n",
       "      <th>FPR</th>\n",
       "      <th>FNR</th>\n",
       "      <th>FDR</th>\n",
       "      <th>ACC</th>\n",
       "      <th>model</th>\n",
       "    </tr>\n",
       "  </thead>\n",
       "  <tbody>\n",
       "    <tr>\n",
       "      <th>0</th>\n",
       "      <td>0.01</td>\n",
       "      <td>0</td>\n",
       "      <td>908</td>\n",
       "      <td>0</td>\n",
       "      <td>92</td>\n",
       "      <td>0.168</td>\n",
       "      <td>0.092</td>\n",
       "      <td>1.00</td>\n",
       "      <td>0.092</td>\n",
       "      <td>1.00</td>\n",
       "      <td>0.000</td>\n",
       "      <td>0.092</td>\n",
       "      <td>NaN</td>\n",
       "      <td>1.000</td>\n",
       "      <td>0.00</td>\n",
       "      <td>0.908</td>\n",
       "      <td>0.092</td>\n",
       "      <td>Simple Logistic Regression</td>\n",
       "    </tr>\n",
       "    <tr>\n",
       "      <th>0</th>\n",
       "      <td>0.02</td>\n",
       "      <td>0</td>\n",
       "      <td>908</td>\n",
       "      <td>0</td>\n",
       "      <td>92</td>\n",
       "      <td>0.168</td>\n",
       "      <td>0.092</td>\n",
       "      <td>1.00</td>\n",
       "      <td>0.092</td>\n",
       "      <td>1.00</td>\n",
       "      <td>0.000</td>\n",
       "      <td>0.092</td>\n",
       "      <td>NaN</td>\n",
       "      <td>1.000</td>\n",
       "      <td>0.00</td>\n",
       "      <td>0.908</td>\n",
       "      <td>0.092</td>\n",
       "      <td>Simple Logistic Regression</td>\n",
       "    </tr>\n",
       "    <tr>\n",
       "      <th>0</th>\n",
       "      <td>0.03</td>\n",
       "      <td>0</td>\n",
       "      <td>908</td>\n",
       "      <td>0</td>\n",
       "      <td>92</td>\n",
       "      <td>0.168</td>\n",
       "      <td>0.092</td>\n",
       "      <td>1.00</td>\n",
       "      <td>0.092</td>\n",
       "      <td>1.00</td>\n",
       "      <td>0.000</td>\n",
       "      <td>0.092</td>\n",
       "      <td>NaN</td>\n",
       "      <td>1.000</td>\n",
       "      <td>0.00</td>\n",
       "      <td>0.908</td>\n",
       "      <td>0.092</td>\n",
       "      <td>Simple Logistic Regression</td>\n",
       "    </tr>\n",
       "    <tr>\n",
       "      <th>0</th>\n",
       "      <td>0.04</td>\n",
       "      <td>0</td>\n",
       "      <td>908</td>\n",
       "      <td>0</td>\n",
       "      <td>92</td>\n",
       "      <td>0.168</td>\n",
       "      <td>0.092</td>\n",
       "      <td>1.00</td>\n",
       "      <td>0.092</td>\n",
       "      <td>1.00</td>\n",
       "      <td>0.000</td>\n",
       "      <td>0.092</td>\n",
       "      <td>NaN</td>\n",
       "      <td>1.000</td>\n",
       "      <td>0.00</td>\n",
       "      <td>0.908</td>\n",
       "      <td>0.092</td>\n",
       "      <td>Simple Logistic Regression</td>\n",
       "    </tr>\n",
       "    <tr>\n",
       "      <th>0</th>\n",
       "      <td>0.05</td>\n",
       "      <td>444</td>\n",
       "      <td>464</td>\n",
       "      <td>12</td>\n",
       "      <td>80</td>\n",
       "      <td>0.252</td>\n",
       "      <td>0.147</td>\n",
       "      <td>0.87</td>\n",
       "      <td>0.524</td>\n",
       "      <td>0.87</td>\n",
       "      <td>0.489</td>\n",
       "      <td>0.147</td>\n",
       "      <td>0.974</td>\n",
       "      <td>0.511</td>\n",
       "      <td>0.13</td>\n",
       "      <td>0.853</td>\n",
       "      <td>0.524</td>\n",
       "      <td>Simple Logistic Regression</td>\n",
       "    </tr>\n",
       "  </tbody>\n",
       "</table>\n",
       "</div>"
      ],
      "text/plain": [
       "   threshold   TN   FP  FN  TP     f1  precision  recall  accuracy   TPR  \\\n",
       "0       0.01    0  908   0  92  0.168      0.092    1.00     0.092  1.00   \n",
       "0       0.02    0  908   0  92  0.168      0.092    1.00     0.092  1.00   \n",
       "0       0.03    0  908   0  92  0.168      0.092    1.00     0.092  1.00   \n",
       "0       0.04    0  908   0  92  0.168      0.092    1.00     0.092  1.00   \n",
       "0       0.05  444  464  12  80  0.252      0.147    0.87     0.524  0.87   \n",
       "\n",
       "     TNR    PPV    NPV    FPR   FNR    FDR    ACC                       model  \n",
       "0  0.000  0.092    NaN  1.000  0.00  0.908  0.092  Simple Logistic Regression  \n",
       "0  0.000  0.092    NaN  1.000  0.00  0.908  0.092  Simple Logistic Regression  \n",
       "0  0.000  0.092    NaN  1.000  0.00  0.908  0.092  Simple Logistic Regression  \n",
       "0  0.000  0.092    NaN  1.000  0.00  0.908  0.092  Simple Logistic Regression  \n",
       "0  0.489  0.147  0.974  0.511  0.13  0.853  0.524  Simple Logistic Regression  "
      ]
     },
     "execution_count": 56,
     "metadata": {},
     "output_type": "execute_result"
    }
   ],
   "source": [
    "thresh_ps = np.linspace(0.01,0.99,100)\n",
    "\n",
    "all_models = [model1, model2]\n",
    "all_modelnames = [model1_name, model2_name]\n",
    "\n",
    "df = pd.DataFrame()\n",
    "for index, model in enumerate(all_models):\n",
    "    print(model)\n",
    "    y_predict_probs = model.predict_proba(X_test)[:,1] # positive class probs, same basic logistic model we fit in section 2 \n",
    "    for p in thresh_ps:      \n",
    "        y_predict = y_predict_probs >= p\n",
    "\n",
    "        TN, FP, FN, TP = confusion_matrix(y_test, y_predict).ravel()\n",
    "\n",
    "        # calculate the metrics\n",
    "        TPR = TP/(TP+FN) # Sensitivity, hit rate, recall, or true positive rate\n",
    "        TNR = TN/(TN+FP) # Specificity or true negative rate\n",
    "        PPV = TP/(TP+FP) # Precision or positive predictive value\n",
    "        NPV = TN/(TN+FN) # Negative predictive value\n",
    "        FPR = FP/(FP+TN) # Fall out or false positive rate\n",
    "        FNR = FN/(TP+FN) # False negative rate\n",
    "        FDR = FP/(TP+FP) # False discovery rate\n",
    "        ACC = (TP+TN)/(TP+FP+FN+TN)  # Overall accuracy\n",
    "\n",
    "        all_scores = []\n",
    "        all_scores.append([p, TN, FP, FN, TP,\n",
    "                           f1_score(y_test, y_predict), precision_score(y_test, y_predict), \n",
    "                           recall_score(y_test, y_predict), accuracy_score(y_test, y_predict),\n",
    "                          TPR, TNR, PPV, NPV, FPR, FNR, FDR, ACC])\n",
    "\n",
    "        df_temp = pd.DataFrame(all_scores)\n",
    "        df_temp['model'] = all_modelnames[index]\n",
    "        df = pd.concat([df, df_temp])\n",
    "        \n",
    "all_names = ['threshold', 'TN', 'FP', 'FN', 'TP', 'f1', 'precision', 'recall', 'accuracy', 'TPR', 'TNR', 'PPV', 'NPV', 'FPR', 'FNR', 'FDR', 'ACC', 'model']\n",
    "df.columns = all_names\n",
    "\n",
    "df_score = df\n",
    "\n",
    "df = df_score\n",
    "df.head()"
   ]
  },
  {
   "cell_type": "code",
   "execution_count": 57,
   "metadata": {},
   "outputs": [
    {
     "data": {
      "image/png": "[encoded data removed]",
      "text/plain": [
       "<Figure size 400x300 with 1 Axes>"
      ]
     },
     "metadata": {
      "needs_background": "light"
     },
     "output_type": "display_data"
    }
   ],
   "source": [
    "df = df_score\n",
    "\n",
    "col_groupby = ['model']\n",
    "\n",
    "x, y = 'threshold', 'recall'\n",
    "x_label, y_label = x, y \n",
    "\n",
    "plt.rcParams[\"figure.dpi\"] = 100\n",
    "plt.rcParams[\"figure.figsize\"] = (4,3)\n",
    "for index, (name, group) in enumerate(df.groupby(col_groupby)):\n",
    "    plt.scatter(group[x], group[y], label = name,  s = 10, alpha = 0.9) # , marker=[\"^\", \"o\", \"s\"][index], s = 5000000* group['T2_Alumina_AF'], \n",
    "\n",
    "plt.legend(bbox_to_anchor=(1.05, 0.6), fontsize = 12, loc='upper left', borderaxespad=0.2, edgecolor = 'grey')\n",
    "plt.xlabel(x_label, fontsize = 12)\n",
    "plt.ylabel(y_label, fontsize = 12)\n",
    "plt.show();"
   ]
  },
  {
   "cell_type": "markdown",
   "metadata": {},
   "source": [
    "## LR: without and with *class_weight* (Class imbalance)"
   ]
  },
  {
   "cell_type": "markdown",
   "metadata": {},
   "source": [
    "* Similar to the "
   ]
  },
  {
   "cell_type": "code",
   "execution_count": 58,
   "metadata": {},
   "outputs": [
    {
     "name": "stdout",
     "output_type": "stream",
     "text": [
      "Normal Logistic Regression Test F1: 0.406, Test AUC: 0.841\n",
      "Balanced class weights Logistic Regression Test F1: 0.614, Test AUC: 0.842\n",
      "4:1 class weights Logistic Regression Test F1: 0.633, Test AUC: 0.841\n"
     ]
    }
   ],
   "source": [
    "lr = LogisticRegression(solver='liblinear') \n",
    "lr_balanced = LogisticRegression(class_weight='balanced', solver='liblinear')\n",
    "lr_4x = LogisticRegression(class_weight={1 : 4, 0 : 1}, solver='liblinear')\n",
    "\n",
    "lr.fit(X_train, y_train)\n",
    "print('Normal Logistic Regression Test F1: %.3f, Test AUC: %.3f' % \\\n",
    "      (f1_score(y_test, lr.predict(X_test)), roc_auc_score(y_test, lr.predict_proba(X_test)[:,1])))\n",
    "\n",
    "lr_balanced.fit(X_train, y_train)\n",
    "print('Balanced class weights Logistic Regression Test F1: %.3f, Test AUC: %.3f' % \\\n",
    "      (f1_score(y_test, lr_balanced.predict(X_test)), roc_auc_score(y_test, lr_balanced.predict_proba(X_test)[:,1])))\n",
    "\n",
    "lr_4x.fit(X_train, y_train)\n",
    "print('4:1 class weights Logistic Regression Test F1: %.3f, Test AUC: %.3f' % \\\n",
    "      (f1_score(y_test, lr_4x.predict(X_test)), roc_auc_score(y_test, lr_4x.predict_proba(X_test)[:,1])));"
   ]
  },
  {
   "cell_type": "markdown",
   "metadata": {},
   "source": [
    "## Gradient boost: without and with oversampling"
   ]
  },
  {
   "cell_type": "markdown",
   "metadata": {},
   "source": [
    "Oversampling improves the recall from 0.61 to 0.68\n",
    "* X_train, y_train: without oversampling\n",
    "* X_train_os, y_train_os: oversampled\n",
    "* Again: the test dataset is not resampled at all!, so that the model performance is comparable"
   ]
  },
  {
   "cell_type": "code",
   "execution_count": 59,
   "metadata": {},
   "outputs": [
    {
     "name": "stdout",
     "output_type": "stream",
     "text": [
      "(8000, 9) (1000, 9) (8000, 1) (1000, 1)\n"
     ]
    }
   ],
   "source": [
    "# !conda install -y -c conda-forge xgboost\n",
    "\n",
    "import pandas as pd\n",
    "import seaborn as sns\n",
    "from sklearn.datasets import fetch_california_housing\n",
    "from sklearn.datasets import load_breast_cancer\n",
    "from sklearn.metrics import accuracy_score\n",
    "import xgboost as xgb\n",
    "\n",
    "X_train, X_test, y_train, y_test = X_train_copy, X_test_copy, y_train_copy, y_test_copy\n",
    "print(X_train.shape, X_test.shape, y_train.shape, y_test.shape)"
   ]
  },
  {
   "cell_type": "code",
   "execution_count": 60,
   "metadata": {},
   "outputs": [
    {
     "name": "stdout",
     "output_type": "stream",
     "text": [
      "[0]\tvalidation_0-error:0.07025\tvalidation_1-error:0.06400\n",
      "[10]\tvalidation_0-error:0.07612\tvalidation_1-error:0.06800\n",
      "[20]\tvalidation_0-error:0.07575\tvalidation_1-error:0.07300\n",
      "[30]\tvalidation_0-error:0.07525\tvalidation_1-error:0.06900\n",
      "[40]\tvalidation_0-error:0.07200\tvalidation_1-error:0.06900\n",
      "[49]\tvalidation_0-error:0.06950\tvalidation_1-error:0.06500\n",
      "accuracy: 0.936\n",
      "recall: 0.5652173913043478\n"
     ]
    }
   ],
   "source": [
    "# regular XGBoost model\n",
    "\n",
    "gbm = xgb.XGBClassifier( n_estimators=30000, max_depth=4, objective='binary:logistic', learning_rate=.05, \n",
    "                        subsample=.8, min_child_weight=3, colsample_bytree=.8)\n",
    "\n",
    "eval_set=[(X_train,y_train),(X_test,y_test)]\n",
    "\n",
    "fit_model = gbm.fit(X_train, y_train, eval_set=eval_set,eval_metric='error', #new evaluation metric: classification error (could also use AUC, e.g.)\n",
    "                    early_stopping_rounds=50, verbose=10)\n",
    "\n",
    "print('accuracy:', accuracy_score(y_test, gbm.predict(X_test, ntree_limit=gbm.best_ntree_limit)))\n",
    "print('recall:', recall_score(y_test, gbm.predict(X_test, ntree_limit=gbm.best_ntree_limit)))"
   ]
  },
  {
   "cell_type": "code",
   "execution_count": 61,
   "metadata": {},
   "outputs": [
    {
     "name": "stdout",
     "output_type": "stream",
     "text": [
      "n_pos = 735 , n_neg = 7265\n",
      "[0]\tvalidation_0-error:0.14473\tvalidation_1-error:0.06400\n",
      "[10]\tvalidation_0-error:0.14238\tvalidation_1-error:0.06100\n",
      "[20]\tvalidation_0-error:0.13944\tvalidation_1-error:0.06100\n",
      "[30]\tvalidation_0-error:0.13944\tvalidation_1-error:0.06100\n",
      "[40]\tvalidation_0-error:0.13964\tvalidation_1-error:0.06100\n",
      "[50]\tvalidation_0-error:0.13964\tvalidation_1-error:0.06100\n",
      "accuracy: 0.939\n",
      "recall: 0.6413043478260869\n"
     ]
    }
   ],
   "source": [
    "# XGBoost model with oversampling\n",
    "\n",
    "import imblearn.over_sampling\n",
    "n_pos = y_train[y_train[col_y] == 1].dropna().shape[0]\n",
    "n_neg = y_train[y_train[col_y] == 0].dropna().shape[0]\n",
    "ratio = {1 : n_pos * 4, 0 : n_neg} \n",
    "print('n_pos =', n_pos, ', n_neg =', n_neg)\n",
    "\n",
    "ROS = imblearn.over_sampling.RandomOverSampler(sampling_strategy = ratio, random_state=42) \n",
    "X_train_rs, y_train_rs = ROS.fit_resample(X_train, y_train)\n",
    "\n",
    "gbm = xgb.XGBClassifier( n_estimators=30000, max_depth=4, objective='binary:logistic', learning_rate=.05, \n",
    "                        subsample=.8, min_child_weight=3, colsample_bytree=.8)\n",
    "\n",
    "eval_set=[(X_train_rs,y_train_rs),(X_test,y_test)]\n",
    "\n",
    "fit_model = gbm.fit(X_train_rs, y_train_rs,  eval_set=eval_set,eval_metric='error', #new evaluation metric: classification error (could also use AUC, e.g.)\n",
    "                    early_stopping_rounds=50, verbose=10)\n",
    "\n",
    "print('accuracy:', accuracy_score(y_test, gbm.predict(X_test, ntree_limit=gbm.best_ntree_limit)))\n",
    "print('recall:', recall_score(y_test, gbm.predict(X_test, ntree_limit=gbm.best_ntree_limit)))"
   ]
  },
  {
   "cell_type": "code",
   "execution_count": 62,
   "metadata": {},
   "outputs": [
    {
     "name": "stdout",
     "output_type": "stream",
     "text": [
      "[0]\tvalidation_0-error:0.07550\tvalidation_1-error:0.06400\n",
      "[10]\tvalidation_0-error:0.07250\tvalidation_1-error:0.06100\n",
      "[20]\tvalidation_0-error:0.07250\tvalidation_1-error:0.06100\n",
      "[30]\tvalidation_0-error:0.07250\tvalidation_1-error:0.06100\n",
      "[40]\tvalidation_0-error:0.07275\tvalidation_1-error:0.06100\n",
      "[50]\tvalidation_0-error:0.07275\tvalidation_1-error:0.06100\n"
     ]
    }
   ],
   "source": [
    "gbm = xgb.XGBClassifier( n_estimators=30000, max_depth=4, objective='binary:logistic', learning_rate=.05, \n",
    "                        subsample=.8, min_child_weight=3, colsample_bytree=.8)\n",
    "\n",
    "eval_set=[(X_train,y_train),(X_test,y_test)]\n",
    "fit_model = gbm.fit(X_train_rs, y_train_rs,  eval_set=eval_set,eval_metric='error', #new evaluation metric: classification error (could also use AUC, e.g.)\n",
    "                    early_stopping_rounds=50, verbose=10)\n",
    "\n",
    "model = gbm\n",
    "model_final = gbm\n",
    "\n",
    "# model = RandomForestClassifier()\n",
    "# model.fit(X_train, y_train)\n",
    "\n",
    "thresh_ps = np.linspace(0.01,0.99,1000)\n",
    "y_predict_probs = model.predict_proba(X_test)[:,1] # positive class probs, same basic logistic model we fit in section 2 \n",
    "\n",
    "all_scores = []\n",
    "\n",
    "for p in thresh_ps:\n",
    "    y_pred = y_predict_probs >= p\n",
    "    \n",
    "#     print(type(y_test), type(y_pred))\n",
    "    \n",
    "    TN, FP, FN, TP = confusion_matrix(y_test, y_pred).ravel()\n",
    "\n",
    "    TPR = TP/(TP+FN) # Sensitivity, hit rate, recall, or true positive rate\n",
    "    TNR = TN/(TN+FP) # Specificity or true negative rate\n",
    "    PPV = TP/(TP+FP) # Precision or positive predictive value\n",
    "    NPV = TN/(TN+FN) # Negative predictive value\n",
    "    FPR = FP/(FP+TN) # Fall out or false positive rate\n",
    "    FNR = FN/(TP+FN) # False negative rate\n",
    "    FDR = FP/(TP+FP) # False discovery rate\n",
    "    ACC = (TP+TN)/(TP+FP+FN+TN)  # Overall accuracy\n",
    "    \n",
    "    all_scores.append([p, TN, FP, FN, TP,\n",
    "                       f1_score(y_test, y_pred), precision_score(y_test, y_pred),\n",
    "                       recall_score(y_test, y_pred), accuracy_score(y_test, y_pred),\n",
    "                      TPR, TNR, PPV, NPV, FPR, FNR, FDR, ACC])\n",
    "\n",
    "all_names = ['threshold', 'TN', 'FP', 'FN', 'TP', 'f1', 'precision', 'recall', 'accuracy', 'TPR', 'TNR', 'PPV', 'NPV', 'FPR', 'FNR', 'FDR', 'ACC']\n",
    "\n",
    "df = pd.DataFrame(all_scores)\n",
    "df.columns = all_names\n",
    "\n",
    "df_score = df"
   ]
  },
  {
   "cell_type": "code",
   "execution_count": 63,
   "metadata": {},
   "outputs": [
    {
     "data": {
      "image/png": "[encoded data removed]",
      "text/plain": [
       "<Figure size 600x400 with 1 Axes>"
      ]
     },
     "metadata": {
      "needs_background": "light"
     },
     "output_type": "display_data"
    }
   ],
   "source": [
    "df = df_score\n",
    "col_plot = ['accuracy', 'f1', 'precision',  'recall']\n",
    "\n",
    "plt.figure(figsize=(6,4), dpi=100)\n",
    "\n",
    "for col in col_plot:\n",
    "    linewidth = 4 if col == 'recall' else 2\n",
    "    plt.plot(df['threshold'], df[col], linewidth = linewidth, linestyle = None)\n",
    "    \n",
    "plt.title('Metric Scores vs. Positive Class Decision Probability Threshold')\n",
    "plt.legend(col_plot, bbox_to_anchor=(1.05, 0), loc='lower left')\n",
    "plt.xlabel('P threshold')\n",
    "plt.ylabel('Metric score')\n",
    "plt.show();"
   ]
  },
  {
   "cell_type": "markdown",
   "metadata": {},
   "source": [
    "# - - - Part 4: Final model - - - "
   ]
  },
  {
   "cell_type": "markdown",
   "metadata": {},
   "source": [
    "# Final model\n",
    "* Moment of Turth!\n",
    "\n",
    "In order to optimize the model performance (particularly the recall)\n",
    "* We tested multiple classification models: KNN, LR, Tree, Forest, NaiveBayes, SVC, Ensemble, Boost\n",
    "* We used the GridSearchCV to find the best parameters\n",
    "* We examined the threshold adjustment\n",
    "* We used class imbalance (oversampling and class_weight)\n",
    "\n",
    "This is what we have observed:\n",
    "* All models report a ~ 0.6 recall unless we sacrifice significantly on the accuracy\n",
    "\n",
    "At the last, we will test this on the holdout dataset"
   ]
  },
  {
   "cell_type": "code",
   "execution_count": 64,
   "metadata": {},
   "outputs": [
    {
     "name": "stdout",
     "output_type": "stream",
     "text": [
      "accuracy: 0.905\n",
      "precision: 0.514\n",
      "recall: 0.551\n",
      "f1: 0.532\n"
     ]
    },
    {
     "data": {
      "image/png": "[encoded data removed]",
      "text/plain": [
       "<Figure size 400x300 with 2 Axes>"
      ]
     },
     "metadata": {
      "needs_background": "light"
     },
     "output_type": "display_data"
    }
   ],
   "source": [
    "model_final = LogisticRegression()\n",
    "model_final.fit(X_train, y_train)\n",
    "\n",
    "y_pred = (model_final.predict_proba(X_holdout)[:, 1] >= 0.1)\n",
    "\n",
    "confusion_matrix(y_holdout, y_pred)\n",
    "\n",
    "print('accuracy:', round(accuracy_score(y_holdout, y_pred), 3))\n",
    "print('precision:', round(precision_score(y_holdout, y_pred), 3))\n",
    "print('recall:', round(recall_score(y_holdout, y_pred), 3))\n",
    "print('f1:', round(f1_score(y_holdout, y_pred), 3))\n",
    "\n",
    "sns.heatmap(confusion_matrix(y_holdout, y_pred), cmap=plt.cm.Blues, annot=True, square=True,\n",
    "           xticklabels = target_values,\n",
    "           yticklabels = target_values)\n",
    "plt.xlabel('Predicted')\n",
    "plt.ylabel('Actual')\n",
    "plt.title('Confusion matrix')\n",
    "plt.yticks(rotation=0);"
   ]
  },
  {
   "cell_type": "code",
   "execution_count": null,
   "metadata": {},
   "outputs": [],
   "source": []
  },
  {
   "cell_type": "code",
   "execution_count": null,
   "metadata": {},
   "outputs": [],
   "source": []
  }
 ],
 "metadata": {
  "kernelspec": {
   "display_name": "Python 3",
   "language": "python",
   "name": "python3"
  },
  "language_info": {
   "codemirror_mode": {
    "name": "ipython",
    "version": 3
   },
   "file_extension": ".py",
   "mimetype": "text/x-python",
   "name": "python",
   "nbconvert_exporter": "python",
   "pygments_lexer": "ipython3",
   "version": "3.7.1"
  },
  "toc": {
   "base_numbering": 1,
   "nav_menu": {},
   "number_sections": false,
   "sideBar": true,
   "skip_h1_title": false,
   "title_cell": "Table of Contents",
   "title_sidebar": "Contents",
   "toc_cell": false,
   "toc_position": {
    "height": "618.4px",
    "left": "0px",
    "right": "1324px",
    "top": "111.6px",
    "width": "332.6px"
   },
   "toc_section_display": false,
   "toc_window_display": true
  }
 },
 "nbformat": 4,
 "nbformat_minor": 4
}
